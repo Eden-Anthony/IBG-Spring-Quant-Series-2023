{
  "cells": [
    {
      "cell_type": "markdown",
      "metadata": {
        "id": "U__H_t1hkcQI"
      },
      "source": [
        "# Quantitative Trading Course\n",
        "## _Imperial Blockchain Group_\n",
        "### Lecture 0 - An introduction to Python\n",
        "#### Lead Instructor: **Ahmad Danesh**"
      ]
    },
    {
      "cell_type": "markdown",
      "metadata": {
        "id": "514LNUnukcQM"
      },
      "source": [
        "Welcome to the Quantitative Trading Group by Imperial Blockchain Group in collaboration with the following societies:\n",
        "- Imperial College Data Science Society\n",
        "- Imperial College FinTech Society\n",
        "- Imperial College Algorithmic Trading Society\n",
        "\n",
        "Over the course of this session, you will be able to understand the bare basics of Python required for the course and understand the nature of Python and how to think appropriately when writing code to solve quantitative trading problems. \n",
        "\n",
        "We do **NOT** expect anyone to have mastered Python before the start the course since often the teaching in Python so far has been lacklustre and confusing. The team and I at IBG aim to help you understand Python effectively whilst also diving deeper into the realms of relatively more advanced topics e.g. functions and OOP and touching briefly on the Computer Science (CS) theory that drives some of the design decisions in Python. \n",
        "\n",
        "There will be Amazon codes throughout the lecture so try and spot them when you can and execute them before your fellow peers claim them!\n",
        "If they're gone, **they're gone!**\n",
        "\n",
        "If you've previously done the Imperial College Investment Society's Systematic Trading Education Certificate (\"STEC\", led by Brendan Patalong) and you were lost throughout that course, **you've definitely come to the right place!** At IBG, we aim to deliver the best quality explanations and ensure that your experience is best optimised rather than delivering lacklustre sessions. So, be sure that the next 7 weeks will be very entertaining!\n",
        "\n",
        "This introduction to Python will serve you best for future hackathons (more news on that in the coming weeks) and in your general career. \n",
        "\n",
        "_Do keep this notebook if it helps you in future studies or your career - it's a great portfolio of work and a reference point to remind yourself of how to complete certain procedures and tasks in Python!_\n",
        "\n",
        "Other than that, welcome to IBG's Quantitative Trading Course and all the best!\n",
        "\n",
        "Best wishes, \n",
        "<br>**Ahmad Danesh**\n",
        "<br>Quantitative Trading Lead\n",
        "<br>Imperial Blockchain Group\n",
        "\n",
        "Securities Education Certificate Lead Lecturer (2021-23)\n",
        "<br>Investment Society, Imperial College London"
      ]
    },
    {
      "cell_type": "markdown",
      "metadata": {
        "id": "o4svjsFpkcQN"
      },
      "source": [
        "## 1. Course Structure"
      ]
    },
    {
      "cell_type": "markdown",
      "metadata": {
        "id": "GYeokwMqkcQP"
      },
      "source": [
        "The course is split into 6 sessions (as of the 16th of January):\n",
        "\n",
        "0. An Introduction to Python (by Ahmad Danesh i.e. me)\n",
        "1. An Introduction to Pandas (by Imran Khan, IBG President)\n",
        "2. Exchange API & Instrument Fundamentals\n",
        "3. Intro to DefI (by GSR)\n",
        "4. Maximal Extractable Value (MEV) Strategies (GSR)\n",
        "5. Risk Management\n",
        "6. Onchain Options (Opyn)\n",
        "\n",
        "Sessions 1-6 **should** be in-person where Pizzas and Prizes are up for grabs! They'll be held every Tuesday from 6:15-7:30pm in CAGB 200. \n",
        "\n",
        "**Do come along!**"
      ]
    },
    {
      "cell_type": "markdown",
      "metadata": {
        "id": "R5VDXN0tkcQQ"
      },
      "source": [
        "## 2. The motivations of programming"
      ]
    },
    {
      "cell_type": "markdown",
      "metadata": {
        "id": "gtMrA6BukcQQ"
      },
      "source": [
        "### 2.1 Why would we want to program in the first place?"
      ]
    },
    {
      "cell_type": "markdown",
      "metadata": {
        "id": "noamjRekkcQR"
      },
      "source": [
        "Programming means that we can get the computer to do tasks that we (as humans) aren't very efficient at. Therefore, computers _tend_ to give better accuracy than humans **BUT** not all of the time - this does, of course, vary on a case-by-case basis. \n",
        "\n",
        "For this reason, computers are useful for some problems far beyond our abilities in some fields e.g. Maths where differential equations can't be solved by hand and need a computer to figure out a solution. More commonly, computers help you to connect with other *machines* on the internet so that you can buy items, control another piece of hardware and much more!\n",
        "\n",
        "As computers are driven by solid-state hardware, they're faster than any human could ever be. A lot of stock markets now run on computers where millions (and soon-to-be billions) of sales are made every second. In quantitative trading, being delayed by even a fraction of a millisecond could cost a firm millions so it's important to be as quick as possible and that's the power that computers bring to the table. \n",
        "\n",
        "More importantly... **it's fun** to learn programming! Yes, trying something new can be daunting whether that's programming or trying a new sport/hobby. However, provided that you have a good teacher/instructor that guides you through the weeds and the trees, you'll end up acclimatising to your new surroundings as soon as you're done with the course. \n",
        "\n",
        "Always remember: _No one is ever a bad student: only a bad <u>teacher</u> is the reason why you suck!_"
      ]
    },
    {
      "cell_type": "markdown",
      "metadata": {
        "id": "ahJILx-BkcQR"
      },
      "source": [
        "### 2.2 How do computers <u>think</u>?"
      ]
    },
    {
      "cell_type": "markdown",
      "metadata": {
        "id": "r8_8LXN3kcQR"
      },
      "source": [
        "Saying that computers think can be argued to be a loosely-deifned term. More precisely, it's important to understand how computers <u>process</u> instructions accordingly at the very heart of the computer's hardware. \n",
        "\n",
        "Most machines (including computers) use something called **machine code** to, well... \"think\". It's best to think of Machine Code as essentially the pure, raw, untranslated version of the instructions that they use to perform specific tasks. They do look quite cryptic (and they probably do if you're a beginner) but each line has a specific meaning attached.\n",
        "\n",
        "Take the following machine code below:"
      ]
    },
    {
      "cell_type": "markdown",
      "metadata": {
        "id": "FokI1DsIkcQS"
      },
      "source": [
        "![image.png](attachment:image.png)"
      ]
    },
    {
      "cell_type": "markdown",
      "metadata": {
        "id": "j-wT_XIJkcQS"
      },
      "source": [
        "This machine code was taken from a 32-byte Linux System and shows the machine code used to display the beginner-friendly phrase _\"Hello World\"_. \n",
        "\n",
        "Clearly, it's quite obvious that for human beings like ourselves, writing this code for displaying a message to a screen is a lot of effort and rather inefficient if we're going to be doing much more complex operations such as moving shapes around a screen or performing specific calculations. \n",
        "\n",
        "Machine code then feeds to the heart of the computer i.e. the Central Processing Unit (CPU). The CPU is where the code is executed and the computer shows us the result of the CPU's hard work. \n",
        "\n",
        "Now, I'm sure you're going to understand where we are going. _How do we program a computer to do complicated tasks for us **if** machine code is far too advanced for generic humans like us?_\n",
        "\n",
        "To solve this, many smart scientists developed _higher-level programming languages_ that are more similar to the languages that you and I speak in to each other every day. The one that we're probably accustomed to at Imperial and is today the subject of Lecture 0 is **Python** itself. \n",
        "\n",
        "So, let's delve a bit more into Python to see what it's about. "
      ]
    },
    {
      "cell_type": "markdown",
      "metadata": {
        "id": "kMATnuTckcQS"
      },
      "source": [
        "### 2.3 A small history of a big Python"
      ]
    },
    {
      "cell_type": "markdown",
      "metadata": {
        "id": "fHkA7zDQkcQT"
      },
      "source": [
        "Python was essentially a hobby project for one Guido Van Rossum of the Netherlands. Wanting an easy-to-understand language that could be open source, Guido released Python in 1991 and it's a huge programming language today. It exists in every cornerstone of technology and it could take an entire day to talk about its implementations across the world although one of its biggest impacts is in Quantitative Trading (hence the subject of today's lecture). \n",
        "\n",
        "The structure of Python is actually quite smart:"
      ]
    },
    {
      "cell_type": "markdown",
      "metadata": {
        "id": "66F9o16skcQT"
      },
      "source": [
        "![image.png](attachment:image.png)\n",
        "<br>N.B. if you're unable to see this image, try using a light theme of Jupyter notebook!"
      ]
    },
    {
      "cell_type": "markdown",
      "metadata": {
        "id": "0trZNvSukcQT"
      },
      "source": [
        "To keep it short, the high-level code that any average human writes is processed through several stages. \n",
        "\n",
        "First, the compiler tries to put your program together expecting no errors. If errors exist, the compiler sends a message to tell you that something has messed up!\n",
        "\n",
        "Next, the compiler translates the code into Bytecode and is passed onto the Python Virtual Machine (PVM). The PVM ensures that no matter what machine you are using, the code will work 100% of the time. This is because different machines have different architectures (i.e. different \"plans\" like in building architecture) so the PVM ensures that whether you are using a Mac or a Lenovo, your code produces the most suitable machine code for your machine. \n",
        "\n",
        "After that, the machine code is generated and is passed onto the CPU for execution to give you the result that you want!\n",
        "\n",
        "Short and simple, eh?"
      ]
    },
    {
      "cell_type": "markdown",
      "metadata": {
        "id": "6CoA8Yt_kcQT"
      },
      "source": [
        "### 2.4 A toolbox for Python - let's assemble them."
      ]
    },
    {
      "cell_type": "markdown",
      "metadata": {
        "id": "8m4_9i0SkcQT"
      },
      "source": [
        "Coding in Python isn't actually a challenge. In fact, it's knowing what tools to use is what tends to be the bigger challenge. \n",
        "\n",
        "There are 3 main things that you need to become familiar with before you ever start programming:\n",
        "\n",
        "1. The editor. \n",
        "\n",
        "If you ever open a Word document, there's a blank space there ready for you to start typing. In programming, it's the same. The blank space that you use is known as the **editor**. I think that's a pretty straightforward idea, no?\n",
        "\n",
        "2. Integrated Development Environment (IDE)\n",
        "\n",
        "A bit more wordy but essentially, an environment is the workplace where you develop your code. Just like the Amazon rainforest environment has different trees and animals, your programming environment has different tools and languages that you use to get your job done!\n",
        "\n",
        "Integrated refers to the fact that your tools all live under one roof (including the editor, compiler etc.) and, well... _development_ is what you're doing when you're programming. \n",
        "\n",
        "3. Shell\n",
        "\n",
        "A shell is a bit harder to understand. Essentially, your operating system (Mac, Windows, Linux etc.) isn't exactly open to accepting all different types of commands. It can run commands as much as you please but to actually get the right message across and prevent unauthorised / ill advised actions, the shell wraps around the core of the operating system and acts as a middleman to mediate commands from you to the centre of the computer. \n",
        "\n",
        "If you get the wrong commands or you do something wrong, the shell will refuse to run your code and it will give you an error. \n",
        "\n",
        "**Remember to respect your shell and learn Python as accurately as possible, accordingly!**\n",
        "\n",
        "Before we start, _please_ download an IDE: we recommend Visual Studio <u>Code</u> for this course and beyond! It's free and it works on Mac and Windows. \n",
        "\n",
        "_Let's get cracking!_"
      ]
    },
    {
      "cell_type": "markdown",
      "metadata": {
        "id": "z4G0qLj2kcQU"
      },
      "source": [
        "## 3. Writing our very first line of code..."
      ]
    },
    {
      "cell_type": "markdown",
      "metadata": {
        "id": "efHFc-5vkcQU"
      },
      "source": [
        "### 3.1. Hello World!"
      ]
    },
    {
      "cell_type": "markdown",
      "metadata": {
        "id": "Tb35q3rjkcQU"
      },
      "source": [
        "Let's write our very first line of code. \n",
        "\n",
        "To do this, go to file > new file. (Alternatively, if you're on Jupyter Notebook, just make a new notebook and insert a new cell.)\n",
        "\n",
        "Here, write the following:\n",
        "\n",
        "    print(\"Hello World\")"
      ]
    },
    {
      "cell_type": "code",
      "execution_count": null,
      "metadata": {
        "id": "0FE9sPGhkcQU"
      },
      "outputs": [],
      "source": [
        "# try to type the code you see above in this cell (underneath this line, in the space below)\n"
      ]
    },
    {
      "cell_type": "markdown",
      "metadata": {
        "id": "qoFAQciLkcQV"
      },
      "source": [
        "Nice. \n",
        "\n",
        "Before you choose to run this code, I'd suggest you add the Python extension via VSCode's marketplace. You'll receive extra functionality and support specifically towards Python to make your life easier. \n",
        "\n",
        "Once you've installed the extension, press play (or alternatively use the SHIFT + ENTER shortcut in Jupyter) and see the magic unfold!\n",
        "\n",
        "    Hello World"
      ]
    },
    {
      "cell_type": "markdown",
      "metadata": {
        "id": "Q1r8tsmwkcQV"
      },
      "source": [
        "Well done - you've just written your first line of code!\n",
        "\n",
        "You just got your machine to display your own message to the screen!"
      ]
    },
    {
      "cell_type": "markdown",
      "metadata": {
        "id": "brLZ3DhwkcQV"
      },
      "source": [
        "_Fun fact_: The idea of \"Hello World\" is often attributed to a legendary Computer Scientist called Brian Kernighan while he was working at Bell Laboratories in 1974. \n",
        "\n",
        "Brian created his own language called \"B\" where he wrote a book including the classic \"hello world\" message to the screen as part of a tutorial on the \"B\" language. \n",
        "\n",
        "As some of you may have guessed, \"B\" later gave rise to \"C\", a language that some of you often have the nightmare or the pleasure to deal with (depending on which side you lie)."
      ]
    },
    {
      "cell_type": "markdown",
      "metadata": {
        "id": "Nzl0pUpmkcQW"
      },
      "source": [
        "Let's examine this code a bit further. \n",
        "We start with using a specific word here:\n",
        "\n",
        "    print\n",
        "\n",
        "This is known as a **keyword** - specifically, it is a _function keyword_ that helps tell the computer what type of action we want the computer to do.  \n",
        "\n",
        "We include brackets as part of this \"action\" notation (which is **INTENTIONAL** as you will see later when we discuss the idea of functions!). Inside this round brackets, we include two words surrounded by quotation marks:\n",
        "\n",
        "    \"Hello World\"\n",
        "\n",
        "This is known as a string. Essentially, it's a string of different characters that we can 'string' together to make a word or a sentence."
      ]
    },
    {
      "cell_type": "markdown",
      "metadata": {
        "id": "JzlGDQC3kcQW"
      },
      "source": [
        "As you might have guessed, we can't just type whatever we want in the way that we want i.e. we have to follow a specific format. For instance, try running the following:\n",
        "\n",
        "    Print(\"Hello World\")\n"
      ]
    },
    {
      "cell_type": "code",
      "execution_count": null,
      "metadata": {
        "id": "QFhhbmUUkcQW"
      },
      "outputs": [],
      "source": [
        "# Try running the line above where P in the function keyword is capitalised:\n"
      ]
    },
    {
      "cell_type": "markdown",
      "metadata": {
        "id": "zKU3aJjvkcQW"
      },
      "source": [
        "As you might have been able to guess, you **cannot** capitalise a function keyword in Python. \n",
        "\n",
        "Also, you can't do the following:\n",
        "\n",
        "    print\"(Hello World)\"\n",
        "\n",
        "Again, big no-no! The rounded brackets or 'parentheses' have to be outside the quotation marks. Why? They're function _arguments_, which we will revisit later. \n",
        "\n",
        "The point I'm trying to make is that there are rules that exist in programming and we call this the **syntax**. In English, a syntax exists in the way that we articulate each phrase... it's called grammar! Syntax in Programming is just what we would call the rules of grammar in English. "
      ]
    },
    {
      "cell_type": "markdown",
      "metadata": {
        "id": "A5KecubRkcQX"
      },
      "source": [
        "### 3.2. Variables"
      ]
    },
    {
      "cell_type": "markdown",
      "metadata": {
        "id": "mRQLjZMXkcQX"
      },
      "source": [
        "However, what if we want to store our \"Hello World\" message and use it for later? We might not need it now but we may make use of it later!\n",
        "\n",
        "This is where the idea of variables come in. With variables, you can attach programming stuff like strings in the computer's memory and retrieve it later for when you need it (just like a human brain when we need to remember things!)\n",
        "\n",
        "I prefer to think of variables like those cardboard boxes where you store things in them, put a name on them and put them away in the attic for when you need them - computer variables are virtually identical in this way. \n",
        "\n",
        "To do this in Python, we do something called variable initialisation:\n",
        "\n",
        "    myString = \"Hello World\"\n",
        "\n",
        "Try running it below!"
      ]
    },
    {
      "cell_type": "code",
      "execution_count": null,
      "metadata": {
        "id": "4v1g1eODkcQX"
      },
      "outputs": [],
      "source": [
        "# Store the \"Hello World\" string to a variable.\n"
      ]
    },
    {
      "cell_type": "markdown",
      "metadata": {
        "id": "sp9k7N7FkcQX"
      },
      "source": [
        "To then print the string, simply use the variable name instead:\n",
        "    \n",
        "    print(myString)"
      ]
    },
    {
      "cell_type": "code",
      "execution_count": null,
      "metadata": {
        "id": "WjTeRR2skcQX"
      },
      "outputs": [],
      "source": [
        "# Try to print myString to the screen\n"
      ]
    },
    {
      "cell_type": "markdown",
      "metadata": {
        "id": "v4I5RsHgkcQX"
      },
      "source": [
        "It's as simple as that!\n",
        "\n",
        "There is also another idea when working with variables called variable _declaration_ but that's far beyond what Python does. So, we won't cover it. \n",
        "\n",
        "Just remember, we're **initialising** variables, **NOT** declaring them (ish). "
      ]
    },
    {
      "cell_type": "markdown",
      "metadata": {
        "id": "iDf1FIznkcQX"
      },
      "source": [
        "#### 3.2.2. Naming variables"
      ]
    },
    {
      "cell_type": "markdown",
      "metadata": {
        "id": "kfiEiTNOkcQX"
      },
      "source": [
        "In theory, you can name variables however you wish. However, just like organic chemists have to have a unified system to keep everyone happy and avoid complaints, programmers also have a naming convention for declaring variable names. \n",
        "\n",
        "1. **PLEASE** be careful with the name that you give a variable. If the name is too vague or too long, your fellow programmers will spend ages trying to work out what your code is doing!\n",
        "\n",
        "2. You **CANNOT** start a variable name with a number. Simply, that's not allowed!\n",
        "\n",
        "3. (Recommended) Use camelCase to name your variables\n",
        "\n",
        "e.g. \n",
        "\n",
        "    money_spent_by_every_customer_last_year_male\n",
        "\n",
        "is too long a name. \n",
        "\n",
        "Likewise:\n",
        "\n",
        "    r_m_22\n",
        "\n",
        "is too value and doesn't tellme what the variable actually stands for. \n",
        "\n",
        "This, however is suitable:\n",
        "\n",
        "    revenue_male_2022\n",
        "\n",
        "Simple, clean and efficient!\n",
        "\n",
        "I prefer to use something called camelCase which is where the first letter of the word is loewrcase but all subsequent words that appear in the variable are uppercase:\n",
        "\n",
        "    revenueMale2022\n",
        "\n",
        "Much more cleaner without those underscores!"
      ]
    },
    {
      "cell_type": "markdown",
      "metadata": {
        "id": "se315zbekcQX"
      },
      "source": [
        "### 3.2.3. Variable Types"
      ]
    },
    {
      "cell_type": "markdown",
      "metadata": {
        "id": "aafozMtskcQX"
      },
      "source": [
        "Do we just use strings in programming? Certainly not!\n",
        "\n",
        "In Python, we can use more than one *type* of data:\n",
        "\n",
        "- Strings (e.g. `\"computer\"`)\n",
        "- Integers (e.g. `42`)\n",
        "- Float (e.g. `1.45`)\n",
        "- Boolean (`True` or `False`)\n",
        "\n",
        "Floats are inherently useful when we're working with numbers involving decimals - of course, when we're working in Crypto markets, we're going to be using prices or quotes with decimal numbers. \n",
        "\n",
        "Boolean types are rarer but you will see them when we discuss the idea of selection and iteration. Most of the time however, you will encounter strings and integers during your time as a beginner although it's nice to see how other data types do exist. "
      ]
    },
    {
      "cell_type": "markdown",
      "metadata": {
        "id": "fOFrdC8IkcQY"
      },
      "source": [
        "### 3.3. Doing maths with arithmetic operations."
      ]
    },
    {
      "cell_type": "markdown",
      "metadata": {
        "id": "3bhTrAqNkcQY"
      },
      "source": [
        "We can all do maths! We know of addition, subtraction, division etc. all from the world of BIDMAS. You can perform arihmetic operations in Python using a selection of operators:\n",
        "\n",
        "- Add (`+`)\n",
        "- Subtract (`-`)\n",
        "- Divide (`/`)\n",
        "- Multiply (`*`)\n",
        "- Exponentiate (`**`) i.e. raise to the power or \"indicies\"\n",
        "- Modulus (`%`) i.e. the remainder of a division operation.\n",
        "\n",
        "Let's go through each one in turn so that we're aware of what's going on. "
      ]
    },
    {
      "cell_type": "code",
      "execution_count": null,
      "metadata": {
        "id": "_Yhg3NXgkcQY"
      },
      "outputs": [],
      "source": [
        "# adding two numbers\n",
        "print(1+3)"
      ]
    },
    {
      "cell_type": "code",
      "execution_count": null,
      "metadata": {
        "id": "fbKtFk-YkcQY"
      },
      "outputs": [],
      "source": [
        "# subtracting two numbers\n",
        "print(12-3)"
      ]
    },
    {
      "cell_type": "code",
      "execution_count": null,
      "metadata": {
        "id": "E4roBPv6kcQY"
      },
      "outputs": [],
      "source": [
        "# dividing two numbers\n",
        "print(25/5)"
      ]
    },
    {
      "cell_type": "code",
      "execution_count": null,
      "metadata": {
        "id": "urBe2aJpkcQY"
      },
      "outputs": [],
      "source": [
        "# raise a number to a power\n",
        "# 3 cubed\n",
        "print(3**3)"
      ]
    },
    {
      "cell_type": "markdown",
      "metadata": {
        "id": "C5dVDshckcQY"
      },
      "source": [
        "So, it's pretty obvious how _most_ of them work... apart from the modulus operator. \n",
        "\n",
        "### 3.3.2 The modulus operator"
      ]
    },
    {
      "cell_type": "markdown",
      "metadata": {
        "id": "796_7a9ikcQY"
      },
      "source": [
        "The modulus operator is quite simple: **it tells you the remainder of a division.**\n",
        "\n",
        "You know how 3 goes into 8 twice with 2 remainder? The modulus operator gives you the value of the <u>remainder</u>!"
      ]
    },
    {
      "cell_type": "code",
      "execution_count": null,
      "metadata": {
        "id": "FTveCO4kkcQY"
      },
      "outputs": [],
      "source": [
        "print(8%3)"
      ]
    },
    {
      "cell_type": "markdown",
      "metadata": {
        "id": "0RutJdlIkcQY"
      },
      "source": [
        "At face value, this doesn't seem like a big deal. \n",
        "\n",
        "**However**, this modulus operator becomes crucial when you're trying to work out which _integers_ are even and which are odd. \n",
        "\n",
        "Remember, _integers_ that are odd always give a remainder of 1 when divided by 2! So, we can divide any integer by 2 and if we get a remainder of 1, we know it's odd. \n",
        "\n",
        "_Notice that I said integers and **NOT** number! Integers are **whole** numbers while a number could be whole or not. <br>Being specific here is important!_"
      ]
    },
    {
      "cell_type": "code",
      "execution_count": null,
      "metadata": {
        "id": "QqtBkWbakcQY"
      },
      "outputs": [],
      "source": [
        "# The modulus of an odd number is always 1\n",
        "print(35%2)"
      ]
    },
    {
      "cell_type": "markdown",
      "metadata": {
        "id": "DygourqbkcQZ"
      },
      "source": [
        "This may not seem like much but this will be very powerful later on!"
      ]
    },
    {
      "cell_type": "markdown",
      "metadata": {
        "id": "mBw7zNmFkcQZ"
      },
      "source": [
        "### 3.4 Always keeping track of your work with comments!"
      ]
    },
    {
      "cell_type": "markdown",
      "metadata": {
        "id": "9gCs9j2vkcQZ"
      },
      "source": [
        "For many of the code blocks above, I've been putting specific notes to tell you what the code below it does. \n",
        "\n",
        "I haven't actually done that by accident - that is intentional by design. These bits of commentary are called, er... comments!\n",
        "\n",
        "Think about it - if you've written code a year ago and you've come back to it, you're going to really struggle to understand the code you've written if you didn't have any comments. \n",
        "\n",
        "Alternatively, if you hand out your code to other people and they have no clue what you've done, you're going to have a hard time troubleshooting your code. \n",
        "\n",
        "To add a comment, **use the hashtag '#' symbol**:\n",
        "\n",
        "    # This would be a comment in a block of code. \n",
        "\n",
        "**REMEMBER** comments are <u>not</u> executed in Python. They are purely for your documentation purposes so that you can read it and understand the purpose of the code and help others understand it better at a quick glance. "
      ]
    },
    {
      "cell_type": "code",
      "execution_count": null,
      "metadata": {
        "id": "pr9riyPpkcQZ"
      },
      "outputs": [],
      "source": [
        "# multiplying two integers together\n",
        "c = 6 * 7\n",
        "print(c)"
      ]
    },
    {
      "cell_type": "markdown",
      "metadata": {
        "id": "lKyWYX0wkcQZ"
      },
      "source": [
        "Right! Onto relational operators!"
      ]
    },
    {
      "cell_type": "markdown",
      "metadata": {
        "id": "vhKAipgJkcQZ"
      },
      "source": [
        "## 4.1 Relating two different items with relational operators"
      ]
    },
    {
      "cell_type": "markdown",
      "metadata": {
        "id": "fCwPB3pykcQZ"
      },
      "source": [
        "We've written out strings, other data types, displayed items on a screen and done some maths. \n",
        "\n",
        "Let's do something different: why don't we try comparing the values of two different items. \n",
        "\n",
        "In maths, we do this a lot:\n",
        "\n",
        "    7 > 5\n",
        "\n",
        "_7 is bigger than 5_\n",
        "\n",
        "We can do similar things in Python using relational operators:\n",
        "\n",
        "- Equal to (`==`)\n",
        "- Not equal to (`!=`)\n",
        "- Less than (`<`)\n",
        "- Greater than (`>`)\n",
        "- Less than or equal to (`<=`)\n",
        "- Greater than or equal to (`>=`)\n",
        "\n",
        "Relational operators give out (i.e. **return**) either a boolean `True` or `False` value, as you can see in the example below:"
      ]
    },
    {
      "cell_type": "code",
      "execution_count": null,
      "metadata": {
        "id": "X6zJt5wdkcQZ"
      },
      "outputs": [],
      "source": [
        "# checks whether age is legal for drinking alcohol (> 18)\n",
        "myAge = 21\n",
        "legalDrinkingAge = 18\n",
        "print(\"Is myAge greater than legalDrinkingAge?\")\n",
        "print(myAge > legalDrinkingAge) # prints True"
      ]
    },
    {
      "cell_type": "markdown",
      "metadata": {
        "id": "1ZiJEeGXkcQZ"
      },
      "source": [
        "Just to convince you, let's look at all the other operators to show how they would work:"
      ]
    },
    {
      "cell_type": "code",
      "execution_count": null,
      "metadata": {
        "id": "z6dttJ9ukcQZ"
      },
      "outputs": [],
      "source": [
        "# Is 3 equal to 3?\n",
        "print (3==3)"
      ]
    },
    {
      "cell_type": "code",
      "execution_count": null,
      "metadata": {
        "id": "5glz-FMHkcQa"
      },
      "outputs": [],
      "source": [
        "# Is blue not the same as green?\n",
        "print(\"blue\" != \"green\")"
      ]
    },
    {
      "cell_type": "code",
      "execution_count": null,
      "metadata": {
        "id": "PRLlbC2EkcQa"
      },
      "outputs": [],
      "source": [
        "# Is 500 less than 250?\n",
        "print(500 < 250)"
      ]
    },
    {
      "cell_type": "code",
      "execution_count": null,
      "metadata": {
        "id": "z3upWe7EkcQa"
      },
      "outputs": [],
      "source": [
        "# Is 486 greater than or equal to 486?\n",
        "print(486 >= 486)"
      ]
    },
    {
      "cell_type": "code",
      "execution_count": null,
      "metadata": {
        "id": "CJJfruNhkcQa"
      },
      "outputs": [],
      "source": [
        "# Is 984 less than or equal to 541?\n",
        "print(984 <= 541)"
      ]
    },
    {
      "cell_type": "markdown",
      "metadata": {
        "id": "UbRZ6zTykcQa"
      },
      "source": [
        "It's as simple as that!"
      ]
    },
    {
      "cell_type": "markdown",
      "metadata": {
        "id": "vpiuJF6dkcQa"
      },
      "source": [
        "## 4.2 Selections"
      ]
    },
    {
      "cell_type": "markdown",
      "metadata": {
        "id": "p1gSHmqbkcQa"
      },
      "source": [
        "So far, we've been able to write basic code that includes the ability to print messages to a screen, basic mathematical operations and comparisons between two integers. \n",
        "\n",
        "However, the code _blocks_ we've written so far have been executed from top to bottom without any decision processes attached - this is what we call a sequence (i.e. we execute code in sequence, one line after another). What if we want to print something if e.g. a variable is less than the value of 10 but in all other cases, we might do a calculation. \n",
        "\n",
        "For instance, if your bank balance is too low, you can't purchase an item that costs more than your balance. Otherwise, if you do have the funds, you can pay for the item and have the price deducted from your account. \n",
        "\n",
        "This idea of *selecting* a desired output is known as **selection** and it is the subject of this part of the session. When we employ selection, we are essentially performing certain actions based on the result of an evaluation (typically through relational operators). Rather than just reading endless words, let's look below for an example in practice:"
      ]
    },
    {
      "cell_type": "code",
      "execution_count": null,
      "metadata": {
        "id": "owKAmgtgkcQa"
      },
      "outputs": [],
      "source": [
        "# A card machine evaluating whether a sale can be executed\n",
        "bankBalance = 10.0\n",
        "itemPrice = 15.0\n",
        "\n",
        "if bankBalance < itemPrice:\n",
        "    print(\"Insufficient funds!\")\n",
        "else:\n",
        "    bankBalance = bankBalance - itemPrice\n",
        "    print(bankBalance)"
      ]
    },
    {
      "cell_type": "markdown",
      "metadata": {
        "id": "xKZpY5xwkcQa"
      },
      "source": [
        "Well, well, well. This is the first time that we don't run every line in the code block from top to bottom! \n",
        "\n",
        "We only select a specific output for a given condition - this is known as **flow control** as it gives you the ability to control the program's _flow_ i.e. the direction of the program itself. \n",
        "\n",
        "As you can see, we've used a specific keyword called the `if` keyword. Flow control is achieved through different types of keywords and their associated code blocks:\n",
        "\n",
        "- `if`\n",
        "- `elif`\n",
        "- `else`\n",
        "\n",
        "and we'll cover each of them in turn. \n",
        "\n",
        "By the way, when I refer to a _code block_, I'm referring to a collection of lines that are run together. They're often closely related as they are all preceded by a keyword and share the same indentation. \n",
        "\n",
        "**NOTE** You **MUST** indent your code! Indentation is vital for flow control and failure to do so will put your program in ruins. "
      ]
    },
    {
      "cell_type": "markdown",
      "metadata": {
        "id": "qIyTzBE1kcQb"
      },
      "source": [
        "### 4.2.2 if-statements"
      ]
    },
    {
      "cell_type": "markdown",
      "metadata": {
        "id": "-6FSSO_2kcQb"
      },
      "source": [
        "Let's bring back the if-statement from above:"
      ]
    },
    {
      "cell_type": "code",
      "execution_count": null,
      "metadata": {
        "id": "g8FnHKV-kcQb"
      },
      "outputs": [],
      "source": [
        "# A card machine evaluating whether a sale can be executed\n",
        "bankBalance = 10.0\n",
        "itemPrice = 15.0\n",
        "\n",
        "if bankBalance < itemPrice:\n",
        "    print(\"Insufficient funds!\")\n",
        "else:\n",
        "    bankBalance = bankBalance - itemPrice\n",
        "    print(bankBalance)"
      ]
    },
    {
      "cell_type": "markdown",
      "metadata": {
        "id": "udrXlqUukcQb"
      },
      "source": [
        "Line number 6 (to print `\"Insufficient funds\"`) is only executed if the condition in line 5 is true. \n",
        "\n",
        "If we tried to print the inequality condition `bankBalance < itemPrice` to the screen, we'd get the boolean value `True` printed. So, if the inequality is `True`, we execute the indented code block that follows. \n",
        "\n",
        "However, if the condition is `False`, we'd execute the alternative code block on lines 8 and 9. The value of `bankBalance` decreases and we print it to the screen. \n",
        "\n",
        "_It's as simple as that!_"
      ]
    },
    {
      "cell_type": "markdown",
      "metadata": {
        "id": "UuSvreR-kcQb"
      },
      "source": [
        "### 4.2.3 Flowcharts"
      ]
    },
    {
      "cell_type": "markdown",
      "metadata": {
        "id": "qDgi_m9ykcQb"
      },
      "source": [
        "You can also track the selection process by drawing a flow chart. First, we define a set of keys so that everyone knows what the shapes mean. Next, we draw out our selection process (which we also know as an **algorithm**) and draw connecting arrows whilst adding some information inside the shapes. "
      ]
    },
    {
      "cell_type": "markdown",
      "metadata": {
        "id": "VAh3lJxvkcQb"
      },
      "source": [
        "There's nothing too complicated about flowcharts so we'll now head over to `else` clauses!"
      ]
    },
    {
      "cell_type": "markdown",
      "metadata": {
        "id": "YRFUI-u4kcQc"
      },
      "source": [
        "### 4.2.4 else clause"
      ]
    },
    {
      "cell_type": "markdown",
      "metadata": {
        "id": "OPVZKCSTkcQc"
      },
      "source": [
        "I've sort of prematurely discussed the `else` clause before I discussed it. However, I think you'll realise its purpose without the need for me to explain it to you. Nevertheless, let's have a brief look at it anyway. \n",
        "\n",
        "The `else` clause is what I like to call a 'catch-all' code block. Essentially, if the if-condition doesn't evaluate to `True`, we execute the code-block in the `else` block. \n",
        "\n",
        "Let's (again) bring back our bank balance example from above:"
      ]
    },
    {
      "cell_type": "code",
      "execution_count": null,
      "metadata": {
        "id": "KaIdOMUXkcQc"
      },
      "outputs": [],
      "source": [
        "# A card machine evaluating whether a sale can be executed\n",
        "bankBalance = 20.0\n",
        "itemPrice = 15.0\n",
        "\n",
        "if bankBalance < itemPrice:\n",
        "    print(\"Insufficient funds!\")\n",
        "else:\n",
        "    bankBalance = bankBalance - itemPrice\n",
        "    print(bankBalance)"
      ]
    },
    {
      "cell_type": "markdown",
      "metadata": {
        "id": "UDsWK9ljkcQc"
      },
      "source": [
        "Now, `bankBalance` is greater than `itemPrice`. \n",
        "\n",
        "Since the condition in the if-statement hasn't changed, we'll instead be executing the else-block. \n",
        "\n",
        "As a result, our `bankBalance` is deducted and we expect a float of `5.0` to be printed to the screen (which we do!)"
      ]
    },
    {
      "cell_type": "markdown",
      "metadata": {
        "id": "3yYhD3a_kcQc"
      },
      "source": [
        "N.B. we call it an else-**CLAUSE** because it depends on a prior if-statement to exist first. Without an if-statement, the else-block will not be executed.\n",
        "\n",
        "This is just like in English where a dependent _clause_ requires an independent clause in the first place for the whole sentence to make sense:\n",
        "\n",
        "> Bitcoin will recover _if enough time passes._\n",
        "\n",
        "The dependent clause (italics) doesn't work on its own without the independent clause before it. \n",
        "\n",
        "Now, what if we want more than one condition? Hmm..."
      ]
    },
    {
      "cell_type": "markdown",
      "metadata": {
        "id": "QWqEusqOkcQd"
      },
      "source": [
        "### 4.2.5. elif clause"
      ]
    },
    {
      "cell_type": "markdown",
      "metadata": {
        "id": "PsWIXmpnkcQd"
      },
      "source": [
        "We may wish to evaluate more than one condition as part of our selection process e.g. if we wanted to print a set of statements based on a integer variable. "
      ]
    },
    {
      "cell_type": "code",
      "execution_count": null,
      "metadata": {
        "id": "WRYnIu0fkcQd"
      },
      "outputs": [],
      "source": [
        "# elif clauses\n",
        "\n",
        "myInteger = 2\n",
        "\n",
        "if myInteger == 1:\n",
        "    print(\"Option A\")\n",
        "elif myInteger == 2:\n",
        "    print(\"Option B\")\n",
        "elif myInteger == 3:\n",
        "    print(\"Option C\")\n",
        "else:\n",
        "    print(\"No option provided\")"
      ]
    },
    {
      "cell_type": "markdown",
      "metadata": {
        "id": "QKOm4XlfkcQd"
      },
      "source": [
        "When we run the code above, we get `Option B` presented as the `elif` keyword helps us to select other options and display the appropriate message.\n",
        "\n",
        "Again, the `elif` code block is only executed if previous conditions are not met. You **MUST** have an if-statement first before you make use of the `elif` structure."
      ]
    },
    {
      "cell_type": "markdown",
      "metadata": {
        "id": "gMAUhg7-kcQd"
      },
      "source": [
        "### 4.2.6. Nesting conditions"
      ]
    },
    {
      "cell_type": "markdown",
      "metadata": {
        "id": "JytPBDhWkcQd"
      },
      "source": [
        "We've used indentations to wrap our code blocks inside selection keywords (if, elif and else).\n",
        "\n",
        "_Is it possible to put if-statements inside of other if-statements?_\n",
        "\n",
        "**Yes**. \n",
        "\n",
        "We normally do this for e.g. if we're doing further evaluations such as in document checks where more than one parameter would need to be checked before a final result is published:"
      ]
    },
    {
      "cell_type": "code",
      "execution_count": null,
      "metadata": {
        "id": "Y955sFU5kcQd"
      },
      "outputs": [],
      "source": [
        "# allowing someone into a bar\n",
        "\n",
        "age = 18\n",
        "drivingLicence = True\n",
        "\n",
        "if age >= 18: # OUTER if-statement\n",
        "    if drivingLicence == True: # INNER if-statement\n",
        "        print(\"You can enter the bar.\")\n",
        "    else:\n",
        "        print(\"You do not have the correct identification.\")\n",
        "else:\n",
        "    print(\"You are not over 18.\")"
      ]
    },
    {
      "cell_type": "markdown",
      "metadata": {
        "id": "SuBWsJQ-kcQe"
      },
      "source": [
        "Looking at the code here, we can see an _inner_ if-statement inside of an _outer_ if-statement. We first run the outer if-statement (here with `age`) before we run the inner if-statement with `drivingLicence`. \n",
        "\n",
        "As you can see, there are 3 possible final outcomes to be printed depending on the variable values:\n",
        "\n",
        "- The user can enter the bar. \n",
        "- The user doesn't have the correct identification. \n",
        "- The user isn't over 18.\n",
        "\n",
        "This is achieved through **nested conditions** where one if-statement lives inside another if-statement, just like a bird lives inside of a nest.\n",
        "\n",
        "_Neat naming, huh?_"
      ]
    },
    {
      "cell_type": "markdown",
      "metadata": {
        "id": "zHm1pvLtkcQe"
      },
      "source": [
        "## 5.1 For loops"
      ]
    },
    {
      "cell_type": "markdown",
      "metadata": {
        "id": "egQZFgAMkcQe"
      },
      "source": [
        "As I said earlier, we might find situations where we need a computer to perform a certain action over and over again until we are satisfied or until a condition is met.\n",
        "\n",
        "This is known as **iteration** and you'll see it commonly when you do mathematical operations until you reach a certain limit. \n",
        "\n",
        "Here's a nice starter to get you into **for** loops:"
      ]
    },
    {
      "cell_type": "code",
      "execution_count": null,
      "metadata": {
        "id": "pb5Fne9GkcQe"
      },
      "outputs": [],
      "source": [
        "# Insert for-loop diagram"
      ]
    },
    {
      "cell_type": "markdown",
      "metadata": {
        "id": "PvEavLWKkcQf"
      },
      "source": [
        "Notice that until we get to x = 6, we don't break out of the repetitive increment of `x` and printing of `x`. \n",
        "\n",
        "_This is why it's called a loop!_ \n",
        "\n",
        "I've coloured it in orange so you can see the looping nature play out in full flow. "
      ]
    },
    {
      "cell_type": "markdown",
      "metadata": {
        "id": "_VIct1ElkcQf"
      },
      "source": [
        "How do we code this type of for loop? Simple. We use the `for` keyword:"
      ]
    },
    {
      "cell_type": "code",
      "execution_count": null,
      "metadata": {
        "id": "JjNGCorlkcQf",
        "outputId": "82f0a6bf-b3a5-40cf-8449-37f58f61da7d"
      },
      "outputs": [
        {
          "name": "stdout",
          "output_type": "stream",
          "text": [
            "0\n",
            "1\n",
            "2\n",
            "3\n",
            "4\n",
            "5\n",
            "6\n"
          ]
        }
      ],
      "source": [
        "# print all the integers from 0 to 7 (exclusive)\n",
        "\n",
        "for i in range(7):\n",
        "    print(i)"
      ]
    },
    {
      "cell_type": "markdown",
      "metadata": {
        "id": "hbcwCQDWkcQg"
      },
      "source": [
        "Here, we are printing **for** all the numbers between 0 and 6 - this is where I like to think the `for` keyword works best.\n",
        "\n",
        "It's best to think of code less like a bunch of abstract code but instead an as economic way of writing full sentences to computers in the most concise manner possible.\n",
        "\n",
        "I like to translate this to my head as _\"for each number i in the list of numbers from 0 to 7, print i\"_ - magic, right?\n",
        "\n",
        "In this code block, the loop only iterates a specific number of times. This is known as a _definite_ loop where we have a _definite_ end. \n",
        "\n",
        "To complete this task, we use something called the `range` function. \n",
        "\n",
        "The function gives out a list of numbers starting from 0 and ending at `n-1`, meaning the number that you input into the function is not included in the final result - this is known as an _exclusive_ limit. "
      ]
    },
    {
      "cell_type": "code",
      "execution_count": null,
      "metadata": {
        "id": "u405M2nkkcQg",
        "outputId": "a2c4a106-eeab-42eb-c38b-0dd74285f6d5"
      },
      "outputs": [
        {
          "name": "stdout",
          "output_type": "stream",
          "text": [
            "[0, 1, 2, 3, 4, 5, 6]\n"
          ]
        }
      ],
      "source": [
        "print(list(range(7)))"
      ]
    },
    {
      "cell_type": "markdown",
      "metadata": {
        "id": "MSKMWGIfkcQh"
      },
      "source": [
        "We'll discuss functions later towards the latter-end of the session. "
      ]
    },
    {
      "cell_type": "markdown",
      "metadata": {
        "id": "9LGA6i4kkcQh"
      },
      "source": [
        "We can also include a start and end number for our `range()` function."
      ]
    },
    {
      "cell_type": "code",
      "execution_count": null,
      "metadata": {
        "id": "017PO5dykcQh",
        "outputId": "9af1f73d-22b0-455f-aac9-2a7d898c47db"
      },
      "outputs": [
        {
          "name": "stdout",
          "output_type": "stream",
          "text": [
            "1\n",
            "2\n",
            "3\n"
          ]
        }
      ],
      "source": [
        "for i in range(1, 4):\n",
        "    print(i)"
      ]
    },
    {
      "cell_type": "markdown",
      "metadata": {
        "id": "XJ0AOF3VkcQh"
      },
      "source": [
        "Just remember: The first number is _included_ in the list but the last number is _excluded_ from the list. "
      ]
    },
    {
      "cell_type": "markdown",
      "metadata": {
        "id": "KIQOT8b3kcQh"
      },
      "source": [
        "You might have noticed the `i` variable in the first line:\n",
        "\n",
        "    for i in range(1, 4)\n",
        "\n",
        "This variable is known as a **counter variable**. Essentially, it's used during the loop as a temporary store to track the loop as it progresses from the start and end of a list (which in this case here is a list of numbers).\n",
        "\n",
        "You don't create the counter variable before you use the loop but it's important to be consistent with the counter variable throughout the loop's code. You could call it anything as long as it doesn't exist:"
      ]
    },
    {
      "cell_type": "code",
      "execution_count": null,
      "metadata": {
        "id": "nxUCs7OJkcQh",
        "outputId": "d94160ed-eb34-4a3c-fcd8-71eae7396117"
      },
      "outputs": [
        {
          "name": "stdout",
          "output_type": "stream",
          "text": [
            "0\n",
            "1\n",
            "2\n",
            "3\n",
            "4\n"
          ]
        }
      ],
      "source": [
        "for abc123 in range(5):\n",
        "    print(abc123)"
      ]
    },
    {
      "cell_type": "markdown",
      "metadata": {
        "id": "droBbYpRkcQh"
      },
      "source": [
        "## 5.1.2 Nested for-loops"
      ]
    },
    {
      "cell_type": "markdown",
      "metadata": {
        "id": "rCThFeZnkcQh"
      },
      "source": [
        "Can we nest loops just like we nested if-statements? **Yes.**"
      ]
    },
    {
      "cell_type": "code",
      "execution_count": null,
      "metadata": {
        "id": "aZdbnw7PkcQh",
        "outputId": "3f28cc8d-9c10-45ca-99e9-c96e5e112b3f"
      },
      "outputs": [
        {
          "name": "stdout",
          "output_type": "stream",
          "text": [
            "0\n",
            "1\n",
            "2\n",
            "0\n",
            "2\n",
            "4\n",
            "0\n",
            "3\n",
            "6\n"
          ]
        }
      ],
      "source": [
        "# print the first 3 multiples of 1, 2 and 3\n",
        "\n",
        "for x in range(1, 4): # outer loop\n",
        "    for y in range(3): # inner loop\n",
        "        print(x*y)"
      ]
    },
    {
      "cell_type": "markdown",
      "metadata": {
        "id": "MkWwDD37kcQi"
      },
      "source": [
        "This... is a slight bit more complicated. \n",
        "\n",
        "At the start of running the code, `x=1`. What happens is that the inner loop is then executed. \n",
        "\n",
        "So, at the start, `y=0` and the result of the print function is `1 x 0 = 0`. \n",
        "\n",
        "We move into the next part of the range function where we increment `y` i.e. add 1 so `y=1`. \n",
        "\n",
        "Now, the result of the print function is `1 x 1 = 1`. \n",
        "\n",
        "This then repeats for the final step: `y = 2` so `1 x 2 = 2`. \n",
        "\n",
        "Since we've done the inner loop, we return to the outer loop and now increment `x` so now, `x=2`. \n",
        "\n",
        "We then resume the inner loop, starting from `y = 0` and repeat the process.\n",
        "\n",
        "In the end, we print the first 3 multiples of `1`, `2` and `3` going from 0 to 2. "
      ]
    },
    {
      "cell_type": "markdown",
      "metadata": {
        "id": "JRasElr4kcQi"
      },
      "source": [
        "**Try it for yourself and play around until you understand it!**\n",
        "\n",
        "Nested-loops are very useful for case-specific circumstances e.g. finding the total sum of a matrix by selecting each row and adding the individual elements together to a running sun (which we'll cover later!)"
      ]
    },
    {
      "cell_type": "markdown",
      "metadata": {
        "id": "vhY7dhigkcQi"
      },
      "source": [
        "## 5.1.3 While loops"
      ]
    },
    {
      "cell_type": "markdown",
      "metadata": {
        "id": "yqxtlPxUkcQi"
      },
      "source": [
        "With `for` loops, we've been looping through entire lists. Essentially, once we're done working through a list (i.e. we've processed every element), the loop dies and we terminate the iteration. \n",
        "\n",
        "However, there may be instances where you want the loop to run _indefinitely_ until a certain condition has been reached or **while** a certain condition is still true. \n",
        "\n",
        "Conveniently, this gives rise to another type of iteration... `while` loops. \n",
        "\n",
        "While loops and for loops are very similar except that while loops can be indefinite and for loops are always definite loops. "
      ]
    },
    {
      "cell_type": "code",
      "execution_count": null,
      "metadata": {
        "id": "f-HTmfhrkcQi",
        "outputId": "545cbbcb-85df-4f42-bd35-db5e400e6daa"
      },
      "outputs": [
        {
          "name": "stdout",
          "output_type": "stream",
          "text": [
            "1\n",
            "2\n",
            "3\n",
            "4\n",
            "5\n",
            "6\n",
            "7\n",
            "8\n",
            "9\n",
            "10\n"
          ]
        }
      ],
      "source": [
        "x = 1\n",
        "while x <= 10: # while loop\n",
        "    print(x)\n",
        "    x += 1"
      ]
    },
    {
      "cell_type": "markdown",
      "metadata": {
        "id": "aMASh2dZkcQi"
      },
      "source": [
        "Here, we've defined a counter variable `x` that we use to track the loop and terminate it once the condition is no longer true. We print `x`, which allows us to overall print the first 10 non-zero integers. \n",
        "\n",
        "When you work with while loops, you **MUST** remember to increment your counter. \n",
        "\n",
        "Otherwise, you will end up stuck in an infinite loop forever as your condition _always_ evaluates to true. \n",
        "\n",
        "Look at the following block of code:\n",
        "\n",
        "    x = 1\n",
        "    while x <= 10:\n",
        "        print(x)\n",
        "\n",
        "By simply omitting the incremental line (as per the last line in the previous example), `x` _always_ remains at 1 and the loop _always_ runs **indefinitely**. \n",
        "\n",
        "**DO NOT RUN THIS CODE** - but, if you do, remember to break using CMD/CTRL + C (Mac/Windows)"
      ]
    },
    {
      "cell_type": "markdown",
      "metadata": {
        "id": "xgt9SNaWkcQi"
      },
      "source": [
        "A slight improvement to the previous example would be to shorten the increment notation using Python's purpose-feature _increment_ operator:"
      ]
    },
    {
      "cell_type": "code",
      "execution_count": null,
      "metadata": {
        "id": "yn-GC1qqkcQi"
      },
      "outputs": [],
      "source": [
        "x = 1\n",
        "while x <= 10:\n",
        "    print(x)\n",
        "    x += 1"
      ]
    },
    {
      "cell_type": "markdown",
      "metadata": {
        "id": "qGrgtOFEkcQi"
      },
      "source": [
        "Here, `x += 1` simply means to take the current value of `x`, add `1` and then (re)assign this value back to `x` itself.\n",
        "\n",
        "_Saves on the notation, eh?_\n",
        "\n",
        "N.B. You can also do:\n",
        "\n",
        "- `x -= 1 # subtract 1 from current value of x and reassign it` \n",
        "- `x *= 2 # multiply the current value of x by 2 and reassign it`\n",
        "- `x /= 2 # divide the current value of x by 2 and reassign it`"
      ]
    },
    {
      "cell_type": "markdown",
      "metadata": {
        "id": "9NuhKMHHkcQi"
      },
      "source": [
        "# 6 Data Structures"
      ]
    },
    {
      "cell_type": "markdown",
      "metadata": {
        "id": "7GzD5OrIkcQi"
      },
      "source": [
        "I'll make a slight confession on this... **I recorded strings before I covered lists.** \n",
        "\n",
        "Admittedly, that was a huge oversight on my part. So, here we discuss lists before strings and we actually provide an oversight on data structures before delving to each of them in turn. \n",
        "\n",
        "Now, variables are useful for storing just one at a time. However, there might be cases where we want to store a _list_ of things or a _collection_ of different bits of information and have them all under one roof for convenience. \n",
        "\n",
        "Individual variables are **NOT** useful for storing collections of data points.<br>Think about it - if you had a collection of 100,000 different items, are you going to store 100,000 different variables in the computer? Probably not, no!\n",
        "\n",
        "Instead, we need an alternative type of entity in Python that helps us store large collections of data - these are called _organised collections_. \n",
        "\n",
        "What organised collections does Python offer us?\n",
        "\n",
        "<ul>\n",
        "    <li>Lists</li>\n",
        "    <li>Tuples</li>\n",
        "    <li>Sets <i>(not really relevant unless you are a Mathematician)</i></li>\n",
        "    <li>Dictionaries</li>\n",
        "</ul>\n",
        "\n",
        "So, let's kick off our discussion on *lists*. "
      ]
    },
    {
      "cell_type": "markdown",
      "metadata": {
        "id": "nixgu2BYkcQj"
      },
      "source": [
        "# 7 Lists\n",
        "## 7.1 Let's write our shopping list..."
      ]
    },
    {
      "cell_type": "markdown",
      "metadata": {
        "id": "3xPNbh9ykcQj"
      },
      "source": [
        "Consider a basic exercise: writing our own shopping list... *in Python*. \n",
        "\n",
        "The beginner in all of us would simply create lots of new variables and store our items as appropriate in separate variables e.g. \n",
        "\n",
        "    item1 = \"eggs\"\n",
        "    item2 = \"milk\"\n",
        "    item3 = \"bread\"\n",
        "    item4 = \"cereal\"\n",
        "\n",
        "This... works. However, how would you remove an item off your shopping _list_. \n",
        "\n",
        "Realistically, we'd have to first find the variable in the computer's memory and nullify it (i.e. make it equal to 0). <br>However, this is highly inefficient and can lead to other problems e.g. memory leaks **IF** not done correctly. \n",
        "\n",
        "So, how does Python help us facilitate writing a _list_ of items that can contain multiple items?<br>We can use... er, a **list**!\n",
        "\n",
        "To write a list in Python, we simply write square brackets:\n",
        "\n",
        "    []\n",
        "\n",
        "and store our information accordingly:\n",
        "\n",
        "    groceryList = [\"eggs\", \"milk\", \"bread\", \"cereal\"]\n",
        "\n",
        "_It's as simple as that!_ (I should make that a catchphrase at this point if I'm being honest.)\n",
        "\n",
        "Let's see it in practice:"
      ]
    },
    {
      "cell_type": "code",
      "execution_count": null,
      "metadata": {
        "id": "0lkazsdrkcQj"
      },
      "outputs": [],
      "source": [
        "# a list of items, just like a grocery list.\n",
        "groceryList = [\"eggs\", \"milk\", \"bread\", \"cereal\"]"
      ]
    },
    {
      "cell_type": "markdown",
      "metadata": {
        "id": "SS1FZ1tZkcQj"
      },
      "source": [
        "Lists can also have other data types:"
      ]
    },
    {
      "cell_type": "code",
      "execution_count": null,
      "metadata": {
        "id": "W8_9_tUgkcQj"
      },
      "outputs": [],
      "source": [
        "# a list of integers\n",
        "integerList = [1, 2, 3, 4, 5]"
      ]
    },
    {
      "cell_type": "code",
      "execution_count": null,
      "metadata": {
        "id": "0Pq4iNkrkcQj"
      },
      "outputs": [],
      "source": [
        "# a list of floats\n",
        "floatList = [1.22, 1.44, 35.6, 45.3, 86.7]"
      ]
    },
    {
      "cell_type": "code",
      "execution_count": null,
      "metadata": {
        "id": "bXelK5rJkcQj"
      },
      "outputs": [],
      "source": [
        "# a list of boolean values\n",
        "booleanList = [True, False, False, True, True]"
      ]
    },
    {
      "cell_type": "markdown",
      "metadata": {
        "id": "SugoHDepkcQj"
      },
      "source": [
        "Can a list contain a _mix_ of data types? **Yes!**"
      ]
    },
    {
      "cell_type": "code",
      "execution_count": null,
      "metadata": {
        "id": "xIvHR5uakcQj"
      },
      "outputs": [],
      "source": [
        "# a list of various data types\n",
        "mixedList = [12, \"hello world\", True, 3.14]"
      ]
    },
    {
      "cell_type": "markdown",
      "metadata": {
        "id": "o4GFEx30kcQj"
      },
      "source": [
        "That should settle the preliminary discussion on lists very nicely. "
      ]
    },
    {
      "cell_type": "markdown",
      "metadata": {
        "id": "DtDjXs8ZkcQj"
      },
      "source": [
        "### 7.2 Changing an item in our list"
      ]
    },
    {
      "cell_type": "markdown",
      "metadata": {
        "id": "VVDy9F7JkcQj"
      },
      "source": [
        "Consider our list of grocery items:"
      ]
    },
    {
      "cell_type": "code",
      "execution_count": null,
      "metadata": {
        "id": "82HrLrdhkcQk"
      },
      "outputs": [],
      "source": [
        "# a list of items, just like a grocery list.\n",
        "groceryList = [\"eggs\", \"milk\", \"bread\", \"cereal\"]"
      ]
    },
    {
      "cell_type": "markdown",
      "metadata": {
        "id": "QeOQWsELkcQk"
      },
      "source": [
        "Oh no! I've accidentally written that I wanted eggs when I meant butter!\n",
        "\n",
        "_How do you change an item in a list?_\n",
        "\n",
        "A: You use <u>indexes<u>. "
      ]
    },
    {
      "cell_type": "markdown",
      "metadata": {
        "id": "Gr-uovybkcQk"
      },
      "source": [
        "### 7.3 Using indexes to refer to an item's position"
      ]
    },
    {
      "cell_type": "markdown",
      "metadata": {
        "id": "0S9_ATjmkcQk"
      },
      "source": [
        "Just like we use cardinal numbers when we refer to a list (i.e. first, second, third etc.), computers use **integers** to refer to an _ordered_ list - we call this reference an _index_. \n",
        "\n",
        "In a Python list, the **first** element in a list is given position **0**. \n",
        "\n",
        "To obtain an element from a list, we use the variable name containing the list, followed by a number in square brackets:"
      ]
    },
    {
      "cell_type": "code",
      "execution_count": null,
      "metadata": {
        "id": "qxVSTDjvkcQk",
        "outputId": "70bd8da4-c187-41ae-b1ee-04054ad4d099"
      },
      "outputs": [
        {
          "name": "stdout",
          "output_type": "stream",
          "text": [
            "eggs\n"
          ]
        }
      ],
      "source": [
        "# get the first element of our grocery list\n",
        "print(groceryList[0])"
      ]
    },
    {
      "cell_type": "markdown",
      "metadata": {
        "id": "WIgNXalXkcQk"
      },
      "source": [
        "As you can see, we start from 0 and _enumerate_ all our items in our list in order i.e. 0, 1, 2, 3...\n",
        "\n",
        "This is known as a **zero-offset** index.<br>One way of thinking of this new \"offset\" method is to think how far the element is from the _start_ of the list. \n",
        "\n",
        "For instance, `\"bread\"` is 2 elements away from the start of the list hence we give it a number of 2. Likewise, `\"cereal\"` is 3 positions away from the start of the list hence we give it a number of 3."
      ]
    },
    {
      "cell_type": "markdown",
      "metadata": {
        "id": "bFkyx-SJkcQk"
      },
      "source": [
        "Often, we refer to lists as _ordered collections_ of items where each item has a specific index associated with it."
      ]
    },
    {
      "cell_type": "markdown",
      "metadata": {
        "id": "oKdMVh1mkcQk"
      },
      "source": [
        "Let's try to extract `\"milk\"` from the list and store it as the value of a new variable. \n",
        "\n",
        "1. Obtain the second element from the list using the square bracket `[]` index operator, passing in the number `2`. \n",
        "2. Use the `groceryList` variable name to extract the second element from the list. \n",
        "3. Store the value of the second element of the list as a separate variable. "
      ]
    },
    {
      "cell_type": "code",
      "execution_count": null,
      "metadata": {
        "id": "Co6ZgRFykcQk",
        "outputId": "7431d14f-eb3f-4130-d6e9-39373e266ce3"
      },
      "outputs": [
        {
          "name": "stdout",
          "output_type": "stream",
          "text": [
            "milk\n"
          ]
        }
      ],
      "source": [
        "# obtain the second element of the list and store it as a new variable\n",
        "dairyItems = groceryList[1]\n",
        "print(dairyItems)"
      ]
    },
    {
      "cell_type": "markdown",
      "metadata": {
        "id": "XWt20yIZkcQk"
      },
      "source": [
        "**PAY ATTENTION** A zero-index means that compared to our normal numbering of a list `(1, 2, 3, 4, 5... = n)`, all our index follow an `n-1` pattern.\n",
        "\n",
        "_That's just a mathematical description of our zero-index method._"
      ]
    },
    {
      "cell_type": "markdown",
      "metadata": {
        "id": "sjmlsMprkcQk"
      },
      "source": [
        "### 7.4 Indexing backwards..."
      ]
    },
    {
      "cell_type": "markdown",
      "metadata": {
        "id": "m0KL2-hgkcQk"
      },
      "source": [
        "We don't just index forwards starting from `0`: we can also index backwards starting from the last element!\n",
        "\n",
        "Here, things are _slightly_ different. \n",
        "\n",
        "In Python, the last element is given the index `-1`. Going left, the index goes down by `-1` i.e. `-2, -3, -4...`\n",
        "\n",
        "When is this useful? Well, look at our zero-offset index going forwards. **How can you obtain the value of the last element if we only looked forwards?**\n",
        "\n",
        "You would have to do:\n",
        "\n",
        "    groceryList[3]\n",
        "\n",
        "But what if you thought it was:\n",
        "\n",
        "    groceryList[4]\n",
        "\n",
        "What would happen? _Let's find out_"
      ]
    },
    {
      "cell_type": "code",
      "execution_count": null,
      "metadata": {
        "id": "XTpd4i0ukcQl",
        "outputId": "804c18a2-b209-4745-c9a8-9adcac2c1fad"
      },
      "outputs": [
        {
          "ename": "IndexError",
          "evalue": "list index out of range",
          "output_type": "error",
          "traceback": [
            "\u001b[1;31m---------------------------------------------------------------------------\u001b[0m",
            "\u001b[1;31mIndexError\u001b[0m                                Traceback (most recent call last)",
            "Cell \u001b[1;32mIn[20], line 1\u001b[0m\n\u001b[1;32m----> 1\u001b[0m \u001b[39mprint\u001b[39m(groceryList[\u001b[39m4\u001b[39;49m])\n",
            "\u001b[1;31mIndexError\u001b[0m: list index out of range"
          ]
        }
      ],
      "source": [
        "print(groceryList[4])"
      ]
    },
    {
      "cell_type": "markdown",
      "metadata": {
        "id": "4hXopT0dkcQl"
      },
      "source": [
        "Oh no, an `IndexError`! This... isn't an accident. \n",
        "\n",
        "Because we used a zero-offset index, if we try to get an element in a position that hasn't been occupied, Python says we've gone way over the range of the list so our index for the list is invalid. \n",
        "\n",
        "If you had a list of `N` items where you didn't know the value of `N`, you wouldn't know the value of `N-1` to be able to extract the final element. Instead, you can use our reverse index enumeration to do this:\n",
        "\n",
        "    groceryList[-1]\n",
        "\n",
        "to get this job done. _Let's try it..._"
      ]
    },
    {
      "cell_type": "code",
      "execution_count": null,
      "metadata": {
        "id": "zWh0D_tQkcQl",
        "outputId": "8713feea-8525-4466-e1c7-a17f88bd1496"
      },
      "outputs": [
        {
          "name": "stdout",
          "output_type": "stream",
          "text": [
            "cereal\n"
          ]
        }
      ],
      "source": [
        "print(groceryList[-1])"
      ]
    },
    {
      "cell_type": "markdown",
      "metadata": {
        "id": "DuwYeOm-kcQl"
      },
      "source": [
        "### 7.5 Why do we use zero-offset indexes?\n",
        "\n",
        "It's often mistakenly assumed that zero-offset indexes were designed out of some non-technical convenience. However, computationally, the zero-offset index does have a significant advantage. \n",
        "\n",
        "Memory in computer is stored first by providing a variable a specific vacancy in computer memory. Where this vacancy lives in the computer's vast memory is known as the memory _address_ (just like your home address in a massive city).\n",
        "\n",
        "What happens essentially is that each slot of memory holds **ONE** item of the list at a time and all the elements of the list live next door to each other in the computer - this is known as contiguous memory. \n",
        "\n",
        "To access an element of the list **in the computer**, we use the following (sort-of) formula with a zero-offset index:\n",
        "\n",
        "    (element at index) n = address + [n * sizeOfElement]\n",
        "\n",
        "Really, this is basically algebraic linear interpolation. First, we find the address where our list lives. Next, we work out the size of the list and with the knowledge of how much space the element occupies (i.e. `sizeOfElement`), we can work out how far down the block of memory we go down before we find the item that we need. \n",
        "\n",
        "_However_ (and this is important), if we start our indexing from 1 (known as a one-offset index), the formula above changes:\n",
        "\n",
        "    (element at index) n = address + [(n-1) * sizeOfElement]\n",
        "\n",
        "Welp - a spooky `n-1` exists here. \n",
        "\n",
        "Remember, if we e.g. chose to enumerate `\"bread\"` at index `4` respectively, we'd have to do `4-1` to work how far `\"bread\"` is from the start of the list (since our first element is at index `1`.) \n",
        "\n",
        "However, with a zero-offset index, we'd instead do `3-0` (as our first element in the list lives at index `0`)... which is just `3`, hence not needing a subtraction in the first place.\n",
        "\n",
        "We can just quote the integer index of our element \"bread\" in the zero-offset index without actually needing to do any subtraction in the first place as anything subtracted by 0 is unchanged! \n",
        "\n",
        "The fact that a zero-offset index doesn't require us to actually do any subtraction saves us fractions of a second for one operation **BUT** could save us many seconds if we were doing millions or billions of operations a second on many bigger computers!\n",
        "\n",
        "**A zero-offset index is a life saver in the name of efficiency and performance!**\n",
        "\n",
        "There we go, a nice little Computer Science lesson right there!"
      ]
    },
    {
      "cell_type": "markdown",
      "metadata": {
        "id": "BTboWAcmkcQl"
      },
      "source": [
        "### Magic."
      ]
    },
    {
      "cell_type": "markdown",
      "metadata": {
        "id": "lUg6fuvDkcQl"
      },
      "source": [
        "### 7.6 Strings - how are they strung together?"
      ]
    },
    {
      "cell_type": "markdown",
      "metadata": {
        "id": "s-jefO9ZkcQl"
      },
      "source": [
        "Consider the following sentence:\n",
        "\n",
        "    My name is Ahmad.\n",
        "\n",
        "Yes, it's a basic sentence. However, computers need to have a way of storing sentences in their memory in such a way that they can edit them appropriately later on (if necessary). \n",
        "\n",
        "The question really here is quite simple - **how do computers store strings?**\n",
        "\n",
        "The answer is actually quite smart... **Use a list!**\n",
        "\n",
        "I know, I know - how the heck do lists come into storing sentences? Computers actually store the individual characters that make up a string and then _string_ all the characters together to make... a _string_ (damn, I've mentioned the word _string_ a lot of times there.)\n",
        "\n",
        "In a computer, the above sentence is represented as:\n",
        "\n",
        "    [\"M\", \"y\", \" \", \"n\", \"a\", \"m\", \"e\", \" \", \"i\", \"s\", \" \", \"A\", \"h\", \"m\", \"a\", \"d\"]"
      ]
    },
    {
      "cell_type": "code",
      "execution_count": null,
      "metadata": {
        "id": "ASDbexZ1kcQl",
        "outputId": "9e29fff3-5d15-4262-da8c-862a2af41f54"
      },
      "outputs": [
        {
          "name": "stdout",
          "output_type": "stream",
          "text": [
            "['M', 'y', ' ', 'n', 'a', 'm', 'e', ' ', 'i', 's', ' ', 'A', 'h', 'm', 'a', 'd']\n"
          ]
        }
      ],
      "source": [
        "print([\"M\", \"y\", \" \", \"n\", \"a\", \"m\", \"e\", \" \", \"i\", \"s\", \" \", \"A\", \"h\", \"m\", \"a\", \"d\"])"
      ]
    },
    {
      "cell_type": "markdown",
      "metadata": {
        "id": "7NLtlMcmkcQm"
      },
      "source": [
        "No, really - that's how the sentence is stored in Python. \n",
        "\n",
        "When you use the `print()` function, the compiler actually strings all the characters together into one easy-to-read unit of a sentence for humans like us to read. "
      ]
    },
    {
      "cell_type": "markdown",
      "metadata": {
        "id": "oWPVc71AkcQm"
      },
      "source": [
        "Let's look at an individual word first... `\"Python\"`\n",
        "\n",
        "Using our previous knowledge of indexes, we can get the first letter of the word `\"Python\"` using `[0]`:"
      ]
    },
    {
      "cell_type": "code",
      "execution_count": null,
      "metadata": {
        "id": "LHV_KAYekcQm",
        "outputId": "cd7086ff-6108-4904-83f4-ad3a8ee44847"
      },
      "outputs": [
        {
          "name": "stdout",
          "output_type": "stream",
          "text": [
            "P\n"
          ]
        }
      ],
      "source": [
        "print(\"Python\"[0])"
      ]
    },
    {
      "cell_type": "markdown",
      "metadata": {
        "id": "M1ANNeB6kcQm"
      },
      "source": [
        "**NOTE** There is <u>no</u> variable name that I've provided - variables are just placeholders for the actual data that we're storing. I can (in this case) just quote the string directly and index it as appropriate!"
      ]
    },
    {
      "cell_type": "markdown",
      "metadata": {
        "id": "CKFg89CokcQm"
      },
      "source": [
        "Likewise, the last letter of the string can be accessed using the reverse (negative) index notation:"
      ]
    },
    {
      "cell_type": "code",
      "execution_count": null,
      "metadata": {
        "id": "H_2ivJ8BkcQm",
        "outputId": "79f233de-b2bc-464f-b6dd-85278bcb0ea3"
      },
      "outputs": [
        {
          "name": "stdout",
          "output_type": "stream",
          "text": [
            "n\n"
          ]
        }
      ],
      "source": [
        "print(\"Python\"[-1])"
      ]
    },
    {
      "cell_type": "markdown",
      "metadata": {
        "id": "_2PoL6SykcQn"
      },
      "source": [
        "_It's as simple as that!_"
      ]
    },
    {
      "cell_type": "markdown",
      "metadata": {
        "id": "91ceQUPnkcQn"
      },
      "source": [
        "### 7.7 Indexing a span of elements"
      ]
    },
    {
      "cell_type": "markdown",
      "metadata": {
        "id": "BIcshuy-kcQn"
      },
      "source": [
        "Can our indexing return a range of different elements? **Yes**. \n",
        "\n",
        "This is a bit weird if you haven't seen it before but do pay attention. \n",
        "\n",
        "We are aware that we have a zero-offset index. So, what we do is we specify two different indexes: a _starting_ index (inclusive) and an _ending_ index (<u>ex</u>clusive). \n",
        "\n",
        "Let's return to our grocery list from above:"
      ]
    },
    {
      "cell_type": "code",
      "execution_count": null,
      "metadata": {
        "id": "hdMGvV_ekcQn"
      },
      "outputs": [],
      "source": [
        "# a list of items, just like a grocery list.\n",
        "groceryList = [\"eggs\", \"milk\", \"bread\", \"cereal\"]"
      ]
    },
    {
      "cell_type": "markdown",
      "metadata": {
        "id": "6jcsIdDBkcQn"
      },
      "source": [
        "Let's obtain the elements `milk` and `bread`. To do this, we first specify the starting index corresponding with milk i.e. `1`. _So far, so good._\n",
        "\n",
        "Next, we use a colon (`:`) and choose another number that corresponds to **ONE** more than the index of the last element that we want. \n",
        "\n",
        "Why? Remember, our ending index is <u>ex</u>clusive i.e. it's not included in our extraction. So, our element extraction ends at `lastIndex - 1` essentially. "
      ]
    },
    {
      "cell_type": "code",
      "execution_count": null,
      "metadata": {
        "id": "rdxku1WzkcQn",
        "outputId": "44628674-d798-42f5-9faf-022b5fc98222"
      },
      "outputs": [
        {
          "name": "stdout",
          "output_type": "stream",
          "text": [
            "['milk', 'bread']\n"
          ]
        }
      ],
      "source": [
        "print(groceryList[1:3])"
      ]
    },
    {
      "cell_type": "markdown",
      "metadata": {
        "id": "1-whyffUkcQn"
      },
      "source": [
        "Voila! We've chosen the element with (zero-offset) index 1 and 2 but we've not stopped before element 3. \n",
        "\n",
        "_It's as simple as that_ (again). "
      ]
    },
    {
      "cell_type": "markdown",
      "metadata": {
        "id": "GCJQ4R9_kcQn"
      },
      "source": [
        "What if we want to go all the way to selecting the end of the list, especially if we don't know how big our list is? \n",
        "\n",
        "We omit the last index integer after the colon:"
      ]
    },
    {
      "cell_type": "code",
      "execution_count": null,
      "metadata": {
        "id": "YxtMkwaHkcQn",
        "outputId": "07945b66-ee0d-4f0a-a8d1-b711d67a2753"
      },
      "outputs": [
        {
          "name": "stdout",
          "output_type": "stream",
          "text": [
            "['milk', 'bread', 'cereal']\n"
          ]
        }
      ],
      "source": [
        "print(groceryList[1:])"
      ]
    },
    {
      "cell_type": "markdown",
      "metadata": {
        "id": "CyP-dsnjkcQo"
      },
      "source": [
        "To prove this, let's add one more element to `groceryList`:\n",
        "\n",
        "    groceryList = [\"eggs\", \"milk\", \"bread\", \"cereal\", \"tomato\"]"
      ]
    },
    {
      "cell_type": "code",
      "execution_count": null,
      "metadata": {
        "id": "KNGDlf5ckcQo",
        "outputId": "61f2c17a-8088-4fe1-d38a-197f48e9f9bf"
      },
      "outputs": [
        {
          "name": "stdout",
          "output_type": "stream",
          "text": [
            "['milk', 'bread', 'cereal', 'tomato']\n"
          ]
        }
      ],
      "source": [
        "groceryList = [\"eggs\", \"milk\", \"bread\", \"cereal\", \"tomato\"]\n",
        "print(groceryList[1:])"
      ]
    },
    {
      "cell_type": "markdown",
      "metadata": {
        "id": "e7o_m5SlkcQo"
      },
      "source": [
        "Likewise, we can also omit the starting index to _imply_ the start of the list. "
      ]
    },
    {
      "cell_type": "code",
      "execution_count": null,
      "metadata": {
        "id": "UIQGljRykcQo",
        "outputId": "37189be9-0a31-4384-a412-a51139663ff0"
      },
      "outputs": [
        {
          "name": "stdout",
          "output_type": "stream",
          "text": [
            "['eggs', 'milk', 'bread']\n"
          ]
        }
      ],
      "source": [
        "print(groceryList[:3])"
      ]
    },
    {
      "cell_type": "markdown",
      "metadata": {
        "id": "sM0_vivgkcQo"
      },
      "source": [
        "### Magic. \n",
        "If you're finding this fun and/or enjoyable, it's perfectly normal!"
      ]
    },
    {
      "cell_type": "markdown",
      "metadata": {
        "id": "5JCGhp9mkcQo"
      },
      "source": [
        "We can go one step further... what if we wanted to skip some items in our list?\n",
        "\n",
        "We can add another semi-colon and a third index that tells us how many elements we select e.g. _every 2nd_ or _every 3rd_ element:\n",
        "\n",
        "    [1:8:2]\n",
        "\n",
        "This means that for a hypothetical list, we start from the element in index 1, extract all the elements up to _but not including_ the element in index 8 **AND** select every <u>2</u><sup>nd</sup> element. \n",
        "\n",
        "Let's show this:"
      ]
    },
    {
      "cell_type": "code",
      "execution_count": null,
      "metadata": {
        "id": "J7j8VyH8kcQo",
        "outputId": "5e3316bd-900f-47fa-c002-5b279f1315ca"
      },
      "outputs": [
        {
          "name": "stdout",
          "output_type": "stream",
          "text": [
            "[3.5, 4.5, 6.2, 7.5]\n"
          ]
        }
      ],
      "source": [
        "listOfFloats = [1.2, 3.5, 4.3, 4.5, 5.6, 6.2, 6.7, 7.5, 7.9, 8.5]\n",
        "print(listOfFloats[1:8:2])"
      ]
    },
    {
      "cell_type": "markdown",
      "metadata": {
        "id": "5TK0nmTbkcQo"
      },
      "source": [
        "Implicitly, most lists that only contain two indexes e.g.:\n",
        "\n",
        "    [2:5]\n",
        "\n",
        "Actually mean\n",
        "\n",
        "    [2:5:1]\n",
        "\n",
        "since we're including every single element (hence the final `1` being included).\n",
        "\n",
        "Likewise, if we want to imply the start and end of a list, we simply omit the index in question:\n",
        "\n",
        "    [::3]\n",
        "\n",
        "This means _take every 3rd element of the list (implicitly from the start to the end of the list), starting from the zeroth element._\n",
        "\n",
        "_It's that simple, isn't it?_"
      ]
    },
    {
      "cell_type": "code",
      "execution_count": null,
      "metadata": {
        "id": "TQlwcavGkcQo",
        "outputId": "bf0c48a4-d720-4357-f37a-926321e8a802"
      },
      "outputs": [
        {
          "name": "stdout",
          "output_type": "stream",
          "text": [
            "[1.2, 4.5, 6.7, 8.5]\n"
          ]
        }
      ],
      "source": [
        "print(listOfFloats[::3])"
      ]
    },
    {
      "cell_type": "markdown",
      "metadata": {
        "id": "_3GAFTdCkcQp"
      },
      "source": [
        "i.e. the 0th, 3rd, 6th, 9th index element (notice the multiple of <u>3</u>?)"
      ]
    },
    {
      "cell_type": "markdown",
      "metadata": {
        "id": "ifVMNJ2vkcQp"
      },
      "source": [
        "The same can also apply to strings!"
      ]
    },
    {
      "cell_type": "code",
      "execution_count": null,
      "metadata": {
        "id": "okFceqRYkcQp",
        "outputId": "974f543a-bf89-473b-8606-362db18d3faf"
      },
      "outputs": [
        {
          "name": "stdout",
          "output_type": "stream",
          "text": [
            "Mneshd\n"
          ]
        }
      ],
      "source": [
        "anotherString = \"My name is Ahmad\"\n",
        "\n",
        "print(anotherString[::3])"
      ]
    },
    {
      "cell_type": "markdown",
      "metadata": {
        "id": "-r3JwDSUkcQp"
      },
      "source": [
        "Looks a bit weird, but it works!\n",
        "\n",
        "_Strings are just extended lists - remember that!_"
      ]
    },
    {
      "cell_type": "markdown",
      "metadata": {
        "id": "d3KiP7ALkcQp"
      },
      "source": [
        "### 7.8 Looping through lists"
      ]
    },
    {
      "cell_type": "markdown",
      "metadata": {
        "id": "j4qSTX-PkcQp"
      },
      "source": [
        "How can we print each individual element of our `groceryList` on the screen, on their own lines (just like a real life list)?\n",
        "\n",
        "A _loop_."
      ]
    },
    {
      "cell_type": "code",
      "execution_count": null,
      "metadata": {
        "id": "3djt57BgkcQp"
      },
      "outputs": [],
      "source": [
        "# looping through a list\n",
        "groceryList = [\"eggs\", \"milk\", \"bread\", \"cereal\", \"tomato\"]"
      ]
    },
    {
      "cell_type": "code",
      "execution_count": null,
      "metadata": {
        "id": "-rydh_b8kcQp",
        "outputId": "5502d026-16e9-40a5-a880-538f8e233115"
      },
      "outputs": [
        {
          "name": "stdout",
          "output_type": "stream",
          "text": [
            "eggs\n",
            "milk\n",
            "bread\n",
            "cereal\n",
            "tomato\n"
          ]
        }
      ],
      "source": [
        "for item in groceryList:\n",
        "    print(item)"
      ]
    },
    {
      "cell_type": "markdown",
      "metadata": {
        "id": "OUlGh76lkcQp"
      },
      "source": [
        "### 7.8.2 A distinction between lists and arrays\n",
        "\n",
        "You might sometimes read something called an _array_ in your journey through programming. \n",
        "\n",
        "It's important to make one small clarification here before you develop false ideas: **arrays** do <u>NOT</u> exist in Python (specifically).\n",
        "\n",
        "Lists and arrays are very _similar_ but the former allows for different data types and are more flexible.\n",
        "\n",
        "We won't discuss it in fine detail as this isn't a CS 101 course but it's important to be clear: **_arrays_ in Python don't exist!**"
      ]
    },
    {
      "cell_type": "markdown",
      "metadata": {
        "id": "0STu6H2MkcQp"
      },
      "source": [
        "### 7.9. Lists in more than one dimension"
      ]
    },
    {
      "cell_type": "markdown",
      "metadata": {
        "id": "kO44UKAAkcQp"
      },
      "source": [
        "Dum dum dum... you read the subheading right!\n",
        "\n",
        "It is actually possible to have a list of more than one dimension. You've actually seen these before when you were in elementary school... they're called _tables_. \n",
        "\n",
        "\"Huh\", you might blurt out. \n",
        "\n",
        "Okay, let's look at it from a programming perspective first: 2D-lists are essentially a collection of _lists_ **inside** a list.\n",
        "\n",
        "Here's one to get you familiar with the concept:"
      ]
    },
    {
      "cell_type": "code",
      "execution_count": null,
      "metadata": {
        "id": "_8Cja0H7kcQq"
      },
      "outputs": [],
      "source": [
        "dataTable = [\n",
        "    [15.2, 16.2, 17.3], \n",
        "    [20.1, 23.2, 25.4],\n",
        "    [30.3, 35.6, 39.9]\n",
        "]"
      ]
    },
    {
      "cell_type": "markdown",
      "metadata": {
        "id": "3kELR-2AkcQq"
      },
      "source": [
        "Essentially, we can organise the data in two different _directions_, whether by the month that the data was taken or the year that it was recorded - that's what is loosely meant by a _dimension_. \n",
        "\n",
        "It's a bit like an `xy`-cartesian graph: you can go Left to Right or Up and Down - that's another example of data in two dimensions i.e. it takes two different bits of information to locate a point on the graph (just like it takes a month and a year to locate a specific number in a table)."
      ]
    },
    {
      "cell_type": "markdown",
      "metadata": {
        "id": "PclFJ7tbkcQq"
      },
      "source": [
        "### 7.9.2. Looping in two dimensions. "
      ]
    },
    {
      "cell_type": "markdown",
      "metadata": {
        "id": "3Rck4tMMkcQq"
      },
      "source": [
        "Remember the idea of nesting for-loops? Lovely. Here, you're going to need that same idea too. \n",
        "\n",
        "Let's look back at the `data_table` variable and see if we can add up all the numbers in the table because... why not?"
      ]
    },
    {
      "cell_type": "code",
      "execution_count": null,
      "metadata": {
        "id": "lT10IaKskcQq",
        "outputId": "9f6e3ef1-8600-45d6-bcdb-62e723cbeab8"
      },
      "outputs": [
        {
          "name": "stdout",
          "output_type": "stream",
          "text": [
            "223.20000000000002\n"
          ]
        }
      ],
      "source": [
        "dataTable = [\n",
        "    [15.2, 16.2, 17.3], \n",
        "    [20.1, 23.2, 25.4],\n",
        "    [30.3, 35.6, 39.9]\n",
        "]\n",
        "\n",
        "total = 0\n",
        "for row in dataTable:\n",
        "    for value in row:\n",
        "        total += value\n",
        "\n",
        "print(total)"
      ]
    },
    {
      "cell_type": "markdown",
      "metadata": {
        "id": "CB9iT4a4kcQq"
      },
      "source": [
        "Interesting. \n",
        "\n",
        "To keep it short, here, we've looped through each row:"
      ]
    },
    {
      "cell_type": "code",
      "execution_count": null,
      "metadata": {
        "id": "wNjCogNBkcQq",
        "outputId": "7fa57b35-b235-4f72-9216-ea85185a5cc2"
      },
      "outputs": [
        {
          "name": "stdout",
          "output_type": "stream",
          "text": [
            "[15.2, 16.2, 17.3]\n",
            "[20.1, 23.2, 25.4]\n",
            "[30.3, 35.6, 39.9]\n"
          ]
        }
      ],
      "source": [
        "for row in dataTable:\n",
        "    print(row)"
      ]
    },
    {
      "cell_type": "markdown",
      "metadata": {
        "id": "ldRHXoI5kcQq"
      },
      "source": [
        "Next, we've looped through each element in each row..."
      ]
    },
    {
      "cell_type": "code",
      "execution_count": null,
      "metadata": {
        "id": "q4HAWHSlkcQq",
        "outputId": "6994bd31-560a-4a0a-c2bc-d48325f3d4d1"
      },
      "outputs": [
        {
          "name": "stdout",
          "output_type": "stream",
          "text": [
            "15.2\n",
            "16.2\n",
            "17.3\n",
            "20.1\n",
            "23.2\n",
            "25.4\n",
            "30.3\n",
            "35.6\n",
            "39.9\n"
          ]
        }
      ],
      "source": [
        "for row in dataTable:\n",
        "    for value in row:\n",
        "        print(value) # would be replaced by total += value"
      ]
    },
    {
      "cell_type": "markdown",
      "metadata": {
        "id": "XX8SsYDvkcQq"
      },
      "source": [
        "... and we've added the values to our running sum `total` before printing this out."
      ]
    },
    {
      "cell_type": "markdown",
      "metadata": {
        "id": "6-gGQ3O_kcQq"
      },
      "source": [
        "This idea of adding numbers in a 2D-list does have its applications, namely for matrices of Mathematics. \n",
        "\n",
        "It's not something you'll find often too much in the wild but it's good to know certain techniques in case you ever need them. "
      ]
    },
    {
      "cell_type": "markdown",
      "metadata": {
        "id": "qTgFG_uQkcQq"
      },
      "source": [
        "Right... onto tuples now. Phew!"
      ]
    },
    {
      "cell_type": "markdown",
      "metadata": {
        "id": "lHDTtbYMkcQq"
      },
      "source": [
        "# 8 Tuples\n",
        "## 8.1 Why do we bother?"
      ]
    },
    {
      "cell_type": "markdown",
      "metadata": {
        "id": "MvrCnaX2kcQr"
      },
      "source": [
        "Remember with lists, we were able to use an index to change an element of a list? This means that lists are _mutable_ i.e. that they can be edited or changed. "
      ]
    },
    {
      "cell_type": "markdown",
      "metadata": {
        "id": "w52syyJJkcQr"
      },
      "source": [
        "However, some lists are best left untouched. For instance, consider the list of days in a weekday:\n",
        "\n",
        "    weekdays = [\"Monday\", \"Tuesday\", \"Wednesday\", \"Thursday\", \"Friday\"]\n",
        "\n",
        "It would be very annoying if someone could change this for something completely different:\n",
        "\n",
        "    weekdays[-1] = \"Sunday\"\n",
        "\n",
        "as you see below:"
      ]
    },
    {
      "cell_type": "code",
      "execution_count": null,
      "metadata": {
        "id": "9F2vfCGNkcQr",
        "outputId": "1cdcdae8-4373-454a-d3e4-b7beb6713e47"
      },
      "outputs": [
        {
          "name": "stdout",
          "output_type": "stream",
          "text": [
            "['Monday', 'Tuesday', 'Wednesday', 'Thursday', 'Sunday']\n"
          ]
        }
      ],
      "source": [
        "weekdays_list = [\"Monday\", \"Tuesday\", \"Wednesday\", \"Thursday\", \"Friday\"]\n",
        "weekdays_list[-1] = \"Sunday\"\n",
        "\n",
        "print(weekdays_list)"
      ]
    },
    {
      "cell_type": "markdown",
      "metadata": {
        "id": "pF_JMTa4kcQr"
      },
      "source": [
        "Oh dear. \n",
        "\n",
        "Is there a list structure in Python that doesn't allow for this mutability?\n",
        "\n",
        "Why, **yes**... that's a tuple!\n",
        "\n",
        "Tuples are identical to lists except in two ways:\n",
        "\n",
        "1. Tuples are <u>immutable</u>\n",
        "2. They use <u>round</u> brackets instead of square brackets **when <u>creating</u> the tuple, <u>NOT</u> for indexing** (i.e. they still use square brackets for indexing)"
      ]
    },
    {
      "cell_type": "code",
      "execution_count": null,
      "metadata": {
        "id": "XTF4VZktkcQr"
      },
      "outputs": [],
      "source": [
        "weekdays_tuple = (\"Monday\", \"Tuesday\", \"Wednesday\", \"Thursday\", \"Friday\")"
      ]
    },
    {
      "cell_type": "markdown",
      "metadata": {
        "id": "sQ8jT45-kcQr"
      },
      "source": [
        "Try editing the tuple now:"
      ]
    },
    {
      "cell_type": "code",
      "execution_count": null,
      "metadata": {
        "id": "JKxC8MhDkcQr",
        "outputId": "a13904a1-c7cc-4a28-c907-8d0ebde20a69"
      },
      "outputs": [
        {
          "ename": "TypeError",
          "evalue": "'tuple' object does not support item assignment",
          "output_type": "error",
          "traceback": [
            "\u001b[1;31m---------------------------------------------------------------------------\u001b[0m",
            "\u001b[1;31mTypeError\u001b[0m                                 Traceback (most recent call last)",
            "Cell \u001b[1;32mIn[60], line 1\u001b[0m\n\u001b[1;32m----> 1\u001b[0m weekdays_tuple[\u001b[39m-\u001b[39;49m\u001b[39m1\u001b[39;49m] \u001b[39m=\u001b[39m \u001b[39m\"\u001b[39m\u001b[39mSunday\u001b[39m\u001b[39m\"\u001b[39m\n",
            "\u001b[1;31mTypeError\u001b[0m: 'tuple' object does not support item assignment"
          ]
        }
      ],
      "source": [
        "weekdays_tuple[-1] = \"Sunday\""
      ]
    },
    {
      "cell_type": "markdown",
      "metadata": {
        "id": "K645TQglkcQr"
      },
      "source": [
        "Welp - the error is exactly what it says on the tin. \n",
        "\n",
        "We can't assign a new value (item) to an index with tuples so Python tells us that it can't do the assignment we've asked it to because by nature, tuples are immutable.\n",
        "\n",
        "It has its uses. Namely, if there is a list of elements that we want to keep _constant_ such as the example above. \n",
        "\n",
        "Other examples include e.g. the lists of countries in the world and specific historical records that shouldn't be changed. "
      ]
    },
    {
      "cell_type": "markdown",
      "metadata": {
        "id": "k82VivVfkcQr"
      },
      "source": [
        "How can we edit lists without using the index assignment way? **We use methods...** coming up soon. "
      ]
    },
    {
      "cell_type": "markdown",
      "metadata": {
        "id": "ArL06_itkcQr"
      },
      "source": [
        "# 9 Dictionaries\n",
        "## 9.1. Just like a language dictionary (ish)"
      ]
    },
    {
      "cell_type": "markdown",
      "metadata": {
        "id": "PoPhpwOYkcQr"
      },
      "source": [
        "Remember those dictionaries that you used to pick up at school when you were unsure about the meaning of a word?\n",
        "\n",
        "Think about it - each word has an _associated_ definition e.g. \n",
        "\n",
        "    \"crypto\":\"a digital currency\"\n",
        "\n",
        "Here, our word is known as a _key_ and the definition is known as a _value_. More abstractly, keys and values are associated to form an **item**. \n",
        "\n",
        "Python offers us the opportunity to define a collection of such items known as a **dictionary**. To make one, we use curly brackets `{}`. "
      ]
    },
    {
      "cell_type": "code",
      "execution_count": null,
      "metadata": {
        "id": "Ls_pWEk6kcQs"
      },
      "outputs": [],
      "source": [
        "coins = {\n",
        "    \"BTC\":\"Bitcoin\",\n",
        "    \"ETH\":\"Ethereum\"\n",
        "}"
      ]
    },
    {
      "cell_type": "markdown",
      "metadata": {
        "id": "igii1LRhkcQs"
      },
      "source": [
        "Uniquely, we can access the <u>value</u> of an item by using its key as an index of-sorts. "
      ]
    },
    {
      "cell_type": "code",
      "execution_count": null,
      "metadata": {
        "id": "EKz4BJGKkcQs",
        "outputId": "67da7baa-3ef1-4da0-c2e5-003c17ca4332"
      },
      "outputs": [
        {
          "name": "stdout",
          "output_type": "stream",
          "text": [
            "Bitcoin\n"
          ]
        }
      ],
      "source": [
        "print(coins[\"BTC\"])"
      ]
    },
    {
      "cell_type": "markdown",
      "metadata": {
        "id": "_z3bG_J-kcQs"
      },
      "source": [
        "**NOTE** you cannot reverse-search a value to find its key directly. \n",
        "\n",
        "Additionally, you cannot use a numerical index to <i>traverse</i> (a fancy computing term for 'travel' or 'search') through a dictionary as dictionaries are unordered i.e. the keys do not have ordered indexes attached to them. \n",
        "\n",
        "That is an entirely separate construct that requires a tad more engineering (or just a search on StackExchange, probably)."
      ]
    },
    {
      "cell_type": "markdown",
      "metadata": {
        "id": "THzU3XuokcQs"
      },
      "source": [
        "If you're wondering \"where is the section on subroutines and OOP?\" - that's still a work in progress. We'll update it before the end of the week (27th January, 2023)."
      ]
    }
  ],
  "metadata": {
    "kernelspec": {
      "display_name": "base",
      "language": "python",
      "name": "python3"
    },
    "language_info": {
      "codemirror_mode": {
        "name": "ipython",
        "version": 3
      },
      "file_extension": ".py",
      "mimetype": "text/x-python",
      "name": "python",
      "nbconvert_exporter": "python",
      "pygments_lexer": "ipython3",
      "version": "3.10.8 | packaged by conda-forge | (main, Nov 24 2022, 14:07:00) [MSC v.1916 64 bit (AMD64)]"
    },
    "orig_nbformat": 4,
    "vscode": {
      "interpreter": {
        "hash": "f75883bbb2298c85488032bb996c36d1680e673639c308dfac8114ab3ae14dfd"
      }
    },
    "colab": {
      "provenance": []
    }
  },
  "nbformat": 4,
  "nbformat_minor": 0
}