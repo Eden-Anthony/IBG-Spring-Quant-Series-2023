{
 "cells": [
  {
   "cell_type": "code",
   "execution_count": null,
   "metadata": {},
   "outputs": [],
   "source": []
  }
 ],
 "metadata": {
  "kernelspec": {
   "display_name": "Python 3.10.9 64-bit (microsoft store)",
   "language": "python",
   "name": "python3"
  },
  "language_info": {
   "name": "python",
   "version": "3.10.9"
  },
  "orig_nbformat": 4,
  "vscode": {
   "interpreter": {
    "hash": "96f7defb9b5b9ea19dc2fee60ef6d04216c527479ca16044c6d9f39c1e474b96"
   }
  }
 },
 "nbformat": 4,
 "nbformat_minor": 2
}
