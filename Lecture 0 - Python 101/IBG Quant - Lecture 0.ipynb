{
 "cells": [
  {
   "cell_type": "markdown",
   "metadata": {},
   "source": [
    "# Quantitative Trading Course\n",
    "## _Imperial Blockchain Group_\n",
    "### Lecture 0 - An introduction to Python\n",
    "#### Lead Instructor: **Ahmad Danesh**"
   ]
  },
  {
   "cell_type": "markdown",
   "metadata": {},
   "source": [
    "Welcome to the Quantitative Trading Group by Imperial Blockchain Group in collaboration with the following societies:\n",
    "- Imperial College Data Science Society\n",
    "- Imperial College FinTech Society\n",
    "- Imperial College Algorithmic Trading Society\n",
    "\n",
    "Over the course of this session, you will be able to understand the bare basics of Python required for the course and understand the nature of Python and how to think appropriately when writing code to solve quantitative trading problems. \n",
    "\n",
    "We do **NOT** expect anyone to have mastered Python before the start the course since often the teaching in Python so far has been lacklustre and confusing. The team and I at IBG aim to help you understand Python effectively whilst also diving deeper into the realms of relatively more advanced topics e.g. functions and OOP and touching briefly on the Computer Science (CS) theory that drives some of the design decisions in Python. \n",
    "\n",
    "There will be Amazon codes throughout the lecture so try and spot them when you can and execute them before your fellow peers claim them!\n",
    "If they're gone, **they're gone!**\n",
    "\n",
    "If you've previously done the Imperial College Investment Society's Systematic Trading Education Certificate (\"STEC\", led by Brendan Patalong) and you were lost throughout that course, **you've definitely come to the right place!** At IBG, we aim to deliver the best quality explanations and ensure that your experience is best optimised rather than delivering lacklustre sessions. So, be sure that the next 7 weeks will be very entertaining!\n",
    "\n",
    "This introduction to Python will serve you best for future hackathons (more news on that in the coming weeks) and in your general career. \n",
    "\n",
    "_Do keep this notebook if it helps you in future studies or your career - it's a great portfolio of work and a reference point to remind yourself of how to complete certain procedures and tasks in Python!_\n",
    "\n",
    "Other than that, welcome to IBG's Quantitative Trading Course and all the best!\n",
    "\n",
    "Best wishes, \n",
    "<br>**Ahmad Danesh**\n",
    "<br>Quantitative Trading Lead\n",
    "<br>Imperial Blockchain Group\n",
    "\n",
    "Securities Education Certificate Lead Lecturer (2021-23)\n",
    "<br>Investment Society, Imperial College London"
   ]
  },
  {
   "cell_type": "markdown",
   "metadata": {},
   "source": [
    "## 1. Course Structure"
   ]
  },
  {
   "cell_type": "markdown",
   "metadata": {},
   "source": [
    "The course is split into 6 sessions (as of the 16th of January):\n",
    "\n",
    "0. An Introduction to Python (by Ahmad Danesh i.e. me)\n",
    "1. An Introduction to Pandas (by Imran Khan, IBG President)\n",
    "2. Exchange API & Instrument Fundamentals (By Ahmad Danesh and Naman Sharma, FinTech President)\n",
    "3. Intro to DefI (by GSR)\n",
    "4. Maximal Extractable Value (MEV) Strategies (GSR)\n",
    "5. Risk Management\n",
    "6. Onchain Options (Opyn)\n",
    "\n",
    "Sessions 1-6 **should** be in-person where Pizzas and Prizes are up for grabs! They'll be held on Mondays and Tuesdays from 6:15-7:30pm in CAGB 200. \n",
    "\n",
    "**Do come along!**"
   ]
  },
  {
   "cell_type": "markdown",
   "metadata": {},
   "source": [
    "## 2. The motivations of programming"
   ]
  },
  {
   "cell_type": "markdown",
   "metadata": {},
   "source": [
    "### 2.1 Why would we want to program in the first place?"
   ]
  },
  {
   "cell_type": "markdown",
   "metadata": {},
   "source": [
    "Programming means that we can get the computer to do tasks that we (as humans) aren't very efficient at. Therefore, computers _tend_ to give better accuracy than humans **BUT** not all of the time - this does, of course, vary on a case-by-case basis. \n",
    "\n",
    "For this reason, computers are useful for some problems far beyond our abilities in some fields e.g. Maths where differential equations can't be solved by hand and need a computer to figure out a solution. More commonly, computers help you to connect with other *machines* on the internet so that you can buy items, control another piece of hardware and much more!\n",
    "\n",
    "As computers are driven by solid-state hardware, they're faster than any human could ever be. A lot of stock markets now run on computers where millions (and soon-to-be billions) of sales are made every second. In quantitative trading, being delayed by even a fraction of a millisecond could cost a firm millions so it's important to be as quick as possible and that's the power that computers bring to the table. \n",
    "\n",
    "More importantly... **it's fun** to learn programming! Yes, trying something new can be daunting whether that's programming or trying a new sport/hobby. However, provided that you have a good teacher/instructor that guides you through the weeds and the trees, you'll end up acclimatising to your new surroundings as soon as you're done with the course. \n",
    "\n",
    "Always remember: _No one is ever a bad student: only a bad <u>teacher</u> is the reason why you suck!_"
   ]
  },
  {
   "cell_type": "markdown",
   "metadata": {},
   "source": [
    "### 2.2 How do computers <u>think</u>?"
   ]
  },
  {
   "cell_type": "markdown",
   "metadata": {},
   "source": [
    "Saying that computers think can be argued to be a loosely-deifned term. More precisely, it's important to understand how computers <u>process</u> instructions accordingly at the very heart of the computer's hardware. \n",
    "\n",
    "Most machines (including computers) use something called **machine code** to, well... \"think\". It's best to think of Machine Code as essentially the pure, raw, untranslated version of the instructions that they use to perform specific tasks. They do look quite cryptic (and they probably do if you're a beginner) but each line has a specific meaning attached.\n",
    "\n",
    "Take the following machine code below:"
   ]
  },
  {
   "cell_type": "markdown",
   "metadata": {},
   "source": [
    "    00000000\t7f 45 4c 46 01 01 01 00  \t00 00 00 00 00 00 00 00  \t|.ELF............|\n",
    "    00000010\t02 00 03 00 01 00 00 00  \t54 80 04 08 34 00 00 00  \t|........T...4...| \n",
    "    00000020\t00 00 00 00 00 00 00 00  \t34 00 20 00 01 00 00 00  \t|........4. .....| \n",
    "    00000030\t00 00 00 00 01 00 00 00  \t00 00 00 00 00 80 04 08  \t|................|\n",
    "    00000040\t00 80 04 08 74 00 00 00  \t74 00 00 00 05 00 00 00  \t|....t...t.......|\n",
    "    00000050\t00 10 00 00 b0 04 31 db  \t43 b9 69 80 04 08 31 d2  \t|......1.C.i...1.|\n",
    "    00000060\tb2 0b cd 80 31 c0 40 cd  \t80 48 65 6c 6c 6f 20 77  \t|....1.@..Hello w|\n",
    "    00000070\t6f 72 6c 64                                               |orld| \n",
    "    00000074 "
   ]
  },
  {
   "cell_type": "markdown",
   "metadata": {},
   "source": [
    "This machine code was taken from a 32-byte Linux System and shows the machine code used to display the beginner-friendly phrase _\"Hello World\"_. \n",
    "\n",
    "Clearly, it's quite obvious that for human beings like ourselves, writing this code for displaying a message to a screen is a lot of effort and rather inefficient if we're going to be doing much more complex operations such as moving shapes around a screen or performing specific calculations. \n",
    "\n",
    "Machine code then feeds to the heart of the computer i.e. the Central Processing Unit (CPU). The CPU is where the code is executed and the computer shows us the result of the CPU's hard work. \n",
    "\n",
    "Now, I'm sure you're going to understand where we are going. _How do we program a computer to do complicated tasks for us **if** machine code is far too advanced for generic humans like us?_\n",
    "\n",
    "To solve this, many smart scientists developed _higher-level programming languages_ that are more similar to the languages that you and I speak in to each other every day. The one that we're probably accustomed to at Imperial and is today the subject of Lecture 0 is **Python** itself. \n",
    "\n",
    "So, let's delve a bit more into Python to see what it's about. "
   ]
  },
  {
   "cell_type": "markdown",
   "metadata": {},
   "source": [
    "### 2.3 A small history of a big Python"
   ]
  },
  {
   "cell_type": "markdown",
   "metadata": {},
   "source": [
    "Python was essentially a hobby project for one Guido Van Rossum of the Netherlands. Wanting an easy-to-understand language that could be open source, Guido released Python in 1991 and it's a huge programming language today. It exists in every cornerstone of technology and it could take an entire day to talk about its implementations across the world although one of its biggest impacts is in Quantitative Trading (hence the subject of today's lecture). \n",
    "\n",
    "The structure of Python is actually quite smart:"
   ]
  },
  {
   "cell_type": "markdown",
   "metadata": {},
   "source": [
    "<img src=\"./img/code-stack.jpg\" width=\"30%\"/>\n",
    "<br>N.B. if you're unable to see this image, try using a light theme of Jupyter notebook!"
   ]
  },
  {
   "cell_type": "markdown",
   "metadata": {},
   "source": [
    "To keep it short, the high-level code that any average human writes is processed through several stages. \n",
    "\n",
    "First, the compiler tries to put your program together expecting no errors. If errors exist, the compiler sends a message to tell you that something has messed up!\n",
    "\n",
    "Next, the compiler translates the code into Bytecode and is passed onto the Python Virtual Machine (PVM). The PVM ensures that no matter what machine you are using, the code will work 100% of the time. This is because different machines have different architectures (i.e. different \"plans\" like in building architecture) so the PVM ensures that whether you are using a Mac or a Lenovo, your code produces the most suitable machine code for your machine. \n",
    "\n",
    "After that, the machine code is generated and is passed onto the CPU for execution to give you the result that you want!\n",
    "\n",
    "Short and simple, eh?"
   ]
  },
  {
   "cell_type": "markdown",
   "metadata": {},
   "source": [
    "### 2.4 A toolbox for Python - let's assemble them."
   ]
  },
  {
   "cell_type": "markdown",
   "metadata": {},
   "source": [
    "Coding in Python isn't actually a challenge. In fact, it's knowing what tools to use is what tends to be the bigger challenge. \n",
    "\n",
    "There are 3 main things that you need to become familiar with before you ever start programming:\n",
    "\n",
    "1. The editor. \n",
    "\n",
    "If you ever open a Word document, there's a blank space there ready for you to start typing. In programming, it's the same. The blank space that you use is known as the **editor**. I think that's a pretty straightforward idea, no?\n",
    "\n",
    "2. Integrated Development Environment (IDE)\n",
    "\n",
    "A bit more wordy but essentially, an environment is the workplace where you develop your code. Just like the Amazon rainforest environment has different trees and animals, your programming environment has different tools and languages that you use to get your job done!\n",
    "\n",
    "Integrated refers to the fact that your tools all live under one roof (including the editor, compiler etc.) and, well... _development_ is what you're doing when you're programming. \n",
    "\n",
    "3. Shell\n",
    "\n",
    "A shell is a bit harder to understand. Essentially, your operating system (Mac, Windows, Linux etc.) isn't exactly open to accepting all different types of commands. It can run commands as much as you please but to actually get the right message across and prevent unauthorised / ill advised actions, the shell wraps around the core of the operating system and acts as a middleman to mediate commands from you to the centre of the computer. \n",
    "\n",
    "If you get the wrong commands or you do something wrong, the shell will refuse to run your code and it will give you an error. \n",
    "\n",
    "**Remember to respect your shell and learn Python as accurately as possible, accordingly!**\n",
    "\n",
    "Before we start, _please_ download an IDE: we recommend Visual Studio <u>Code</u> for this course and beyond! It's free and it works on Mac and Windows. \n",
    "\n",
    "_Let's get cracking!_"
   ]
  },
  {
   "cell_type": "markdown",
   "metadata": {},
   "source": [
    "## 3. Writing our very first line of code..."
   ]
  },
  {
   "cell_type": "markdown",
   "metadata": {},
   "source": [
    "### 3.1. Hello World!"
   ]
  },
  {
   "cell_type": "markdown",
   "metadata": {},
   "source": [
    "Let's write our very first line of code. \n",
    "\n",
    "To do this, go to file > new file. (Alternatively, if you're on Jupyter Notebook, just make a new notebook and insert a new cell.)\n",
    "\n",
    "Here, write the following:\n",
    "\n",
    "    print(\"Hello World\")"
   ]
  },
  {
   "cell_type": "code",
   "execution_count": 4,
   "metadata": {},
   "outputs": [],
   "source": [
    "# try to type the code you see above in this cell (underneath this line, in the space below)\n"
   ]
  },
  {
   "cell_type": "markdown",
   "metadata": {},
   "source": [
    "Nice. \n",
    "\n",
    "Before you choose to run this code, I'd suggest you add the Python extension via VSCode's marketplace. You'll receive extra functionality and support specifically towards Python to make your life easier. \n",
    "\n",
    "Once you've installed the extension, press play (or alternatively use the SHIFT + ENTER shortcut in Jupyter) and see the magic unfold!\n",
    "\n",
    "    Hello World"
   ]
  },
  {
   "cell_type": "markdown",
   "metadata": {},
   "source": [
    "Well done - you've just written your first line of code!\n",
    "\n",
    "You just got your machine to display your own message to the screen!"
   ]
  },
  {
   "cell_type": "markdown",
   "metadata": {},
   "source": [
    "_Fun fact_: The idea of \"Hello World\" is often attributed to a legendary Computer Scientist called Brian Kernighan while he was working at Bell Laboratories in 1974. \n",
    "\n",
    "Brian created his own language called \"B\" where he wrote a book including the classic \"hello world\" message to the screen as part of a tutorial on the \"B\" language. \n",
    "\n",
    "As some of you may have guessed, \"B\" later gave rise to \"C\", a language that some of you often have the nightmare or the pleasure to deal with (depending on which side you lie)."
   ]
  },
  {
   "cell_type": "markdown",
   "metadata": {},
   "source": [
    "Let's examine this code a bit further. \n",
    "We start with using a specific word here:\n",
    "\n",
    "    print\n",
    "\n",
    "This is known as a **keyword** - specifically, it is a _function keyword_ that helps tell the computer what type of action we want the computer to do.  \n",
    "\n",
    "We include brackets as part of this \"action\" notation (which is **INTENTIONAL** as you will see later when we discuss the idea of functions!). Inside this round brackets, we include two words surrounded by quotation marks:\n",
    "\n",
    "    \"Hello World\"\n",
    "\n",
    "This is known as a string. Essentially, it's a string of different characters that we can 'string' together to make a word or a sentence."
   ]
  },
  {
   "cell_type": "markdown",
   "metadata": {},
   "source": [
    "As you might have guessed, we can't just type whatever we want in the way that we want i.e. we have to follow a specific format. For instance, try running the following:\n",
    "\n",
    "    Print(\"Hello World\")\n"
   ]
  },
  {
   "cell_type": "code",
   "execution_count": null,
   "metadata": {},
   "outputs": [],
   "source": [
    "# Try running the line above where P in the function keyword is capitalised:\n"
   ]
  },
  {
   "cell_type": "markdown",
   "metadata": {},
   "source": [
    "As you might have been able to guess, you **cannot** capitalise a function keyword in Python. \n",
    "\n",
    "Also, you can't do the following:\n",
    "\n",
    "    print\"(Hello World)\"\n",
    "\n",
    "Again, big no-no! The rounded brackets or 'parentheses' have to be outside the quotation marks. Why? They're function _arguments_, which we will revisit later. \n",
    "\n",
    "The point I'm trying to make is that there are rules that exist in programming and we call this the **syntax**. In English, a syntax exists in the way that we articulate each phrase... it's called grammar! Syntax in Programming is just what we would call the rules of grammar in English. "
   ]
  },
  {
   "cell_type": "markdown",
   "metadata": {},
   "source": [
    "### 3.2. Variables"
   ]
  },
  {
   "cell_type": "markdown",
   "metadata": {},
   "source": [
    "However, what if we want to store our \"Hello World\" message and use it for later? We might not need it now but we may make use of it later!\n",
    "\n",
    "This is where the idea of variables come in. With variables, you can attach programming stuff like strings in the computer's memory and retrieve it later for when you need it (just like a human brain when we need to remember things!)\n",
    "\n",
    "I prefer to think of variables like those cardboard boxes where you store things in them, put a name on them and put them away in the attic for when you need them - computer variables are virtually identical in this way. \n",
    "\n",
    "To do this in Python, we do something called variable initialisation:\n",
    "\n",
    "    myString = \"Hello World\"\n",
    "\n",
    "Try running it below!"
   ]
  },
  {
   "cell_type": "code",
   "execution_count": null,
   "metadata": {},
   "outputs": [],
   "source": [
    "# Store the \"Hello World\" string to a variable.\n"
   ]
  },
  {
   "cell_type": "markdown",
   "metadata": {},
   "source": [
    "To then print the string, simply use the variable name instead:\n",
    "    \n",
    "    print(myString)"
   ]
  },
  {
   "cell_type": "code",
   "execution_count": 5,
   "metadata": {},
   "outputs": [],
   "source": [
    "# Try to print myString to the screen\n"
   ]
  },
  {
   "cell_type": "markdown",
   "metadata": {},
   "source": [
    "It's as simple as that!\n",
    "\n",
    "There is also another idea when working with variables called variable _declaration_ but that's far beyond what Python does. So, we won't cover it. \n",
    "\n",
    "Just remember, we're **initialising** variables, **NOT** declaring them (ish). "
   ]
  },
  {
   "cell_type": "markdown",
   "metadata": {},
   "source": [
    "#### 3.2.2. Naming variables"
   ]
  },
  {
   "cell_type": "markdown",
   "metadata": {},
   "source": [
    "In theory, you can name variables however you wish. However, just like organic chemists have to have a unified system to keep everyone happy and avoid complaints, programmers also have a naming convention for declaring variable names. \n",
    "\n",
    "1. **PLEASE** be careful with the name that you give a variable. If the name is too vague or too long, your fellow programmers will spend ages trying to work out what your code is doing!\n",
    "\n",
    "2. You **CANNOT** start a variable name with a number. Simply, that's not allowed!\n",
    "\n",
    "3. (Recommended) Use camelCase to name your variables\n",
    "\n",
    "e.g. \n",
    "\n",
    "    money_spent_by_every_customer_last_year_male\n",
    "\n",
    "is too long a name. \n",
    "\n",
    "Likewise:\n",
    "\n",
    "    r_m_22\n",
    "\n",
    "is too value and doesn't tellme what the variable actually stands for. \n",
    "\n",
    "This, however is suitable:\n",
    "\n",
    "    revenue_male_2022\n",
    "\n",
    "Simple, clean and efficient!\n",
    "\n",
    "I prefer to use something called camelCase which is where the first letter of the word is loewrcase but all subsequent words that appear in the variable are uppercase:\n",
    "\n",
    "    revenueMale2022\n",
    "\n",
    "Much more cleaner without those underscores!"
   ]
  },
  {
   "cell_type": "markdown",
   "metadata": {},
   "source": [
    "### 3.2.3. Variable Types"
   ]
  },
  {
   "cell_type": "markdown",
   "metadata": {},
   "source": [
    "Do we just use strings in programming? Certainly not!\n",
    "\n",
    "In Python, we can use more than one *type* of data:\n",
    "\n",
    "- Strings (e.g. `\"computer\"`)\n",
    "- Integers (e.g. `42`)\n",
    "- Float (e.g. `1.45`)\n",
    "- Boolean (`True` or `False`)\n",
    "\n",
    "Floats are inherently useful when we're working with numbers involving decimals - of course, when we're working in Crypto markets, we're going to be using prices or quotes with decimal numbers. \n",
    "\n",
    "Boolean types are rarer but you will see them when we discuss the idea of selection and iteration. Most of the time however, you will encounter strings and integers during your time as a beginner although it's nice to see how other data types do exist. "
   ]
  },
  {
   "cell_type": "markdown",
   "metadata": {},
   "source": [
    "### 3.3. Doing maths with arithmetic operations."
   ]
  },
  {
   "cell_type": "markdown",
   "metadata": {},
   "source": [
    "We can all do maths! We know of addition, subtraction, division etc. all from the world of BIDMAS. You can perform arihmetic operations in Python using a selection of operators:\n",
    "\n",
    "- Add (`+`)\n",
    "- Subtract (`-`)\n",
    "- Divide (`/`)\n",
    "- Multiply (`*`)\n",
    "- Exponentiate (`**`) i.e. raise to the power or \"indicies\"\n",
    "- Modulus (`%`) i.e. the remainder of a division operation.\n",
    "\n",
    "Let's go through each one in turn so that we're aware of what's going on. "
   ]
  },
  {
   "cell_type": "code",
   "execution_count": null,
   "metadata": {},
   "outputs": [],
   "source": [
    "# adding two numbers\n",
    "print(1+3)"
   ]
  },
  {
   "cell_type": "code",
   "execution_count": null,
   "metadata": {},
   "outputs": [],
   "source": [
    "# subtracting two numbers\n",
    "print(12-3)"
   ]
  },
  {
   "cell_type": "code",
   "execution_count": null,
   "metadata": {},
   "outputs": [],
   "source": [
    "# dividing two numbers\n",
    "print(25/5)"
   ]
  },
  {
   "cell_type": "code",
   "execution_count": null,
   "metadata": {},
   "outputs": [],
   "source": [
    "# raise a number to a power\n",
    "# 3 cubed\n",
    "print(3**3)"
   ]
  },
  {
   "cell_type": "markdown",
   "metadata": {},
   "source": [
    "So, it's pretty obvious how _most_ of them work... apart from the modulus operator. \n",
    "\n",
    "### 3.3.2 The modulus operator"
   ]
  },
  {
   "cell_type": "markdown",
   "metadata": {},
   "source": [
    "The modulus operator is quite simple: **it tells you the remainder of a division.**\n",
    "\n",
    "You know how 3 goes into 8 twice with 2 remainder? The modulus operator gives you the value of the <u>remainder</u>!"
   ]
  },
  {
   "cell_type": "code",
   "execution_count": null,
   "metadata": {},
   "outputs": [],
   "source": [
    "print(8%3)"
   ]
  },
  {
   "cell_type": "markdown",
   "metadata": {},
   "source": [
    "At face value, this doesn't seem like a big deal. \n",
    "\n",
    "**However**, this modulus operator becomes crucial when you're trying to work out which _integers_ are even and which are odd. \n",
    "\n",
    "Remember, _integers_ that are odd always give a remainder of 1 when divided by 2! So, we can divide any integer by 2 and if we get a remainder of 1, we know it's odd. \n",
    "\n",
    "_Notice that I said integers and **NOT** number! Integers are **whole** numbers while a number could be whole or not. <br>Being specific here is important!_"
   ]
  },
  {
   "cell_type": "code",
   "execution_count": null,
   "metadata": {},
   "outputs": [],
   "source": [
    "# The modulus of an odd number is always 1\n",
    "print(35%2)"
   ]
  },
  {
   "cell_type": "markdown",
   "metadata": {},
   "source": [
    "This may not seem like much but this will be very powerful later on!"
   ]
  },
  {
   "cell_type": "markdown",
   "metadata": {},
   "source": [
    "### 3.4 Always keeping track of your work with comments!"
   ]
  },
  {
   "cell_type": "markdown",
   "metadata": {},
   "source": [
    "For many of the code blocks above, I've been putting specific notes to tell you what the code below it does. \n",
    "\n",
    "I haven't actually done that by accident - that is intentional by design. These bits of commentary are called, er... comments!\n",
    "\n",
    "Think about it - if you've written code a year ago and you've come back to it, you're going to really struggle to understand the code you've written if you didn't have any comments. \n",
    "\n",
    "Alternatively, if you hand out your code to other people and they have no clue what you've done, you're going to have a hard time troubleshooting your code. \n",
    "\n",
    "To add a comment, **use the hashtag '#' symbol**:\n",
    "\n",
    "    # This would be a comment in a block of code. \n",
    "\n",
    "**REMEMBER** comments are <u>not</u> executed in Python. They are purely for your documentation purposes so that you can read it and understand the purpose of the code and help others understand it better at a quick glance. "
   ]
  },
  {
   "cell_type": "code",
   "execution_count": null,
   "metadata": {},
   "outputs": [],
   "source": [
    "# multiplying two integers together\n",
    "c = 6 * 7\n",
    "print(c)"
   ]
  },
  {
   "cell_type": "markdown",
   "metadata": {},
   "source": [
    "Right! Onto relational operators!"
   ]
  },
  {
   "cell_type": "markdown",
   "metadata": {},
   "source": [
    "## 4.1 Relating two different items with relational operators"
   ]
  },
  {
   "cell_type": "markdown",
   "metadata": {},
   "source": [
    "We've written out strings, other data types, displayed items on a screen and done some maths. \n",
    "\n",
    "Let's do something different: why don't we try comparing the values of two different items. \n",
    "\n",
    "In maths, we do this a lot:\n",
    "\n",
    "    7 > 5\n",
    "\n",
    "_7 is bigger than 5_\n",
    "\n",
    "We can do similar things in Python using relational operators:\n",
    "\n",
    "- Equal to (`==`)\n",
    "- Not equal to (`!=`)\n",
    "- Less than (`<`)\n",
    "- Greater than (`>`)\n",
    "- Less than or equal to (`<=`)\n",
    "- Greater than or equal to (`>=`)\n",
    "\n",
    "Relational operators give out (i.e. **return**) either a boolean `True` or `False` value, as you can see in the example below:"
   ]
  },
  {
   "cell_type": "code",
   "execution_count": null,
   "metadata": {},
   "outputs": [],
   "source": [
    "# checks whether age is legal for drinking alcohol (> 18)\n",
    "myAge = 21\n",
    "legalDrinkingAge = 18\n",
    "print(\"Is myAge greater than legalDrinkingAge?\")\n",
    "print(myAge > legalDrinkingAge) # prints True"
   ]
  },
  {
   "cell_type": "markdown",
   "metadata": {},
   "source": [
    "Just to convince you, let's look at all the other operators to show how they would work:"
   ]
  },
  {
   "cell_type": "code",
   "execution_count": null,
   "metadata": {},
   "outputs": [],
   "source": [
    "# Is 3 equal to 3?\n",
    "print (3==3)"
   ]
  },
  {
   "cell_type": "code",
   "execution_count": null,
   "metadata": {},
   "outputs": [],
   "source": [
    "# Is blue not the same as green?\n",
    "print(\"blue\" != \"green\")"
   ]
  },
  {
   "cell_type": "code",
   "execution_count": null,
   "metadata": {},
   "outputs": [],
   "source": [
    "# Is 500 less than 250?\n",
    "print(500 < 250)"
   ]
  },
  {
   "cell_type": "code",
   "execution_count": null,
   "metadata": {},
   "outputs": [],
   "source": [
    "# Is 486 greater than or equal to 486?\n",
    "print(486 >= 486)"
   ]
  },
  {
   "cell_type": "code",
   "execution_count": null,
   "metadata": {},
   "outputs": [],
   "source": [
    "# Is 984 less than or equal to 541?\n",
    "print(984 <= 541)"
   ]
  },
  {
   "cell_type": "markdown",
   "metadata": {},
   "source": [
    "It's as simple as that!"
   ]
  },
  {
   "cell_type": "markdown",
   "metadata": {},
   "source": [
    "## 4.2 Selections"
   ]
  },
  {
   "cell_type": "markdown",
   "metadata": {},
   "source": [
    "So far, we've been able to write basic code that includes the ability to print messages to a screen, basic mathematical operations and comparisons between two integers. \n",
    "\n",
    "However, the code _blocks_ we've written so far have been executed from top to bottom without any decision processes attached - this is what we call a sequence (i.e. we execute code in sequence, one line after another). What if we want to print something if e.g. a variable is less than the value of 10 but in all other cases, we might do a calculation. \n",
    "\n",
    "For instance, if your bank balance is too low, you can't purchase an item that costs more than your balance. Otherwise, if you do have the funds, you can pay for the item and have the price deducted from your account. \n",
    "\n",
    "This idea of *selecting* a desired output is known as **selection** and it is the subject of this part of the session. When we employ selection, we are essentially performing certain actions based on the result of an evaluation (typically through relational operators). Rather than just reading endless words, let's look below for an example in practice:"
   ]
  },
  {
   "cell_type": "code",
   "execution_count": null,
   "metadata": {},
   "outputs": [],
   "source": [
    "# A card machine evaluating whether a sale can be executed\n",
    "bankBalance = 10.0\n",
    "itemPrice = 15.0\n",
    "\n",
    "if bankBalance < itemPrice:\n",
    "    print(\"Insufficient funds!\")\n",
    "else:\n",
    "    bankBalance = bankBalance - itemPrice\n",
    "    print(bankBalance)"
   ]
  },
  {
   "cell_type": "markdown",
   "metadata": {},
   "source": [
    "Well, well, well. This is the first time that we don't run every line in the code block from top to bottom! \n",
    "\n",
    "We only select a specific output for a given condition - this is known as **flow control** as it gives you the ability to control the program's _flow_ i.e. the direction of the program itself. \n",
    "\n",
    "As you can see, we've used a specific keyword called the `if` keyword. Flow control is achieved through different types of keywords and their associated code blocks:\n",
    "\n",
    "- `if`\n",
    "- `elif`\n",
    "- `else`\n",
    "\n",
    "and we'll cover each of them in turn. \n",
    "\n",
    "By the way, when I refer to a _code block_, I'm referring to a collection of lines that are run together. They're often closely related as they are all preceded by a keyword and share the same indentation. \n",
    "\n",
    "**NOTE** You **MUST** indent your code! Indentation is vital for flow control and failure to do so will put your program in ruins. "
   ]
  },
  {
   "cell_type": "markdown",
   "metadata": {},
   "source": [
    "### 4.2.2 if-statements"
   ]
  },
  {
   "cell_type": "markdown",
   "metadata": {},
   "source": [
    "Let's bring back the if-statement from above:"
   ]
  },
  {
   "cell_type": "code",
   "execution_count": null,
   "metadata": {},
   "outputs": [],
   "source": [
    "# A card machine evaluating whether a sale can be executed\n",
    "bankBalance = 10.0\n",
    "itemPrice = 15.0\n",
    "\n",
    "if bankBalance < itemPrice:\n",
    "    print(\"Insufficient funds!\")\n",
    "else:\n",
    "    bankBalance = bankBalance - itemPrice\n",
    "    print(bankBalance)"
   ]
  },
  {
   "cell_type": "markdown",
   "metadata": {},
   "source": [
    "Line number 6 (to print `\"Insufficient funds\"`) is only executed if the condition in line 5 is true. \n",
    "\n",
    "If we tried to print the inequality condition `bankBalance < itemPrice` to the screen, we'd get the boolean value `True` printed. So, if the inequality is `True`, we execute the indented code block that follows. \n",
    "\n",
    "However, if the condition is `False`, we'd execute the alternative code block on lines 8 and 9. The value of `bankBalance` decreases and we print it to the screen. \n",
    "\n",
    "_It's as simple as that!_"
   ]
  },
  {
   "cell_type": "markdown",
   "metadata": {},
   "source": [
    "### 4.2.3 Flowcharts"
   ]
  },
  {
   "cell_type": "markdown",
   "metadata": {},
   "source": [
    "You can also track the selection process by drawing a flow chart. First, we define a set of keys so that everyone knows what the shapes mean. Next, we draw out our selection process (which we also know as an **algorithm**) and draw connecting arrows whilst adding some information inside the shapes. "
   ]
  },
  {
   "cell_type": "markdown",
   "metadata": {},
   "source": [
    "Let's take a look at one for an if-statement!"
   ]
  },
  {
   "cell_type": "markdown",
   "metadata": {},
   "source": [
    "<img src=\"img/flowchart-if.jpg\" width=\"60%\" />"
   ]
  },
  {
   "cell_type": "markdown",
   "metadata": {},
   "source": [
    "On the left, we have a flowchart that helps us track our decision making through our selection process. \n",
    "\n",
    "On the right, there is a key that can help us understand the symbols involved in the flow chart. \n",
    "\n",
    "There's nothing too complicated about flowcharts so we'll now head over to `else` clauses!"
   ]
  },
  {
   "cell_type": "markdown",
   "metadata": {},
   "source": [
    "### 4.2.4 else clause"
   ]
  },
  {
   "cell_type": "markdown",
   "metadata": {},
   "source": [
    "I've sort of prematurely discussed the `else` clause before I discussed it. However, I think you'll realise its purpose without the need for me to explain it to you. Nevertheless, let's have a brief look at it anyway. \n",
    "\n",
    "The `else` clause is what I like to call a 'catch-all' code block. Essentially, if the if-condition doesn't evaluate to `True`, we execute the code-block in the `else` block. \n",
    "\n",
    "Let's (again) bring back our bank balance example from above:"
   ]
  },
  {
   "cell_type": "code",
   "execution_count": null,
   "metadata": {},
   "outputs": [],
   "source": [
    "# A card machine evaluating whether a sale can be executed\n",
    "bankBalance = 20.0\n",
    "itemPrice = 15.0\n",
    "\n",
    "if bankBalance < itemPrice:\n",
    "    print(\"Insufficient funds!\")\n",
    "else:\n",
    "    bankBalance = bankBalance - itemPrice\n",
    "    print(bankBalance)"
   ]
  },
  {
   "cell_type": "markdown",
   "metadata": {},
   "source": [
    "Now, `bankBalance` is greater than `itemPrice`. \n",
    "\n",
    "Since the condition in the if-statement hasn't changed, we'll instead be executing the else-block. \n",
    "\n",
    "As a result, our `bankBalance` is deducted and we expect a float of `5.0` to be printed to the screen (which we do!)"
   ]
  },
  {
   "cell_type": "markdown",
   "metadata": {},
   "source": [
    "N.B. we call it an else-**CLAUSE** because it depends on a prior if-statement to exist first. Without an if-statement, the else-block will not be executed.\n",
    "\n",
    "This is just like in English where a dependent _clause_ requires an independent clause in the first place for the whole sentence to make sense:\n",
    "\n",
    "> Bitcoin will recover _if enough time passes._\n",
    "\n",
    "The dependent clause (italics) doesn't work on its own without the independent clause before it. \n",
    "\n",
    "Now, what if we want more than one condition? Hmm..."
   ]
  },
  {
   "cell_type": "markdown",
   "metadata": {},
   "source": [
    "### 4.2.5. elif clause"
   ]
  },
  {
   "cell_type": "markdown",
   "metadata": {},
   "source": [
    "We may wish to evaluate more than one condition as part of our selection process e.g. if we wanted to print a set of statements based on a integer variable. "
   ]
  },
  {
   "cell_type": "code",
   "execution_count": null,
   "metadata": {},
   "outputs": [],
   "source": [
    "# elif clauses\n",
    "\n",
    "myInteger = 2\n",
    "\n",
    "if myInteger == 1:\n",
    "    print(\"Option A\")\n",
    "elif myInteger == 2:\n",
    "    print(\"Option B\")\n",
    "elif myInteger == 3:\n",
    "    print(\"Option C\")\n",
    "else:\n",
    "    print(\"No option provided\")"
   ]
  },
  {
   "cell_type": "markdown",
   "metadata": {},
   "source": [
    "When we run the code above, we get `Option B` presented as the `elif` keyword helps us to select other options and display the appropriate message.\n",
    "\n",
    "Again, the `elif` code block is only executed if previous conditions are not met. You **MUST** have an if-statement first before you make use of the `elif` structure."
   ]
  },
  {
   "cell_type": "markdown",
   "metadata": {},
   "source": [
    "### 4.2.6. Nesting conditions"
   ]
  },
  {
   "cell_type": "markdown",
   "metadata": {},
   "source": [
    "We've used indentations to wrap our code blocks inside selection keywords (if, elif and else).\n",
    "\n",
    "_Is it possible to put if-statements inside of other if-statements?_\n",
    "\n",
    "**Yes**. \n",
    "\n",
    "We normally do this for e.g. if we're doing further evaluations such as in document checks where more than one parameter would need to be checked before a final result is published:"
   ]
  },
  {
   "cell_type": "code",
   "execution_count": null,
   "metadata": {},
   "outputs": [],
   "source": [
    "# allowing someone into a bar\n",
    "\n",
    "age = 18\n",
    "drivingLicence = True\n",
    "\n",
    "if age >= 18: # OUTER if-statement\n",
    "    if drivingLicence == True: # INNER if-statement\n",
    "        print(\"You can enter the bar.\")\n",
    "    else:\n",
    "        print(\"You do not have the correct identification.\")\n",
    "else:\n",
    "    print(\"You are not over 18.\")"
   ]
  },
  {
   "cell_type": "markdown",
   "metadata": {},
   "source": [
    "Looking at the code here, we can see an _inner_ if-statement inside of an _outer_ if-statement. We first run the outer if-statement (here with `age`) before we run the inner if-statement with `drivingLicence`. \n",
    "\n",
    "As you can see, there are 3 possible final outcomes to be printed depending on the variable values:\n",
    "\n",
    "- The user can enter the bar. \n",
    "- The user doesn't have the correct identification. \n",
    "- The user isn't over 18.\n",
    "\n",
    "This is achieved through **nested conditions** where one if-statement lives inside another if-statement, just like a bird lives inside of a nest.\n",
    "\n",
    "_Neat naming, huh?_"
   ]
  },
  {
   "cell_type": "markdown",
   "metadata": {},
   "source": [
    "## 5.1 For loops"
   ]
  },
  {
   "cell_type": "markdown",
   "metadata": {},
   "source": [
    "As I said earlier, we might find situations where we need a computer to perform a certain action over and over again until we are satisfied or until a condition is met.\n",
    "\n",
    "This is known as **iteration** and you'll see it commonly when you do mathematical operations until you reach a certain limit. \n",
    "\n",
    "Here's a nice starter to get you into **for** loops:"
   ]
  },
  {
   "cell_type": "code",
   "execution_count": 5,
   "metadata": {},
   "outputs": [],
   "source": [
    "# Insert for-loop diagram"
   ]
  },
  {
   "cell_type": "markdown",
   "metadata": {},
   "source": [
    "Notice that until we get to `x = 6`, we don't break out of the repetitive increment of `x` and printing of `x`. \n",
    "\n",
    "_This is why it's called a loop!_ \n",
    "\n",
    "I've coloured it in orange so you can see the looping nature play out in full flow. "
   ]
  },
  {
   "cell_type": "markdown",
   "metadata": {},
   "source": [
    "<img src=\"img/flowchart-for.jpg\" width=\"40%\" />"
   ]
  },
  {
   "cell_type": "markdown",
   "metadata": {},
   "source": [
    "How do we code this type of for loop? Simple. We use the `for` keyword:"
   ]
  },
  {
   "cell_type": "code",
   "execution_count": 6,
   "metadata": {},
   "outputs": [
    {
     "name": "stdout",
     "output_type": "stream",
     "text": [
      "0\n",
      "1\n",
      "2\n",
      "3\n",
      "4\n",
      "5\n",
      "6\n"
     ]
    }
   ],
   "source": [
    "# print all the integers from 0 to 7 (exclusive)\n",
    "\n",
    "for i in range(7):\n",
    "    print(i)"
   ]
  },
  {
   "cell_type": "markdown",
   "metadata": {},
   "source": [
    "Here, we are printing **for** all the numbers between 0 and 6 - this is where I like to think the `for` keyword works best.\n",
    "\n",
    "It's best to think of code less like a bunch of abstract code but instead an as economic way of writing full sentences to computers in the most concise manner possible.\n",
    "\n",
    "I like to translate this to my head as _\"for each number i in the list of numbers from 0 to 7, print i\"_ - magic, right?\n",
    "\n",
    "In this code block, the loop only iterates a specific number of times. This is known as a _definite_ loop where we have a _definite_ end. \n",
    "\n",
    "To complete this task, we use something called the `range` function. \n",
    "\n",
    "The function gives out a list of numbers starting from 0 and ending at `n-1`, meaning the number that you input into the function is not included in the final result - this is known as an _exclusive_ limit. "
   ]
  },
  {
   "cell_type": "code",
   "execution_count": 8,
   "metadata": {},
   "outputs": [
    {
     "name": "stdout",
     "output_type": "stream",
     "text": [
      "[0, 1, 2, 3, 4, 5, 6]\n"
     ]
    }
   ],
   "source": [
    "print(list(range(7)))"
   ]
  },
  {
   "cell_type": "markdown",
   "metadata": {},
   "source": [
    "We'll discuss functions later towards the latter-end of the session. "
   ]
  },
  {
   "cell_type": "markdown",
   "metadata": {},
   "source": [
    "We can also include a start and end number for our `range()` function."
   ]
  },
  {
   "cell_type": "code",
   "execution_count": 9,
   "metadata": {},
   "outputs": [
    {
     "name": "stdout",
     "output_type": "stream",
     "text": [
      "1\n",
      "2\n",
      "3\n"
     ]
    }
   ],
   "source": [
    "for i in range(1, 4):\n",
    "    print(i)"
   ]
  },
  {
   "cell_type": "markdown",
   "metadata": {},
   "source": [
    "Just remember: The first number is _included_ in the list but the last number is _excluded_ from the list. "
   ]
  },
  {
   "cell_type": "markdown",
   "metadata": {},
   "source": [
    "You might have noticed the `i` variable in the first line:\n",
    "\n",
    "    for i in range(1, 4)\n",
    "\n",
    "This variable is known as a **counter variable**. Essentially, it's used during the loop as a temporary store to track the loop as it progresses from the start and end of a list (which in this case here is a list of numbers).\n",
    "\n",
    "You don't create the counter variable before you use the loop but it's important to be consistent with the counter variable throughout the loop's code. You could call it anything as long as it doesn't exist:"
   ]
  },
  {
   "cell_type": "code",
   "execution_count": 10,
   "metadata": {},
   "outputs": [
    {
     "name": "stdout",
     "output_type": "stream",
     "text": [
      "0\n",
      "1\n",
      "2\n",
      "3\n",
      "4\n"
     ]
    }
   ],
   "source": [
    "for abc123 in range(5):\n",
    "    print(abc123)"
   ]
  },
  {
   "cell_type": "markdown",
   "metadata": {},
   "source": [
    "## 5.1.2 Nested for-loops"
   ]
  },
  {
   "cell_type": "markdown",
   "metadata": {},
   "source": [
    "Can we nest loops just like we nested if-statements? **Yes.**"
   ]
  },
  {
   "cell_type": "code",
   "execution_count": 11,
   "metadata": {},
   "outputs": [
    {
     "name": "stdout",
     "output_type": "stream",
     "text": [
      "0\n",
      "1\n",
      "2\n",
      "0\n",
      "2\n",
      "4\n",
      "0\n",
      "3\n",
      "6\n"
     ]
    }
   ],
   "source": [
    "# print the first 3 multiples of 1, 2 and 3\n",
    "\n",
    "for x in range(1, 4): # outer loop\n",
    "    for y in range(3): # inner loop\n",
    "        print(x*y)"
   ]
  },
  {
   "cell_type": "markdown",
   "metadata": {},
   "source": [
    "This... is a slight bit more complicated. \n",
    "\n",
    "At the start of running the code, `x=1`. What happens is that the inner loop is then executed. \n",
    "\n",
    "So, at the start, `y=0` and the result of the print function is `1 x 0 = 0`. \n",
    "\n",
    "We move into the next part of the range function where we increment `y` i.e. add 1 so `y=1`. \n",
    "\n",
    "Now, the result of the print function is `1 x 1 = 1`. \n",
    "\n",
    "This then repeats for the final step: `y = 2` so `1 x 2 = 2`. \n",
    "\n",
    "Since we've done the inner loop, we return to the outer loop and now increment `x` so now, `x=2`. \n",
    "\n",
    "We then resume the inner loop, starting from `y = 0` and repeat the process.\n",
    "\n",
    "In the end, we print the first 3 multiples of `1`, `2` and `3` going from 0 to 2. "
   ]
  },
  {
   "cell_type": "markdown",
   "metadata": {},
   "source": [
    "**Try it for yourself and play around until you understand it!**\n",
    "\n",
    "Nested-loops are very useful for case-specific circumstances e.g. finding the total sum of a matrix by selecting each row and adding the individual elements together to a running sun (which we'll cover later!)"
   ]
  },
  {
   "cell_type": "markdown",
   "metadata": {},
   "source": [
    "## 5.1.3 While loops"
   ]
  },
  {
   "cell_type": "markdown",
   "metadata": {},
   "source": [
    "With `for` loops, we've been looping through entire lists. Essentially, once we're done working through a list (i.e. we've processed every element), the loop dies and we terminate the iteration. \n",
    "\n",
    "However, there may be instances where you want the loop to run _indefinitely_ until a certain condition has been reached or **while** a certain condition is still true. \n",
    "\n",
    "Conveniently, this gives rise to another type of iteration... `while` loops. \n",
    "\n",
    "While loops and for loops are very similar except that while loops can be indefinite and for loops are always definite loops. "
   ]
  },
  {
   "cell_type": "code",
   "execution_count": 12,
   "metadata": {},
   "outputs": [
    {
     "name": "stdout",
     "output_type": "stream",
     "text": [
      "1\n",
      "2\n",
      "3\n",
      "4\n",
      "5\n",
      "6\n",
      "7\n",
      "8\n",
      "9\n",
      "10\n"
     ]
    }
   ],
   "source": [
    "x = 1\n",
    "while x <= 10: # while loop\n",
    "    print(x)\n",
    "    x += 1"
   ]
  },
  {
   "cell_type": "markdown",
   "metadata": {},
   "source": [
    "Here, we've defined a counter variable `x` that we use to track the loop and terminate it once the condition is no longer true. We print `x`, which allows us to overall print the first 10 non-zero integers. \n",
    "\n",
    "When you work with while loops, you **MUST** remember to increment your counter. \n",
    "\n",
    "Otherwise, you will end up stuck in an infinite loop forever as your condition _always_ evaluates to true. \n",
    "\n",
    "Look at the following block of code:\n",
    "\n",
    "    x = 1\n",
    "    while x <= 10:\n",
    "        print(x)\n",
    "\n",
    "By simply omitting the incremental line (as per the last line in the previous example), `x` _always_ remains at 1 and the loop _always_ runs **indefinitely**. \n",
    "\n",
    "<img src=\"img/infinite-loop-2.jpg\" width=\"50%\" />\n",
    "\n",
    "**DO NOT RUN THIS CODE** - but, if you do, remember to break using CMD/CTRL + C (Mac/Windows)"
   ]
  },
  {
   "cell_type": "markdown",
   "metadata": {},
   "source": [
    "A slight improvement to the previous example would be to shorten the increment notation using Python's purpose-feature _increment_ operator:"
   ]
  },
  {
   "cell_type": "code",
   "execution_count": null,
   "metadata": {},
   "outputs": [],
   "source": [
    "x = 1\n",
    "while x <= 10:\n",
    "    print(x)\n",
    "    x += 1"
   ]
  },
  {
   "cell_type": "markdown",
   "metadata": {},
   "source": [
    "Here, `x += 1` simply means to take the current value of `x`, add `1` and then (re)assign this value back to `x` itself.\n",
    "\n",
    "_Saves on the notation, eh?_\n",
    "\n",
    "N.B. You can also do:\n",
    "\n",
    "- `x -= 1 # subtract 1 from current value of x and reassign it` \n",
    "- `x *= 2 # multiply the current value of x by 2 and reassign it`\n",
    "- `x /= 2 # divide the current value of x by 2 and reassign it`"
   ]
  },
  {
   "cell_type": "markdown",
   "metadata": {},
   "source": [
    "# 6 Data Structures"
   ]
  },
  {
   "cell_type": "markdown",
   "metadata": {},
   "source": [
    "I'll make a slight confession on this... **I recorded strings before I covered lists.** \n",
    "\n",
    "Admittedly, that was a huge oversight on my part. So, here we discuss lists before strings and we actually provide an oversight on data structures before delving to each of them in turn. \n",
    "\n",
    "Now, variables are useful for storing just one at a time. However, there might be cases where we want to store a _list_ of things or a _collection_ of different bits of information and have them all under one roof for convenience. \n",
    "\n",
    "Individual variables are **NOT** useful for storing collections of data points.<br>Think about it - if you had a collection of 100,000 different items, are you going to store 100,000 different variables in the computer? Probably not, no!\n",
    "\n",
    "Instead, we need an alternative type of entity in Python that helps us store large collections of data - these are called _organised collections_. \n",
    "\n",
    "What organised collections does Python offer us?\n",
    "\n",
    "<ul>\n",
    "    <li>Lists</li>\n",
    "    <li>Tuples</li>\n",
    "    <li>Sets <i>(not really relevant unless you are a Mathematician)</i></li>\n",
    "    <li>Dictionaries</li>\n",
    "</ul>\n",
    "\n",
    "So, let's kick off our discussion on *lists*. "
   ]
  },
  {
   "cell_type": "markdown",
   "metadata": {},
   "source": [
    "# 7 Lists\n",
    "## 7.1 Let's write our shopping list..."
   ]
  },
  {
   "cell_type": "markdown",
   "metadata": {},
   "source": [
    "Consider a basic exercise: writing our own shopping list... *in Python*. \n",
    "\n",
    "The beginner in all of us would simply create lots of new variables and store our items as appropriate in separate variables e.g. \n",
    "\n",
    "    item1 = \"eggs\"\n",
    "    item2 = \"milk\"\n",
    "    item3 = \"bread\"\n",
    "    item4 = \"cereal\"\n",
    "\n",
    "This... works. However, how would you remove an item off your shopping _list_. \n",
    "\n",
    "Realistically, we'd have to first find the variable in the computer's memory and nullify it (i.e. make it equal to 0). <br>However, this is highly inefficient and can lead to other problems e.g. memory leaks **IF** not done correctly. \n",
    "\n",
    "So, how does Python help us facilitate writing a _list_ of items that can contain multiple items?<br>We can use... er, a **list**!\n",
    "\n",
    "To write a list in Python, we simply write square brackets:\n",
    "\n",
    "    []\n",
    "\n",
    "and store our information accordingly:\n",
    "\n",
    "    groceryList = [\"eggs\", \"milk\", \"bread\", \"cereal\"]\n",
    "\n",
    "_It's as simple as that!_ (I should make that a catchphrase at this point if I'm being honest.)\n",
    "\n",
    "Let's see it in practice:"
   ]
  },
  {
   "cell_type": "code",
   "execution_count": 16,
   "metadata": {},
   "outputs": [],
   "source": [
    "# a list of items, just like a grocery list.\n",
    "groceryList = [\"eggs\", \"milk\", \"bread\", \"cereal\"]"
   ]
  },
  {
   "cell_type": "markdown",
   "metadata": {},
   "source": [
    "Lists can also have other data types:"
   ]
  },
  {
   "cell_type": "code",
   "execution_count": null,
   "metadata": {},
   "outputs": [],
   "source": [
    "# a list of integers\n",
    "integerList = [1, 2, 3, 4, 5]"
   ]
  },
  {
   "cell_type": "code",
   "execution_count": null,
   "metadata": {},
   "outputs": [],
   "source": [
    "# a list of floats\n",
    "floatList = [1.22, 1.44, 35.6, 45.3, 86.7]"
   ]
  },
  {
   "cell_type": "code",
   "execution_count": null,
   "metadata": {},
   "outputs": [],
   "source": [
    "# a list of boolean values\n",
    "booleanList = [True, False, False, True, True]"
   ]
  },
  {
   "cell_type": "markdown",
   "metadata": {},
   "source": [
    "Can a list contain a _mix_ of data types? **Yes!**"
   ]
  },
  {
   "cell_type": "code",
   "execution_count": null,
   "metadata": {},
   "outputs": [],
   "source": [
    "# a list of various data types\n",
    "mixedList = [12, \"hello world\", True, 3.14]"
   ]
  },
  {
   "cell_type": "markdown",
   "metadata": {},
   "source": [
    "That should settle the preliminary discussion on lists very nicely. "
   ]
  },
  {
   "cell_type": "markdown",
   "metadata": {},
   "source": [
    "### 7.2 Changing an item in our list"
   ]
  },
  {
   "cell_type": "markdown",
   "metadata": {},
   "source": [
    "Consider our list of grocery items:"
   ]
  },
  {
   "cell_type": "code",
   "execution_count": 17,
   "metadata": {},
   "outputs": [],
   "source": [
    "# a list of items, just like a grocery list.\n",
    "groceryList = [\"eggs\", \"milk\", \"bread\", \"cereal\"]"
   ]
  },
  {
   "cell_type": "markdown",
   "metadata": {},
   "source": [
    "Oh no! I've accidentally written that I wanted eggs when I meant butter!\n",
    "\n",
    "_How do you change an item in a list?_\n",
    "\n",
    "A: You use <u>indexes<u>. "
   ]
  },
  {
   "cell_type": "markdown",
   "metadata": {},
   "source": [
    "### 7.3 Using indexes to refer to an item's position"
   ]
  },
  {
   "cell_type": "markdown",
   "metadata": {},
   "source": [
    "Just like we use cardinal numbers when we refer to a list (i.e. first, second, third etc.), computers use **integers** to refer to an _ordered_ list - we call this reference an _index_. \n",
    "\n",
    "In a Python list, the **first** element in a list is given position **0**. \n",
    "\n",
    "To obtain an element from a list, we use the variable name containing the list, followed by a number in square brackets:"
   ]
  },
  {
   "cell_type": "code",
   "execution_count": 18,
   "metadata": {},
   "outputs": [
    {
     "name": "stdout",
     "output_type": "stream",
     "text": [
      "eggs\n"
     ]
    }
   ],
   "source": [
    "# get the first element of our grocery list\n",
    "print(groceryList[0])"
   ]
  },
  {
   "cell_type": "markdown",
   "metadata": {},
   "source": [
    "As you can see, we start from 0 and _enumerate_ all our items in our list in order i.e. 0, 1, 2, 3...\n",
    "\n",
    "This is known as a **zero-offset** index.<br>One way of thinking of this new \"offset\" method is to think how far the element is from the _start_ of the list. \n",
    "\n",
    "For instance, `\"bread\"` is 2 elements away from the start of the list hence we give it a number of 2. Likewise, `\"cereal\"` is 3 positions away from the start of the list hence we give it a number of 3."
   ]
  },
  {
   "cell_type": "markdown",
   "metadata": {},
   "source": [
    "Often, we refer to lists as _ordered collections_ of items where each item has a specific index associated with it."
   ]
  },
  {
   "cell_type": "markdown",
   "metadata": {},
   "source": [
    "Let's try to extract `\"milk\"` from the list and store it as the value of a new variable. \n",
    "\n",
    "1. Obtain the second element from the list using the square bracket `[]` index operator, passing in the number `2`. \n",
    "2. Use the `groceryList` variable name to extract the second element from the list. \n",
    "3. Store the value of the second element of the list as a separate variable. "
   ]
  },
  {
   "cell_type": "code",
   "execution_count": 19,
   "metadata": {},
   "outputs": [
    {
     "name": "stdout",
     "output_type": "stream",
     "text": [
      "milk\n"
     ]
    }
   ],
   "source": [
    "# obtain the second element of the list and store it as a new variable\n",
    "dairyItems = groceryList[1]\n",
    "print(dairyItems)"
   ]
  },
  {
   "cell_type": "markdown",
   "metadata": {},
   "source": [
    "**PAY ATTENTION** A zero-index means that compared to our normal numbering of a list `(1, 2, 3, 4, 5... = n)`, all our index follow an `n-1` pattern.\n",
    "\n",
    "_That's just a mathematical description of our zero-index method._"
   ]
  },
  {
   "cell_type": "markdown",
   "metadata": {},
   "source": [
    "### 7.4 Indexing backwards..."
   ]
  },
  {
   "cell_type": "markdown",
   "metadata": {},
   "source": [
    "We don't just index forwards starting from `0`: we can also index backwards starting from the last element!\n",
    "\n",
    "Here, things are _slightly_ different. \n",
    "\n",
    "In Python, the last element is given the index `-1`. Going left, the index goes down by `-1` i.e. `-2, -3, -4...`\n",
    "\n",
    "When is this useful? Well, look at our zero-offset index going forwards. **How can you obtain the value of the last element if we only looked forwards?**\n",
    "\n",
    "You would have to do:\n",
    "\n",
    "    groceryList[3]\n",
    "\n",
    "But what if you thought it was:\n",
    "\n",
    "    groceryList[4]\n",
    "\n",
    "What would happen? _Let's find out_"
   ]
  },
  {
   "cell_type": "code",
   "execution_count": 20,
   "metadata": {},
   "outputs": [
    {
     "ename": "IndexError",
     "evalue": "list index out of range",
     "output_type": "error",
     "traceback": [
      "\u001b[1;31m---------------------------------------------------------------------------\u001b[0m",
      "\u001b[1;31mIndexError\u001b[0m                                Traceback (most recent call last)",
      "Cell \u001b[1;32mIn[20], line 1\u001b[0m\n\u001b[1;32m----> 1\u001b[0m \u001b[39mprint\u001b[39m(groceryList[\u001b[39m4\u001b[39;49m])\n",
      "\u001b[1;31mIndexError\u001b[0m: list index out of range"
     ]
    }
   ],
   "source": [
    "print(groceryList[4])"
   ]
  },
  {
   "cell_type": "markdown",
   "metadata": {},
   "source": [
    "Oh no, an `IndexError`! This... isn't an accident. \n",
    "\n",
    "Because we used a zero-offset index, if we try to get an element in a position that hasn't been occupied, Python says we've gone way over the range of the list so our index for the list is invalid. \n",
    "\n",
    "If you had a list of `N` items where you didn't know the value of `N`, you wouldn't know the value of `N-1` to be able to extract the final element. Instead, you can use our reverse index enumeration to do this:\n",
    "\n",
    "    groceryList[-1]\n",
    "\n",
    "to get this job done. _Let's try it..._"
   ]
  },
  {
   "cell_type": "code",
   "execution_count": 21,
   "metadata": {},
   "outputs": [
    {
     "name": "stdout",
     "output_type": "stream",
     "text": [
      "cereal\n"
     ]
    }
   ],
   "source": [
    "print(groceryList[-1])"
   ]
  },
  {
   "cell_type": "markdown",
   "metadata": {},
   "source": [
    "### 7.5 Why do we use zero-offset indexes?\n",
    "\n",
    "It's often mistakenly assumed that zero-offset indexes were designed out of some non-technical convenience. However, computationally, the zero-offset index does have a significant advantage. \n",
    "\n",
    "Memory in computer is stored first by providing a variable a specific vacancy in computer memory. Where this vacancy lives in the computer's vast memory is known as the memory _address_ (just like your home address in a massive city).\n",
    "\n",
    "What happens essentially is that each slot of memory holds **ONE** item of the list at a time and all the elements of the list live next door to each other in the computer - this is known as contiguous memory. \n",
    "\n",
    "To access an element of the list **in the computer**, we use the following (sort-of) formula with a zero-offset index:\n",
    "\n",
    "    (element at index) n = address + [n * sizeOfElement]\n",
    "\n",
    "Really, this is basically algebraic linear interpolation. First, we find the address where our list lives. Next, we work out the size of the list and with the knowledge of how much space the element occupies (i.e. `sizeOfElement`), we can work out how far down the block of memory we go down before we find the item that we need. \n",
    "\n",
    "_However_ (and this is important), if we start our indexing from 1 (known as a one-offset index), the formula above changes:\n",
    "\n",
    "    (element at index) n = address + [(n-1) * sizeOfElement]\n",
    "\n",
    "Welp - a spooky `n-1` exists here. \n",
    "\n",
    "Remember, if we e.g. chose to enumerate `\"bread\"` at index `4` respectively, we'd have to do `4-1` to work how far `\"bread\"` is from the start of the list (since our first element is at index `1`.) \n",
    "\n",
    "However, with a zero-offset index, we'd instead do `3-0` (as our first element in the list lives at index `0`)... which is just `3`, hence not needing a subtraction in the first place.\n",
    "\n",
    "We can just quote the integer index of our element \"bread\" in the zero-offset index without actually needing to do any subtraction in the first place as anything subtracted by 0 is unchanged! \n",
    "\n",
    "The fact that a zero-offset index doesn't require us to actually do any subtraction saves us fractions of a second for one operation **BUT** could save us many seconds if we were doing millions or billions of operations a second on many bigger computers!\n",
    "\n",
    "**A zero-offset index is a life saver in the name of efficiency and performance!**\n",
    "\n",
    "There we go, a nice little Computer Science lesson right there!"
   ]
  },
  {
   "cell_type": "markdown",
   "metadata": {},
   "source": [
    "### Magic."
   ]
  },
  {
   "cell_type": "markdown",
   "metadata": {},
   "source": [
    "### 7.6 Strings - how are they strung together?"
   ]
  },
  {
   "cell_type": "markdown",
   "metadata": {},
   "source": [
    "Consider the following sentence:\n",
    "\n",
    "    My name is Ahmad.\n",
    "\n",
    "Yes, it's a basic sentence. However, computers need to have a way of storing sentences in their memory in such a way that they can edit them appropriately later on (if necessary). \n",
    "\n",
    "The question really here is quite simple - **how do computers store strings?**\n",
    "\n",
    "The answer is actually quite smart... **Use a list!**\n",
    "\n",
    "I know, I know - how the heck do lists come into storing sentences? Computers actually store the individual characters that make up a string and then _string_ all the characters together to make... a _string_ (damn, I've mentioned the word _string_ a lot of times there.)\n",
    "\n",
    "In a computer, the above sentence is represented as:\n",
    "\n",
    "    [\"M\", \"y\", \" \", \"n\", \"a\", \"m\", \"e\", \" \", \"i\", \"s\", \" \", \"A\", \"h\", \"m\", \"a\", \"d\"]"
   ]
  },
  {
   "cell_type": "code",
   "execution_count": 26,
   "metadata": {},
   "outputs": [
    {
     "name": "stdout",
     "output_type": "stream",
     "text": [
      "['M', 'y', ' ', 'n', 'a', 'm', 'e', ' ', 'i', 's', ' ', 'A', 'h', 'm', 'a', 'd']\n"
     ]
    }
   ],
   "source": [
    "print([\"M\", \"y\", \" \", \"n\", \"a\", \"m\", \"e\", \" \", \"i\", \"s\", \" \", \"A\", \"h\", \"m\", \"a\", \"d\"])"
   ]
  },
  {
   "cell_type": "markdown",
   "metadata": {},
   "source": [
    "No, really - that's how the sentence is stored in Python. \n",
    "\n",
    "When you use the `print()` function, the compiler actually strings all the characters together into one easy-to-read unit of a sentence for humans like us to read. "
   ]
  },
  {
   "cell_type": "markdown",
   "metadata": {},
   "source": [
    "Let's look at an individual word first... `\"Python\"`\n",
    "\n",
    "Using our previous knowledge of indexes, we can get the first letter of the word `\"Python\"` using `[0]`:"
   ]
  },
  {
   "cell_type": "code",
   "execution_count": 27,
   "metadata": {},
   "outputs": [
    {
     "name": "stdout",
     "output_type": "stream",
     "text": [
      "P\n"
     ]
    }
   ],
   "source": [
    "print(\"Python\"[0])"
   ]
  },
  {
   "cell_type": "markdown",
   "metadata": {},
   "source": [
    "**NOTE** There is <u>no</u> variable name that I've provided - variables are just placeholders for the actual data that we're storing. I can (in this case) just quote the string directly and index it as appropriate!"
   ]
  },
  {
   "cell_type": "markdown",
   "metadata": {},
   "source": [
    "Likewise, the last letter of the string can be accessed using the reverse (negative) index notation:"
   ]
  },
  {
   "cell_type": "code",
   "execution_count": 28,
   "metadata": {},
   "outputs": [
    {
     "name": "stdout",
     "output_type": "stream",
     "text": [
      "n\n"
     ]
    }
   ],
   "source": [
    "print(\"Python\"[-1])"
   ]
  },
  {
   "cell_type": "markdown",
   "metadata": {},
   "source": [
    "_It's as simple as that!_"
   ]
  },
  {
   "cell_type": "markdown",
   "metadata": {},
   "source": [
    "### 7.7 Indexing a span of elements"
   ]
  },
  {
   "cell_type": "markdown",
   "metadata": {},
   "source": [
    "Can our indexing return a range of different elements? **Yes**. \n",
    "\n",
    "This is a bit weird if you haven't seen it before but do pay attention. \n",
    "\n",
    "We are aware that we have a zero-offset index. So, what we do is we specify two different indexes: a _starting_ index (inclusive) and an _ending_ index (<u>ex</u>clusive). \n",
    "\n",
    "Let's return to our grocery list from above:"
   ]
  },
  {
   "cell_type": "code",
   "execution_count": 30,
   "metadata": {},
   "outputs": [],
   "source": [
    "# a list of items, just like a grocery list.\n",
    "groceryList = [\"eggs\", \"milk\", \"bread\", \"cereal\"]"
   ]
  },
  {
   "cell_type": "markdown",
   "metadata": {},
   "source": [
    "Let's obtain the elements `milk` and `bread`. To do this, we first specify the starting index corresponding with milk i.e. `1`. _So far, so good._\n",
    "\n",
    "Next, we use a colon (`:`) and choose another number that corresponds to **ONE** more than the index of the last element that we want. \n",
    "\n",
    "Why? Remember, our ending index is <u>ex</u>clusive i.e. it's not included in our extraction. So, our element extraction ends at `lastIndex - 1` essentially. "
   ]
  },
  {
   "cell_type": "code",
   "execution_count": 32,
   "metadata": {},
   "outputs": [
    {
     "name": "stdout",
     "output_type": "stream",
     "text": [
      "['milk', 'bread']\n"
     ]
    }
   ],
   "source": [
    "print(groceryList[1:3])"
   ]
  },
  {
   "cell_type": "markdown",
   "metadata": {},
   "source": [
    "Voila! We've chosen the element with (zero-offset) index 1 and 2 but we've not stopped before element 3. \n",
    "\n",
    "_It's as simple as that_ (again). "
   ]
  },
  {
   "cell_type": "markdown",
   "metadata": {},
   "source": [
    "What if we want to go all the way to selecting the end of the list, especially if we don't know how big our list is? \n",
    "\n",
    "We omit the last index integer after the colon:"
   ]
  },
  {
   "cell_type": "code",
   "execution_count": 33,
   "metadata": {},
   "outputs": [
    {
     "name": "stdout",
     "output_type": "stream",
     "text": [
      "['milk', 'bread', 'cereal']\n"
     ]
    }
   ],
   "source": [
    "print(groceryList[1:])"
   ]
  },
  {
   "cell_type": "markdown",
   "metadata": {},
   "source": [
    "To prove this, let's add one more element to `groceryList`:\n",
    "\n",
    "    groceryList = [\"eggs\", \"milk\", \"bread\", \"cereal\", \"tomato\"]"
   ]
  },
  {
   "cell_type": "code",
   "execution_count": 34,
   "metadata": {},
   "outputs": [
    {
     "name": "stdout",
     "output_type": "stream",
     "text": [
      "['milk', 'bread', 'cereal', 'tomato']\n"
     ]
    }
   ],
   "source": [
    "groceryList = [\"eggs\", \"milk\", \"bread\", \"cereal\", \"tomato\"]\n",
    "print(groceryList[1:])"
   ]
  },
  {
   "cell_type": "markdown",
   "metadata": {},
   "source": [
    "Likewise, we can also omit the starting index to _imply_ the start of the list. "
   ]
  },
  {
   "cell_type": "code",
   "execution_count": 37,
   "metadata": {},
   "outputs": [
    {
     "name": "stdout",
     "output_type": "stream",
     "text": [
      "['eggs', 'milk', 'bread']\n"
     ]
    }
   ],
   "source": [
    "print(groceryList[:3])"
   ]
  },
  {
   "cell_type": "markdown",
   "metadata": {},
   "source": [
    "### Magic. \n",
    "If you're finding this fun and/or enjoyable, it's perfectly normal!"
   ]
  },
  {
   "cell_type": "markdown",
   "metadata": {},
   "source": [
    "We can go one step further... what if we wanted to skip some items in our list?\n",
    "\n",
    "We can add another semi-colon and a third index that tells us how many elements we select e.g. _every 2nd_ or _every 3rd_ element:\n",
    "\n",
    "    [1:8:2]\n",
    "\n",
    "This means that for a hypothetical list, we start from the element in index 1, extract all the elements up to _but not including_ the element in index 8 **AND** select every <u>2</u><sup>nd</sup> element. \n",
    "\n",
    "Let's show this:"
   ]
  },
  {
   "cell_type": "code",
   "execution_count": 38,
   "metadata": {},
   "outputs": [
    {
     "name": "stdout",
     "output_type": "stream",
     "text": [
      "[3.5, 4.5, 6.2, 7.5]\n"
     ]
    }
   ],
   "source": [
    "listOfFloats = [1.2, 3.5, 4.3, 4.5, 5.6, 6.2, 6.7, 7.5, 7.9, 8.5]\n",
    "print(listOfFloats[1:8:2])"
   ]
  },
  {
   "cell_type": "markdown",
   "metadata": {},
   "source": [
    "Implicitly, most lists that only contain two indexes e.g.:\n",
    "\n",
    "    [2:5]\n",
    "\n",
    "Actually mean\n",
    "\n",
    "    [2:5:1]\n",
    "\n",
    "since we're including every single element (hence the final `1` being included).\n",
    "\n",
    "Likewise, if we want to imply the start and end of a list, we simply omit the index in question:\n",
    "\n",
    "    [::3]\n",
    "\n",
    "This means _take every 3rd element of the list (implicitly from the start to the end of the list), starting from the zeroth element._\n",
    "\n",
    "_It's that simple, isn't it?_"
   ]
  },
  {
   "cell_type": "code",
   "execution_count": 39,
   "metadata": {},
   "outputs": [
    {
     "name": "stdout",
     "output_type": "stream",
     "text": [
      "[1.2, 4.5, 6.7, 8.5]\n"
     ]
    }
   ],
   "source": [
    "print(listOfFloats[::3])"
   ]
  },
  {
   "cell_type": "markdown",
   "metadata": {},
   "source": [
    "i.e. the 0th, 3rd, 6th, 9th index element (notice the multiple of <u>3</u>?)"
   ]
  },
  {
   "cell_type": "markdown",
   "metadata": {},
   "source": [
    "The same can also apply to strings!"
   ]
  },
  {
   "cell_type": "code",
   "execution_count": 40,
   "metadata": {},
   "outputs": [
    {
     "name": "stdout",
     "output_type": "stream",
     "text": [
      "Mneshd\n"
     ]
    }
   ],
   "source": [
    "anotherString = \"My name is Ahmad\"\n",
    "\n",
    "print(anotherString[::3])"
   ]
  },
  {
   "cell_type": "markdown",
   "metadata": {},
   "source": [
    "Looks a bit weird, but it works!\n",
    "\n",
    "_Strings are just extended lists - remember that!_"
   ]
  },
  {
   "cell_type": "markdown",
   "metadata": {},
   "source": [
    "### 7.8 Looping through lists"
   ]
  },
  {
   "cell_type": "markdown",
   "metadata": {},
   "source": [
    "How can we print each individual element of our `groceryList` on the screen, on their own lines (just like a real life list)?\n",
    "\n",
    "A _loop_."
   ]
  },
  {
   "cell_type": "code",
   "execution_count": 41,
   "metadata": {},
   "outputs": [],
   "source": [
    "# looping through a list\n",
    "groceryList = [\"eggs\", \"milk\", \"bread\", \"cereal\", \"tomato\"]"
   ]
  },
  {
   "cell_type": "code",
   "execution_count": 42,
   "metadata": {},
   "outputs": [
    {
     "name": "stdout",
     "output_type": "stream",
     "text": [
      "eggs\n",
      "milk\n",
      "bread\n",
      "cereal\n",
      "tomato\n"
     ]
    }
   ],
   "source": [
    "for item in groceryList:\n",
    "    print(item)"
   ]
  },
  {
   "cell_type": "markdown",
   "metadata": {},
   "source": [
    "### 7.8.2 A distinction between lists and arrays\n",
    "\n",
    "You might sometimes read something called an _array_ in your journey through programming. \n",
    "\n",
    "It's important to make one small clarification here before you develop false ideas: **arrays** do <u>NOT</u> exist in Python (specifically).\n",
    "\n",
    "Lists and arrays are very _similar_ but the former allows for different data types and are more flexible.\n",
    "\n",
    "We won't discuss it in fine detail as this isn't a CS 101 course but it's important to be clear: **_arrays_ in Python don't exist!**"
   ]
  },
  {
   "cell_type": "markdown",
   "metadata": {},
   "source": [
    "### 7.9. Lists in more than one dimension"
   ]
  },
  {
   "cell_type": "markdown",
   "metadata": {},
   "source": [
    "Dum dum dum... you read the subheading right!\n",
    "\n",
    "It is actually possible to have a list of more than one dimension. You've actually seen these before when you were in elementary school... they're called _tables_. \n",
    "\n",
    "\"Huh\", you might blurt out. \n",
    "\n",
    "Okay, let's look at it from a programming perspective first: 2D-lists are essentially a collection of _lists_ **inside** a list.\n",
    "\n",
    "Here's one to get you familiar with the concept:"
   ]
  },
  {
   "cell_type": "code",
   "execution_count": 50,
   "metadata": {},
   "outputs": [],
   "source": [
    "dataTable = [\n",
    "    [15.2, 16.2, 17.3], \n",
    "    [20.1, 23.2, 25.4],\n",
    "    [30.3, 35.6, 39.9]\n",
    "]"
   ]
  },
  {
   "cell_type": "markdown",
   "metadata": {},
   "source": [
    "Essentially, we can organise the data in two different _directions_, whether by the month that the data was taken or the year that it was recorded - that's what is loosely meant by a _dimension_. \n",
    "\n",
    "It's a bit like an `xy`-cartesian graph: you can go Left to Right or Up and Down - that's another example of data in two dimensions i.e. it takes two different bits of information to locate a point on the graph (just like it takes a month and a year to locate a specific number in a table).\n",
    "\n",
    "<img src=\"img/list-table.jpg\" width=\"70%\" />"
   ]
  },
  {
   "cell_type": "markdown",
   "metadata": {},
   "source": [
    "### 7.9.2. Looping in two dimensions. "
   ]
  },
  {
   "cell_type": "markdown",
   "metadata": {},
   "source": [
    "Remember the idea of nesting for-loops? Lovely. Here, you're going to need that same idea too. \n",
    "\n",
    "Let's look back at the `data_table` variable and see if we can add up all the numbers in the table because... why not?"
   ]
  },
  {
   "cell_type": "code",
   "execution_count": 51,
   "metadata": {},
   "outputs": [
    {
     "name": "stdout",
     "output_type": "stream",
     "text": [
      "223.20000000000002\n"
     ]
    }
   ],
   "source": [
    "dataTable = [\n",
    "    [15.2, 16.2, 17.3], \n",
    "    [20.1, 23.2, 25.4],\n",
    "    [30.3, 35.6, 39.9]\n",
    "]\n",
    "\n",
    "total = 0\n",
    "for row in dataTable:\n",
    "    for value in row:\n",
    "        total += value\n",
    "\n",
    "print(total)"
   ]
  },
  {
   "cell_type": "markdown",
   "metadata": {},
   "source": [
    "Interesting. \n",
    "\n",
    "To keep it short, here, we've looped through each row:"
   ]
  },
  {
   "cell_type": "code",
   "execution_count": 52,
   "metadata": {},
   "outputs": [
    {
     "name": "stdout",
     "output_type": "stream",
     "text": [
      "[15.2, 16.2, 17.3]\n",
      "[20.1, 23.2, 25.4]\n",
      "[30.3, 35.6, 39.9]\n"
     ]
    }
   ],
   "source": [
    "for row in dataTable:\n",
    "    print(row)"
   ]
  },
  {
   "cell_type": "markdown",
   "metadata": {},
   "source": [
    "Next, we've looped through each element in each row..."
   ]
  },
  {
   "cell_type": "code",
   "execution_count": 55,
   "metadata": {},
   "outputs": [
    {
     "name": "stdout",
     "output_type": "stream",
     "text": [
      "15.2\n",
      "16.2\n",
      "17.3\n",
      "20.1\n",
      "23.2\n",
      "25.4\n",
      "30.3\n",
      "35.6\n",
      "39.9\n"
     ]
    }
   ],
   "source": [
    "for row in dataTable:\n",
    "    for value in row:\n",
    "        print(value) # would be replaced by total += value"
   ]
  },
  {
   "cell_type": "markdown",
   "metadata": {},
   "source": [
    "... and we've added the values to our running sum `total` before printing this out."
   ]
  },
  {
   "cell_type": "markdown",
   "metadata": {},
   "source": [
    "This idea of adding numbers in a 2D-list does have its applications, namely for matrices of Mathematics. \n",
    "\n",
    "It's not something you'll find often too much in the wild but it's good to know certain techniques in case you ever need them. "
   ]
  },
  {
   "cell_type": "markdown",
   "metadata": {},
   "source": [
    "Right... onto tuples now. Phew!"
   ]
  },
  {
   "cell_type": "markdown",
   "metadata": {},
   "source": [
    "# 8 Tuples\n",
    "## 8.1 Why do we bother?"
   ]
  },
  {
   "cell_type": "markdown",
   "metadata": {},
   "source": [
    "Remember with lists, we were able to use an index to change an element of a list? This means that lists are _mutable_ i.e. that they can be edited or changed. "
   ]
  },
  {
   "cell_type": "markdown",
   "metadata": {},
   "source": [
    "However, some lists are best left untouched. For instance, consider the list of days in a weekday:\n",
    "\n",
    "    weekdays = [\"Monday\", \"Tuesday\", \"Wednesday\", \"Thursday\", \"Friday\"]\n",
    "\n",
    "It would be very annoying if someone could change this for something completely different:\n",
    "\n",
    "    weekdays[-1] = \"Sunday\"\n",
    "\n",
    "as you see below:"
   ]
  },
  {
   "cell_type": "code",
   "execution_count": 57,
   "metadata": {},
   "outputs": [
    {
     "name": "stdout",
     "output_type": "stream",
     "text": [
      "['Monday', 'Tuesday', 'Wednesday', 'Thursday', 'Sunday']\n"
     ]
    }
   ],
   "source": [
    "weekdays_list = [\"Monday\", \"Tuesday\", \"Wednesday\", \"Thursday\", \"Friday\"]\n",
    "weekdays_list[-1] = \"Sunday\"\n",
    "\n",
    "print(weekdays_list)"
   ]
  },
  {
   "cell_type": "markdown",
   "metadata": {},
   "source": [
    "Oh dear. \n",
    "\n",
    "Is there a list structure in Python that doesn't allow for this mutability?\n",
    "\n",
    "Why, **yes**... that's a tuple!\n",
    "\n",
    "Tuples are identical to lists except in two ways:\n",
    "\n",
    "1. Tuples are <u>immutable</u>\n",
    "2. They use <u>round</u> brackets instead of square brackets **when <u>creating</u> the tuple, <u>NOT</u> for indexing** (i.e. they still use square brackets for indexing)"
   ]
  },
  {
   "cell_type": "code",
   "execution_count": 59,
   "metadata": {},
   "outputs": [],
   "source": [
    "weekdays_tuple = (\"Monday\", \"Tuesday\", \"Wednesday\", \"Thursday\", \"Friday\")"
   ]
  },
  {
   "cell_type": "markdown",
   "metadata": {},
   "source": [
    "Try editing the tuple now:"
   ]
  },
  {
   "cell_type": "code",
   "execution_count": 60,
   "metadata": {},
   "outputs": [
    {
     "ename": "TypeError",
     "evalue": "'tuple' object does not support item assignment",
     "output_type": "error",
     "traceback": [
      "\u001b[1;31m---------------------------------------------------------------------------\u001b[0m",
      "\u001b[1;31mTypeError\u001b[0m                                 Traceback (most recent call last)",
      "Cell \u001b[1;32mIn[60], line 1\u001b[0m\n\u001b[1;32m----> 1\u001b[0m weekdays_tuple[\u001b[39m-\u001b[39;49m\u001b[39m1\u001b[39;49m] \u001b[39m=\u001b[39m \u001b[39m\"\u001b[39m\u001b[39mSunday\u001b[39m\u001b[39m\"\u001b[39m\n",
      "\u001b[1;31mTypeError\u001b[0m: 'tuple' object does not support item assignment"
     ]
    }
   ],
   "source": [
    "weekdays_tuple[-1] = \"Sunday\""
   ]
  },
  {
   "cell_type": "markdown",
   "metadata": {},
   "source": [
    "Welp - the error is exactly what it says on the tin. \n",
    "\n",
    "We can't assign a new value (item) to an index with tuples so Python tells us that it can't do the assignment we've asked it to because by nature, tuples are immutable.\n",
    "\n",
    "It has its uses. Namely, if there is a list of elements that we want to keep _constant_ such as the example above. \n",
    "\n",
    "Other examples include e.g. the lists of countries in the world and specific historical records that shouldn't be changed. "
   ]
  },
  {
   "cell_type": "markdown",
   "metadata": {},
   "source": [
    "How can we edit lists without using the index assignment way? **We use methods...** coming up soon. "
   ]
  },
  {
   "cell_type": "markdown",
   "metadata": {},
   "source": [
    "# 9 Dictionaries\n",
    "## 9.1. Just like a language dictionary (ish)"
   ]
  },
  {
   "cell_type": "markdown",
   "metadata": {},
   "source": [
    "Remember those dictionaries that you used to pick up at school when you were unsure about the meaning of a word?\n",
    "\n",
    "Think about it - each word has an _associated_ definition e.g. \n",
    "\n",
    "    \"crypto\":\"a digital currency\"\n",
    "\n",
    "Here, our word is known as a _key_ and the definition is known as a _value_. More abstractly, keys and values are associated to form an **item**. \n",
    "\n",
    "<img src=\"img/key-value.jpg\" width=\"60%\" />\n",
    "\n",
    "Python offers us the opportunity to define a collection of such items known as a **dictionary**. To make one, we use curly brackets `{}`. "
   ]
  },
  {
   "cell_type": "code",
   "execution_count": 62,
   "metadata": {},
   "outputs": [],
   "source": [
    "coins = {\n",
    "    \"BTC\":\"Bitcoin\",\n",
    "    \"ETH\":\"Ethereum\"\n",
    "}"
   ]
  },
  {
   "cell_type": "markdown",
   "metadata": {},
   "source": [
    "Uniquely, we can access the <u>value</u> of an item by using its key as an index of-sorts. "
   ]
  },
  {
   "cell_type": "code",
   "execution_count": 63,
   "metadata": {},
   "outputs": [
    {
     "name": "stdout",
     "output_type": "stream",
     "text": [
      "Bitcoin\n"
     ]
    }
   ],
   "source": [
    "print(coins[\"BTC\"])"
   ]
  },
  {
   "cell_type": "markdown",
   "metadata": {},
   "source": [
    "**NOTE** you cannot reverse-search a value to find its key directly. \n",
    "\n",
    "Additionally, you cannot use a numerical index to <i>traverse</i> (a fancy computing term for 'travel' or 'search') through a dictionary as dictionaries are unordered i.e. the keys do not have ordered indexes attached to them. \n",
    "\n",
    "That is an entirely separate construct that requires a tad more engineering (or just a search on StackExchange, probably)."
   ]
  },
  {
   "cell_type": "markdown",
   "metadata": {},
   "source": [
    "# 10. Subroutines"
   ]
  },
  {
   "cell_type": "markdown",
   "metadata": {},
   "source": [
    "## 10.1 Round round baby, round round..."
   ]
  },
  {
   "cell_type": "markdown",
   "metadata": {},
   "source": [
    "The code we've written so far has been, well... a one-time thing. \n",
    "\n",
    "We can't really _recycle_ our code over and over again when we need it without writing it all out all over again.\n",
    "\n",
    "Here's a simple example - a greeting code:"
   ]
  },
  {
   "cell_type": "code",
   "execution_count": 1,
   "metadata": {},
   "outputs": [
    {
     "name": "stdout",
     "output_type": "stream",
     "text": [
      "Hello, Ahmad\n",
      "Hello, Imran\n",
      "Hello, Joseph\n"
     ]
    }
   ],
   "source": [
    "# print a simple greeting\n",
    "\n",
    "theName = \"Ahmad\"\n",
    "print(\"Hello, \" + theName)\n",
    "\n",
    "theName = \"Imran\"\n",
    "print(\"Hello, \" + theName)\n",
    "\n",
    "theName = \"Joseph\"\n",
    "print(\"Hello, \" + theName)"
   ]
  },
  {
   "cell_type": "markdown",
   "metadata": {},
   "source": [
    "Here, the combination of a string and a string-containing variable is known as _contatenation_. \n",
    "\n",
    "Because both `theName` and the `print()` function are using strings, we can _add_ strings together i.e. **concatenate** them so that they're printed together!\n",
    "\n",
    "However, you've noticed that for this simple process, I've had to subject myself to the mundane task of repeatedly redefining `theName` and using the <u>identical</u> print function over and over again. \n",
    "\n",
    "It _would_ be way easier if I could write some form of a _template_ code which would generalise the process and I could call it by its name so it could perform the same action with minor changes...\n",
    "\n",
    "**THIS** is what sub-routines do!\n",
    "\n",
    "A routine is simply a set of steps. The reason (to my knowledge) that we call it a _sub_-routine is that the sub- prefix implies _inferiority_. \n",
    "\n",
    "As you will see, a subroutine is a set of steps that we write outside of the _main body_ of the program, so it lives elsewhere and doesn't belong to the **main** program (the latter being more important).\n",
    "\n",
    "Subroutines can then be called repeatedly when required with their outputs adjusted as and when we need.\n",
    "\n",
    "**NOTE** When I refer to _calling_ a subroutine, I simply am referring to when it's being executed (or 'run') by the computer once it reaches that point in the Python script. "
   ]
  },
  {
   "cell_type": "markdown",
   "metadata": {},
   "source": [
    "There are two types of subroutines that we will be covering in this notebook:\n",
    "\n",
    "- Functions\n",
    "- Methods\n",
    "\n",
    "So, let's get started with functions!"
   ]
  },
  {
   "cell_type": "markdown",
   "metadata": {},
   "source": [
    "## 10.2 Input comes in... output comes out!"
   ]
  },
  {
   "cell_type": "markdown",
   "metadata": {},
   "source": [
    "Welp... let's go back a bit to our GCSE understanding of functions in the context of maths (or 'SAT' if you went to American-style high school)...\n",
    "\n",
    "Consider a function `f(x) = x**2` i.e. x squared. \n",
    "\n",
    "If we tried to plug in the number `3`, this would look like:\n",
    "\n",
    "`f(3) = 3**2 = 9`\n",
    "\n",
    "Very simple, really. Almost trivial!\n",
    "\n",
    "Here, our _input_ was the number 3 and our <u>_function_</u> squared our input to give us an **output** of 9. \n",
    "\n",
    "Our <u>input</u> value for `f(3)` is known as the **argument** of the function `f(3)`. \n",
    "\n",
    "Our <u>output</u> value for `f(3)` is known as the **return** value of the function as `9` is being \"returned\" to the program where it is called. \n",
    "\n",
    "In general programming, we can extend this idea (from functions in mathematics) to return a wider set of data types including strings, booleans etc. "
   ]
  },
  {
   "cell_type": "markdown",
   "metadata": {},
   "source": [
    "### 10.2.2 A function with a return\n",
    "\n",
    "Let's first understand general functions that actually return something. \n",
    "\n",
    "Take the following code block below:"
   ]
  },
  {
   "cell_type": "code",
   "execution_count": 2,
   "metadata": {},
   "outputs": [
    {
     "name": "stdout",
     "output_type": "stream",
     "text": [
      "16\n"
     ]
    }
   ],
   "source": [
    "# a function that returns something\n",
    "\n",
    "def areaOfSquare(side):\n",
    "    area = side**2\n",
    "    return area\n",
    "\n",
    "areaSquare4 = areaOfSquare(4)\n",
    "print(areaSquare4)"
   ]
  },
  {
   "cell_type": "markdown",
   "metadata": {},
   "source": [
    "Let's gather ourselves here and discuss the function code itself. \n",
    "\n",
    "1. First, I've defined a function using the `def` keyword (short for _define_).\n",
    "\n",
    "2. I've then passed a _parameter_ that mimics an actual data type or value that would exist in its place during the function call (like a placeholder). \n",
    "\n",
    "If that sounds confusing at first, think of `f(3)` from earlier... we defined our function to be `f(x) = x**2` so in the example case, `x = 3` (hence the placeholder nature of `x`).\n",
    "\n",
    "3. `side` is squared and then attached to a new variable called `area`. \n",
    "\n",
    "4. `area` is then returned to where it is called in the code. "
   ]
  },
  {
   "cell_type": "markdown",
   "metadata": {},
   "source": [
    "But ooh... what's happened here? Let's look at this a bit closer _stepwise_...\n",
    "\n",
    "1. Python does **NOT** execute functions first (ish). It first runs the following line:\n",
    "\n",
    "        areaSquare4 = areaOfSquare(4)\n",
    "\n",
    "2. Python first sees a function call:\n",
    "\n",
    "        areaOfSquare(4)\n",
    "\n",
    "3. What Python does is it _calls_ the function `areaOfSquare` and passes the value of `4`.\n",
    "\n",
    "4. The function now kicks in and gives this value of `4` to a variable that it uses in its own _internal_ process called `side`.\n",
    "\n",
    "5. `side` is raised to the power of `2` and then used to create a new variable called `area`. \n",
    "\n",
    "6. **This** is the most important part: the function _returns_ the value of `area` to where the function was _called_ in the first place, namely the line where it says `areaOfSquare(4)`. \n",
    "\n",
    "7. The function returns the value of `16`, which the Python IDE then captures and uses to create another variable, `areaSquare4`.\n",
    "\n",
    "8. Trivially, we print the value of `areaSquare4`, which is `16`... happy days!"
   ]
  },
  {
   "cell_type": "markdown",
   "metadata": {},
   "source": [
    "Notice, I mentioned the idea of the function using its own internal process... **this is a crucial idea!**\n",
    "\n",
    "If you try to print the value of `area` outside of the function or the function call, you will get an error:"
   ]
  },
  {
   "cell_type": "code",
   "execution_count": 4,
   "metadata": {},
   "outputs": [
    {
     "ename": "NameError",
     "evalue": "name 'area' is not defined",
     "output_type": "error",
     "traceback": [
      "\u001b[1;31m---------------------------------------------------------------------------\u001b[0m",
      "\u001b[1;31mNameError\u001b[0m                                 Traceback (most recent call last)",
      "Cell \u001b[1;32mIn[4], line 8\u001b[0m\n\u001b[0;32m      5\u001b[0m     \u001b[39mreturn\u001b[39;00m area\n\u001b[0;32m      7\u001b[0m areaSquare4 \u001b[39m=\u001b[39m areaOfSquare(\u001b[39m4\u001b[39m)\n\u001b[1;32m----> 8\u001b[0m \u001b[39mprint\u001b[39m(area)\n",
      "\u001b[1;31mNameError\u001b[0m: name 'area' is not defined"
     ]
    }
   ],
   "source": [
    "# a function that returns something\n",
    "\n",
    "def areaOfSquare(side):\n",
    "    area = side**2\n",
    "    return area\n",
    "\n",
    "areaSquare4 = areaOfSquare(4)\n",
    "print(area)"
   ]
  },
  {
   "cell_type": "markdown",
   "metadata": {},
   "source": [
    "Strange... why is `area` not defined?\n",
    "\n",
    "Remember earlier when I said that the reason we called <u>sub</u>routines _sub_-routines?\n",
    "\n",
    "This is because functions don't actually co-exist with the program at the same time (sort-of). \n",
    "\n",
    "Because functions are needed only when they're actually needed, they live elsewhere in the computer's memory and are erased once we're done using them. \n",
    "\n",
    "For this reason, you won't be able to work with the `area` variable _inside_ of the function once we're done with it. \n",
    "\n",
    "Mistakely, programmers are taught that the `area` variable is in a different _scope_ to the main code. <br>This is, er... **true** to some extent as they live in different areas of memory and don't co-exist before or after function calls.\n",
    "\n",
    "As a result, if you try to access a variable inside of a function from <u>outside</u> of a function, Python won't recognise said variable to have ever existed by the point you try and print it (and it'll give you an error accordingly).\n",
    "\n",
    "This is often referred to as the idea of a variable's _scope_. Some variables are _scoped_ within the function that they're located in i.e. they can't be accessed by anything outside of said function. \n",
    "\n",
    "Other times, there are variables that exist in the main body of the code e.g. inside `for`-loops, `while`-loops etc.<br>These are known as **global** scope variables as they can be accessed anywhere i.e. globally / internationally. "
   ]
  },
  {
   "cell_type": "markdown",
   "metadata": {},
   "source": [
    "### 10.2.3 A function with no return... ooh, spooky!"
   ]
  },
  {
   "cell_type": "markdown",
   "metadata": {},
   "source": [
    "Do functions actually need to _return_ something? No, not really. "
   ]
  },
  {
   "cell_type": "code",
   "execution_count": 6,
   "metadata": {},
   "outputs": [
    {
     "name": "stdout",
     "output_type": "stream",
     "text": [
      "Hello, Ahmad\n"
     ]
    }
   ],
   "source": [
    "# a function with no return\n",
    "\n",
    "def greeting(name):\n",
    "    print(\"Hello, \" + name)\n",
    "\n",
    "greeting(\"Ahmad\")"
   ]
  },
  {
   "cell_type": "markdown",
   "metadata": {},
   "source": [
    "Ooh... spooky! **It isn't, actually**. It's our old code from earlier. \n",
    "\n",
    "This time, we've defined a `parameter` called `name` and we're planning to execute a `print` function that includes our name at the end of a pre-written string `\"Hello\"`. "
   ]
  },
  {
   "cell_type": "markdown",
   "metadata": {},
   "source": [
    "**NOTE**, in programming, a _parameter_ is the generic placeholder **INSIDE** the function definition (in this case, `name`). \n",
    "\n",
    "The _argument_ is the actual string / number etc. that you provide during the function call (in this case, `Ahmad`)!\n",
    "\n",
    "A slight distinction that requires a huge mention!"
   ]
  },
  {
   "cell_type": "markdown",
   "metadata": {},
   "source": [
    "You might notice that as I haven't got a return value, I haven't attached the function to any variables. So, how did I run the function `greeting(name)`?\n",
    "\n",
    "To run a function, you simply use its name, open round bracket and pass a parameter or two before you close the bracket.\n",
    "\n",
    "    greeting(\"Ahmad\")\n",
    "\n",
    "Simple as that. \n",
    "\n",
    "For clarity, this helps us run the same function multiple times:"
   ]
  },
  {
   "cell_type": "code",
   "execution_count": 7,
   "metadata": {},
   "outputs": [
    {
     "name": "stdout",
     "output_type": "stream",
     "text": [
      "Hello, Ahmad\n",
      "Hello, Imran\n",
      "Hello, Joseph\n"
     ]
    }
   ],
   "source": [
    "# a function with no return\n",
    "\n",
    "def greeting(name):\n",
    "    print(\"Hello, \" + name)\n",
    "\n",
    "greeting(\"Ahmad\")\n",
    "greeting(\"Imran\")\n",
    "greeting(\"Joseph\")"
   ]
  },
  {
   "cell_type": "markdown",
   "metadata": {},
   "source": [
    "Notice, a much shorter way to repeat myself using functions rather than copying two or more lines of code by redeclaring variables and the like. "
   ]
  },
  {
   "cell_type": "markdown",
   "metadata": {},
   "source": [
    "### 10.2.4 A function with more than one parameter... easy as multiplication!"
   ]
  },
  {
   "cell_type": "markdown",
   "metadata": {},
   "source": [
    "When you do multiplication, you take two values and you multiply them together... how easy. \n",
    "\n",
    "When you use functions, you can define more than two parameters:"
   ]
  },
  {
   "cell_type": "code",
   "execution_count": 8,
   "metadata": {},
   "outputs": [
    {
     "name": "stdout",
     "output_type": "stream",
     "text": [
      "6\n"
     ]
    }
   ],
   "source": [
    "def multiplyNumbers(a, b):\n",
    "    return a * b\n",
    "\n",
    "myResult = multiplyNumbers(2, 3)\n",
    "print(myResult)"
   ]
  },
  {
   "cell_type": "markdown",
   "metadata": {},
   "source": [
    "Here, I've defined a function `multiplyNumbers(a, b)` which takes two values and adds them together. \n",
    "\n",
    "In this case, `a` would match to `2` and `b` would match to `3`. \n",
    "\n",
    "The **order** of your parameters matter:"
   ]
  },
  {
   "cell_type": "code",
   "execution_count": 9,
   "metadata": {},
   "outputs": [
    {
     "name": "stdout",
     "output_type": "stream",
     "text": [
      "2.0\n",
      "0.5\n"
     ]
    }
   ],
   "source": [
    "def divideNumbers(c, d):\n",
    "    return c / d\n",
    "\n",
    "print(divideNumbers(4, 2)) # 4 divided by 2  = 2\n",
    "print(divideNumbers(2, 4)) # 2 divided by 4 = 0.5"
   ]
  },
  {
   "cell_type": "markdown",
   "metadata": {},
   "source": [
    "The orders map in identical fashion... the first number maps to `c` and the second number maps to `d`.\n",
    "\n",
    "_Simple as that!_"
   ]
  },
  {
   "cell_type": "markdown",
   "metadata": {},
   "source": [
    "### 10.2.5 A function with no parameters... not so spooky, really. "
   ]
  },
  {
   "cell_type": "markdown",
   "metadata": {},
   "source": [
    "Sometimes, you don't need to change your function based on what you pass into it. \n",
    "\n",
    "I will bolden this point so I can make sure this is fused into your mind...\n",
    "\n",
    "**IF YOU HAVE NO PARAMETERS, JUST LEAVE THE FUNCTION BRACKETS BLANK AND DON'T TYPE ANYTHING INSIDE IT!**\n",
    "\n",
    "Round function brackets are **ALWAYS** needed, irrespective of whether you have parameters in your function _declaration_ (i.e. when you create your own function.)\n",
    "\n",
    "If you don't have parameters, leave the brackets blank but always remember to have them! **Python does not allow functions without brackets, whether filled or unfilled.**\n",
    "\n",
    "Here's one example to prove this point..."
   ]
  },
  {
   "cell_type": "code",
   "execution_count": 10,
   "metadata": {},
   "outputs": [
    {
     "name": "stdout",
     "output_type": "stream",
     "text": [
      "Bitcoin was launched in 2014\n"
     ]
    }
   ],
   "source": [
    "def printBitcoinLaunch():\n",
    "    print(\"Bitcoin was launched in 2014\")\n",
    "\n",
    "printBitcoinLaunch()"
   ]
  },
  {
   "cell_type": "markdown",
   "metadata": {},
   "source": [
    "I can't really pass anything into the function to modify that statement... Bitcoin *was* launched in 2014 and that's just a fact. \n",
    "\n",
    "So, I can print that statement using a function repeatedly without needing to pass any data into it to modify the statement in order to affect the output. \n",
    "\n",
    "Again, even if there are no parameters to alter the output, you must still include it during your function declaration and your function call!\n",
    "\n",
    "_Simple as that... again!_"
   ]
  },
  {
   "cell_type": "markdown",
   "metadata": {},
   "source": [
    "### 10.2.6. Built-in functions... you've seen them before, haven't you?"
   ]
  },
  {
   "cell_type": "markdown",
   "metadata": {},
   "source": [
    "Yes, you have!"
   ]
  },
  {
   "cell_type": "code",
   "execution_count": 12,
   "metadata": {},
   "outputs": [
    {
     "name": "stdout",
     "output_type": "stream",
     "text": [
      "Hello World\n"
     ]
    }
   ],
   "source": [
    "# our first message to the screen\n",
    "print(\"Hello World\")"
   ]
  },
  {
   "cell_type": "markdown",
   "metadata": {},
   "source": [
    "Ooh, rounded brackets with a string inside!\n",
    "\n",
    "- Our input is a string, `\"Hello World`\"\n",
    "- Our function prints a message to the screen with our input as the message itself\n",
    "- Our output is a message to the screen, `\"Hello World\"`"
   ]
  },
  {
   "cell_type": "markdown",
   "metadata": {},
   "source": [
    "There are other functions that also exist:\n",
    "\n",
    "- `max()`\n",
    "- `input()`\n",
    "- `str()`\n",
    "- `int()`\n",
    "- `float()`\n",
    "- `len()`\n",
    "\n",
    "and here is one example for each so you can play around with them now that you know about functions, parameters, inputs, outputs etc."
   ]
  },
  {
   "cell_type": "code",
   "execution_count": 13,
   "metadata": {},
   "outputs": [
    {
     "name": "stdout",
     "output_type": "stream",
     "text": [
      "9\n"
     ]
    }
   ],
   "source": [
    "# the max() function: mostly used to print the largest number in a collection of numbers\n",
    "\n",
    "n_max = max(1, 3, 5, 7, 9) # maximum is 9\n",
    "print(n_max)"
   ]
  },
  {
   "cell_type": "code",
   "execution_count": null,
   "metadata": {},
   "outputs": [],
   "source": [
    "# input() function: takes input from the user i.e. you and customises the output based on what you type\n",
    "\n",
    "greetingName = input(\"What is your name >> \")\n",
    "print(\"Hello\", greetingName)\n",
    "\n",
    "# You will get a pop-up on the top of VSCode prompting you to write your name before the custom message is printed."
   ]
  },
  {
   "cell_type": "markdown",
   "metadata": {},
   "source": [
    "Notice here that using a comma to join strings is also possible _inside_ of a print function, just like if it was sort of like a list. \n",
    "\n",
    "The **ONLY** difference is that the comma also automatically inserts a space character between the previous string and the following string - a `+` sign does not. "
   ]
  },
  {
   "cell_type": "code",
   "execution_count": 15,
   "metadata": {},
   "outputs": [
    {
     "name": "stdout",
     "output_type": "stream",
     "text": [
      "My lucky number is 32\n"
     ]
    }
   ],
   "source": [
    "# str() function: makes any valid datatype (integer, float) a string\n",
    "\n",
    "myInt = 32\n",
    "\n",
    "myString = \"My lucky number is \" + str(myInt)\n",
    "\n",
    "print(myString)"
   ]
  },
  {
   "cell_type": "markdown",
   "metadata": {},
   "source": [
    "If you tried not to use the `str()` function, you'd get an error as strings and integers can't be added together (as a string isn't a number):"
   ]
  },
  {
   "cell_type": "code",
   "execution_count": 16,
   "metadata": {},
   "outputs": [
    {
     "ename": "TypeError",
     "evalue": "can only concatenate str (not \"int\") to str",
     "output_type": "error",
     "traceback": [
      "\u001b[1;31m---------------------------------------------------------------------------\u001b[0m",
      "\u001b[1;31mTypeError\u001b[0m                                 Traceback (most recent call last)",
      "Cell \u001b[1;32mIn[16], line 5\u001b[0m\n\u001b[0;32m      1\u001b[0m \u001b[39m# this is what happens if you don't include the str() function\u001b[39;00m\n\u001b[0;32m      3\u001b[0m my_int \u001b[39m=\u001b[39m \u001b[39m32\u001b[39m\n\u001b[1;32m----> 5\u001b[0m my_string \u001b[39m=\u001b[39m \u001b[39m\"\u001b[39;49m\u001b[39mMy lucky number is \u001b[39;49m\u001b[39m\"\u001b[39;49m \u001b[39m+\u001b[39;49m my_int\n\u001b[0;32m      7\u001b[0m \u001b[39mprint\u001b[39m(my_string)\n",
      "\u001b[1;31mTypeError\u001b[0m: can only concatenate str (not \"int\") to str"
     ]
    }
   ],
   "source": [
    "# this is what happens if you don't include the str() function\n",
    "\n",
    "myInt = 32\n",
    "\n",
    "myString = \"My lucky number is \" + myInt\n",
    "\n",
    "print(myString)"
   ]
  },
  {
   "cell_type": "markdown",
   "metadata": {},
   "source": [
    "A self-explanatory error. "
   ]
  },
  {
   "cell_type": "code",
   "execution_count": 23,
   "metadata": {},
   "outputs": [
    {
     "name": "stdout",
     "output_type": "stream",
     "text": [
      "30\n"
     ]
    }
   ],
   "source": [
    "# int(): converts a string to an integer (much the opposite of str())\n",
    "\n",
    "myPiApprox = \"3\"\n",
    "myRadius = 5\n",
    "\n",
    "myCalc = 2 * int(myPiApprox) * myRadius\n",
    "print(myCalc)"
   ]
  },
  {
   "cell_type": "markdown",
   "metadata": {},
   "source": [
    "If you didn't include the `int()` function, you don't actually get an error! Instead, your string gets duplicated over and over again..."
   ]
  },
  {
   "cell_type": "code",
   "execution_count": 22,
   "metadata": {},
   "outputs": [
    {
     "name": "stdout",
     "output_type": "stream",
     "text": [
      "333333\n"
     ]
    }
   ],
   "source": [
    "myPiApprox = \"3\"\n",
    "myRadius = 5\n",
    "\n",
    "myCalc = 2 * myPiApprox * myRadius\n",
    "print(myCalc)"
   ]
  },
  {
   "cell_type": "markdown",
   "metadata": {},
   "source": [
    "2 multiplied by 5 is 10 (remember, the order of multiplication does not matter i.e. \"commutative\"). \n",
    "\n",
    "So, we end up with 10 times `myPiApprox`, so we print a string with 10 lots of `\"3\"`. \n",
    "\n",
    "If you're not convinced, look at this:"
   ]
  },
  {
   "cell_type": "code",
   "execution_count": 24,
   "metadata": {},
   "outputs": [
    {
     "name": "stdout",
     "output_type": "stream",
     "text": [
      "pppppppppp\n"
     ]
    }
   ],
   "source": [
    "myPiApprox = \"p\"\n",
    "myRadius = 5\n",
    "\n",
    "myCalc = 2 * myPiApprox * myRadius\n",
    "print(myCalc)"
   ]
  },
  {
   "cell_type": "markdown",
   "metadata": {},
   "source": [
    "Point proven. "
   ]
  },
  {
   "cell_type": "code",
   "execution_count": 26,
   "metadata": {},
   "outputs": [
    {
     "name": "stdout",
     "output_type": "stream",
     "text": [
      "31.400000000000002\n"
     ]
    }
   ],
   "source": [
    "# float: convert a string to a float\n",
    "\n",
    "myPiApprox = \"3.14\"\n",
    "myRadius = 5\n",
    "\n",
    "myCalc = 2 * float(myPiApprox) * myRadius\n",
    "print(myCalc)"
   ]
  },
  {
   "cell_type": "code",
   "execution_count": 27,
   "metadata": {},
   "outputs": [
    {
     "data": {
      "text/plain": [
       "3"
      ]
     },
     "execution_count": 27,
     "metadata": {},
     "output_type": "execute_result"
    }
   ],
   "source": [
    "# len(): the length of a list (by how many elements it has)\n",
    "\n",
    "myList = ['Python', 'Crypto', 'Blockchain']\n",
    "len(myList)"
   ]
  },
  {
   "cell_type": "code",
   "execution_count": 29,
   "metadata": {},
   "outputs": [
    {
     "data": {
      "text/plain": [
       "25"
      ]
     },
     "execution_count": 29,
     "metadata": {},
     "output_type": "execute_result"
    }
   ],
   "source": [
    "# len(): the length of a list (by how many elements it has)\n",
    "\n",
    "myOtherList = \"Imperial Blockchain Group\"\n",
    "len(myOtherList)"
   ]
  },
  {
   "cell_type": "markdown",
   "metadata": {},
   "source": [
    "25 characters in that one string."
   ]
  },
  {
   "cell_type": "markdown",
   "metadata": {},
   "source": [
    "**N.B.** All built-in functions require rounded brackets i.e. parentheses `()`"
   ]
  },
  {
   "cell_type": "markdown",
   "metadata": {},
   "source": [
    "## 10.3 Methods"
   ]
  },
  {
   "cell_type": "markdown",
   "metadata": {},
   "source": [
    "### 10.3.1 Let's now have some fun with our new data type friends..."
   ]
  },
  {
   "cell_type": "markdown",
   "metadata": {},
   "source": [
    "We've covered various data types so far including strings, lists, dictionaries etc. \n",
    "\n",
    "These data types are generalised to something that we call **objects** (which will be the subject of the final section of this introduction to Python).\n",
    "\n",
    "There is a subset of subroutines that are _unique_ to specific objects and they're called **methods**. \n",
    "\n",
    "To be clear, methods only work on specific types of objects.<br>However, functions work with all data types, by comparison. \n",
    "\n",
    "Illustratively, you are aware that:\n",
    "\n",
    "    print()\n",
    "\n",
    "is a function that works with strings, integers, floats etc. \n",
    "\n",
    "However, there may be some cases where we wish to work with subroutines that are specific to only strings or integers etc - this is the purpose of a _method_. \n",
    "\n",
    "Here are a few methods that you'll be seeing, along with the data type that they work with:\n",
    "\n",
    "- `upper()` for strings\n",
    "- `lower()` for strings\n",
    "- `append()` for lists\n",
    "- `sort()` for lists\n",
    "- `values()` for dictionaries\n",
    "- `items()` for dictionaries\n",
    "\n",
    "Do note that **NOT** all methods will behave in the same way. Some will require parameters, others will change our data type completely etc (as you will see momentarily) "
   ]
  },
  {
   "cell_type": "markdown",
   "metadata": {},
   "source": [
    "### 10.3.2. Making strings scream with upper()"
   ]
  },
  {
   "cell_type": "markdown",
   "metadata": {},
   "source": [
    "If we want to make a string uppercase i.e. capitalised, we could just typeout the string again with capital letters. \n",
    "\n",
    "However, we are professionals so we're going to get the computer to do it for us in one step rather than doing the labour ourselves. \n",
    "\n",
    "To make a string uppercase, we use the `upper()` method. \n",
    "\n",
    "_However_, the way we use it is a bit different to a function!\n",
    "\n",
    "Let's show it first so that you don't get lost:\n",
    "\n",
    "    \"blockchain\".upper()\n",
    "\n",
    "As you can see, we apply our method _after_ the string that we perform the uppercase operation on. \n",
    "\n",
    "To actually make it work, we need to use a full-stop (or a \"period\" i.e. `.` ) so that the method attaches specifically to the string that we want to uppercase.<br>\n",
    "_You'll see why this is when we discuss objects in deeper depth_. "
   ]
  },
  {
   "cell_type": "code",
   "execution_count": 30,
   "metadata": {},
   "outputs": [
    {
     "name": "stdout",
     "output_type": "stream",
     "text": [
      "BLOCKCHAIN\n"
     ]
    }
   ],
   "source": [
    "# making a string uppercase\n",
    "myString = \"blockchain\"\n",
    "newString = myString.upper()\n",
    "print(newString)"
   ]
  },
  {
   "cell_type": "markdown",
   "metadata": {},
   "source": [
    "So, to use a method, we precede the object in question with a full stop, the method name and the usual brackets as per function / subroutine notation in Python. \n",
    "\n",
    "**REMEMBER** Even if your method does not take any parameters, you still need to use brackets - as usual, you just leave it empty. \n",
    "\n",
    "What would happen though if you did...\n",
    "\n",
    "    myString.upper\n",
    "\n",
    "Well, you'd actually just be _storing_ the function but not actually executing it. \n",
    "\n",
    "The brackets `()` actually sort of imply to Python that this function is ready to be executed as the parmeters have been accounted for. "
   ]
  },
  {
   "cell_type": "code",
   "execution_count": null,
   "metadata": {},
   "outputs": [],
   "source": [
    "# printing the method that's stored in newString\n",
    "# try running this block of code\n",
    "\n",
    "myString = \"blockchain\"\n",
    "newString = myString.upper\n",
    "print(newString)"
   ]
  },
  {
   "cell_type": "markdown",
   "metadata": {},
   "source": [
    "Here, we've asked python to extract the `upper` method that's specific to all strings (in this case, to `myString` in particular). \n",
    "\n",
    "However, as we've not asked for it to be executed, it remains idle and ready for us to use. \n",
    "\n",
    "What we get printed is the following:\n",
    "\n",
    "1. what type of method we are dealing with \n",
    "\n",
    "        built-in method upper\n",
    "\n",
    "2. What it works for \n",
    "\n",
    "        of str object\n",
    "\n",
    "3. Where it exists in the computer memory (as per hexadecimal '0x' notation)\n",
    "\n",
    "        0x000001AB2C34567\n",
    "\n",
    "Funnily enough, if you run:\n",
    "\n",
    "    newString()\n",
    "\n",
    "You actually get the function call being executed! (as you can see below)\n",
    "\n",
    "This shows the nature of the input arguments existing in the rounded brackets `()` to differentiate between a function call and simply storing the function without including the rounded brackets `()`."
   ]
  },
  {
   "cell_type": "code",
   "execution_count": 33,
   "metadata": {},
   "outputs": [
    {
     "data": {
      "text/plain": [
       "'BLOCKCHAIN'"
      ]
     },
     "execution_count": 33,
     "metadata": {},
     "output_type": "execute_result"
    }
   ],
   "source": [
    "newString()"
   ]
  },
  {
   "cell_type": "markdown",
   "metadata": {},
   "source": [
    "For the remainder of this notebook, you'll see me refer to methods as e.g. `.sorted()` i.e. with the full stop before the period name in order to show you that it's specifically a method and not a function. "
   ]
  },
  {
   "cell_type": "markdown",
   "metadata": {},
   "source": [
    "### 10.3.3 I declare the list be ordered at once!"
   ]
  },
  {
   "cell_type": "markdown",
   "metadata": {},
   "source": [
    "Methods are great with lists!\n",
    "\n",
    "Take the following list below:\n",
    "\n",
    "    names = [‘Ahmad’, ‘Logan’, ‘Joseph’, ‘Imran’]\n",
    "\n",
    "This is (clearly) not ordered. \n",
    "\n",
    "What I can do is simply do:\n",
    "\n",
    "    names.sort()\n",
    "\n",
    "without any arguments and voila - the list is ordered!"
   ]
  },
  {
   "cell_type": "code",
   "execution_count": 34,
   "metadata": {},
   "outputs": [
    {
     "name": "stdout",
     "output_type": "stream",
     "text": [
      "['Ahmad', 'Imran', 'Joseph', 'Logan']\n"
     ]
    }
   ],
   "source": [
    "names = ['Ahmad', 'Logan', 'Joseph', 'Imran']\n",
    "names.sort()\n",
    "print(names)"
   ]
  },
  {
   "cell_type": "markdown",
   "metadata": {},
   "source": [
    "Ah, the keen-eyed viewer may have realised that we haven't assigned our sorted list to a new variable. \n",
    "\n",
    "This is intentional: the `.sort()` method edits lists **in-place** so it takes the original variable, changes it and then puts the result back into the original variable. \n",
    "\n",
    "What actually happens is that the original location of the data type in question is accessed in the computer memory, the changes are made and the result is actually put back in the same place where the list lived in memory.\n",
    "\n",
    "Normally, when you declare a new variable, you are taking up another place in the computer's memory to store new information or a copy of an existing data type. \n",
    "\n",
    "Most methods produce copies of the original data type and expect you to store it in a new variable. \n",
    "\n",
    "`.sort()` orders lists in-place so that you don't need to assign the result of a variable - it overwrites the original variable for you as it assumes that you don't need the old list before the sorting takes place. "
   ]
  },
  {
   "cell_type": "markdown",
   "metadata": {},
   "source": [
    "In comparison, the function equivalent of `.sort()` is `sorted()`.\n",
    "\n",
    "However, `sorted()` returns a result that you need to store in a separate new variable in order to capture the function's output.\n",
    "\n",
    "As a result, this would leave the original variable untouched:"
   ]
  },
  {
   "cell_type": "code",
   "execution_count": 35,
   "metadata": {},
   "outputs": [
    {
     "name": "stdout",
     "output_type": "stream",
     "text": [
      "['Ahmad', 'Imran', 'Joseph', 'Logan']\n"
     ]
    }
   ],
   "source": [
    "# using a function requires us to create a new variable in order to capture the function output\n",
    "\n",
    "names = ['Ahmad', 'Logan', 'Joseph', 'Imran']\n",
    "sortedNames = sorted(names)\n",
    "print(sortedNames)"
   ]
  },
  {
   "cell_type": "markdown",
   "metadata": {},
   "source": [
    "So, we only really use methods if we wish to edit in-place or to avoid us creating masses of variables that we need to keep track of. \n",
    "\n",
    "_For the sweet love of the lord__, **PLEASE** be careful about the difference when using methods or functions. \n",
    "\n",
    "If you're ever unsure, check and check again to be sure that you're using the right subroutine for the job that you are doing!"
   ]
  },
  {
   "cell_type": "markdown",
   "metadata": {},
   "source": [
    "### 10.3.4. Dictionaries and methods - a love story"
   ]
  },
  {
   "cell_type": "markdown",
   "metadata": {},
   "source": [
    "Dictionaries are data types. So, they also can work with _some_ methods. \n",
    "\n",
    "To be clear: dictionaries are _insertion_ ordered as of Python 3.7. This means that the order of the _keys_ depends on the order in which they were inserted. \n",
    "\n",
    "Let's look at a dictionary to explore some of the dictionary methods. "
   ]
  },
  {
   "cell_type": "code",
   "execution_count": 36,
   "metadata": {},
   "outputs": [],
   "source": [
    "# creating our own dictionary of coin tickers and what they correspond to\n",
    "cryptoCoins = {\"BTU\":\"Bitcoin\", \"ETH\":\"Ethereum\"}"
   ]
  },
  {
   "cell_type": "markdown",
   "metadata": {},
   "source": [
    "Maybe, rather than having to repetitively use each key to access the corresponding values in a dictionary i.e.. \n",
    "\n",
    "    print(cryptoCoins[\"BTU\"])\n",
    "    print(cryptoCoins[\"ETH\"])\n",
    "\n",
    "I could use a method on a dictionary that I'm interested in to get all the values inside the dictionary:\n",
    "\n",
    "    print(cryptoCoins.values())"
   ]
  },
  {
   "cell_type": "code",
   "execution_count": 37,
   "metadata": {},
   "outputs": [
    {
     "name": "stdout",
     "output_type": "stream",
     "text": [
      "dict_values(['Bitcoin', 'Ethereum'])\n"
     ]
    }
   ],
   "source": [
    "# printing values from a dictionary\n",
    "cryptoCoins = {\"BTU\":\"Bitcoin\", \"ETH\":\"Ethereum\"}\n",
    "print(cryptoCoins.values())"
   ]
  },
  {
   "cell_type": "markdown",
   "metadata": {},
   "source": [
    "Magnificient. \n",
    "\n",
    "Just to be clear here, the values are compiled into a list and are stored as another type of object, `dict_values`. \n",
    "\n",
    "`dict_values` are essentially known as **iterables** i.e. we are <u>able</u> to _iterate_ through them. \n",
    "\n",
    "To work with them, we use the `list()` function to extract the list inside the _iterable_:\n",
    "\n",
    "    list(cryptoCoins.values())"
   ]
  },
  {
   "cell_type": "code",
   "execution_count": 38,
   "metadata": {},
   "outputs": [
    {
     "name": "stdout",
     "output_type": "stream",
     "text": [
      "['Bitcoin', 'Ethereum']\n"
     ]
    }
   ],
   "source": [
    "# printing values from a dictionary\n",
    "cryptoCoins = {\"BTU\":\"Bitcoin\", \"ETH\":\"Ethereum\"}\n",
    "print(list(cryptoCoins.values()))"
   ]
  },
  {
   "cell_type": "markdown",
   "metadata": {},
   "source": [
    "C'est magnifique!"
   ]
  },
  {
   "cell_type": "markdown",
   "metadata": {},
   "source": [
    "Remember, you can only use methods on the data type in question. \n",
    "\n",
    "Notice that if I had another dictionary for another completely different purpose, it would only list the values of that _specific_ dictionary, not all or any other dictionary than the one I've applied the method on:"
   ]
  },
  {
   "cell_type": "code",
   "execution_count": 39,
   "metadata": {},
   "outputs": [
    {
     "name": "stdout",
     "output_type": "stream",
     "text": [
      "['Bitcoin', 'Ethereum']\n",
      "This does not conflict with...\n",
      "['London', 'Paris']\n"
     ]
    }
   ],
   "source": [
    "# using more than one dictionary doesn't conflict the method call\n",
    "cryptoCoins = {\"BTU\":\"Bitcoin\", \"ETH\":\"Ethereum\"}\n",
    "capitalCities = {\"England\":\"London\", \"France\":\"Paris\"}\n",
    "\n",
    "print(list(cryptoCoins.values()))\n",
    "\n",
    "print(\"This does not conflict with...\")\n",
    "\n",
    "print(list(capitalCities.values()))"
   ]
  },
  {
   "cell_type": "markdown",
   "metadata": {},
   "source": [
    "C'est extraordinare!"
   ]
  },
  {
   "cell_type": "markdown",
   "metadata": {},
   "source": [
    "This sort of method calling with dictionaries can be useful for looping purposes:"
   ]
  },
  {
   "cell_type": "code",
   "execution_count": 40,
   "metadata": {},
   "outputs": [
    {
     "name": "stdout",
     "output_type": "stream",
     "text": [
      "Bonjour!\n"
     ]
    }
   ],
   "source": [
    "# looping through a dictionary\n",
    "capitalCities = {\"England\":\"London\", \"France\":\"Paris\"}\n",
    "\n",
    "for item in list(capitalCities.values()):\n",
    "    if item == \"Paris\":\n",
    "        print(\"Bonjour!\")"
   ]
  },
  {
   "cell_type": "markdown",
   "metadata": {},
   "source": [
    "So, if we have a value in the dictionary that is equal to `Paris`, we print `Bonjour!`. \n",
    "\n",
    "_And we do, actually!_"
   ]
  },
  {
   "cell_type": "markdown",
   "metadata": {},
   "source": [
    "Lovely... onwards and upwards!"
   ]
  },
  {
   "cell_type": "markdown",
   "metadata": {},
   "source": [
    "## 10.4 Lambdas... functions without a name!"
   ]
  },
  {
   "cell_type": "markdown",
   "metadata": {},
   "source": [
    "Sometimes, we don't want to clunk up our code with functions if we're only going to need them maybe once or twice. \n",
    "\n",
    "In these situations, we can write a small chunk of code that serves a purpose as a function but is written in the main body: this code is called a **lambda**. \n",
    "\n",
    "Let's take a look at an example:"
   ]
  },
  {
   "cell_type": "code",
   "execution_count": 41,
   "metadata": {},
   "outputs": [
    {
     "data": {
      "text/plain": [
       "16"
      ]
     },
     "execution_count": 41,
     "metadata": {},
     "output_type": "execute_result"
    }
   ],
   "source": [
    "# a lambda for a simple case\n",
    "\n",
    "square = lambda x: x**2\n",
    "\n",
    "square(4)"
   ]
  },
  {
   "cell_type": "markdown",
   "metadata": {},
   "source": [
    "This is, er... interesting. \n",
    "\n",
    "So, a _lambda_ here is what we call an anonymous function i.e. it has no name to itself. \n",
    "\n",
    "Yes, people are going to say \"but isn't it called `square`?\" Here, `square` is a <u>variable</u> that holds the functional code but the actual lambda itself has no name.\n",
    "\n",
    "The idea of lambdas is something that you'll become more familiar with when you discuss *sorting* in Python with Pandas. \n",
    "\n",
    "Lambdas *are* largely identical to functions where you define a parameter and what you do to the parameter (in this case, `x`).\n",
    "\n",
    "However, the `return` keyword is <u>implicit</u> so we **DO NOT** mention it <u>ex</u>plicitly. \n",
    "\n",
    "As you see above, you can store a lambda as a variable although we don't do that often. "
   ]
  },
  {
   "cell_type": "markdown",
   "metadata": {},
   "source": [
    "And with that, let's get onto the finale... **objects**!"
   ]
  },
  {
   "cell_type": "markdown",
   "metadata": {},
   "source": [
    "# 11. Object-oriented programming (OOP)\n",
    "## 11.1 Why objectify?"
   ]
  },
  {
   "cell_type": "markdown",
   "metadata": {},
   "source": [
    "Well, we've seen a lot of stuff that we can use in Python, namely data types, functions and methods. \n",
    "\n",
    "All the data types we've used are known as **objects** that have been provided by the standard Python package and they've worked for our standard cases _so far_. \n",
    "\n",
    "However, if we're going to go out into the real world, we're going to need some custom tools that suit our job requirements.<br>As it seems clear, it's our task to develop those custom tools as <u>user-defined</u> objects in order to complete our job. "
   ]
  },
  {
   "cell_type": "markdown",
   "metadata": {},
   "source": [
    "Before we really delve into creating our own custom objects, let's quickly discuss what we would like objects to have from a programming perspective:\n",
    "\n",
    "- Objects can have attributes attached to them. When I discuss the idea of an _attribute_, I am referring to a property of the object in question. \n",
    "\n",
    "It would be very cool when I create something like a `coin` object and be able to do something like:\n",
    "\n",
    "    ethereum.price\n",
    "\n",
    "to extract the price of just the ethereum coin from a generic `coin` blueprint, so-to speak (hmm... more on blueprints momentarily)\n",
    "\n",
    "- Objects can have methods attached to them. When I execute a method, the output is customised to the specific object that the method is called on\n",
    "\n",
    "It would also be very cool when I do something like this:\n",
    "\n",
    "    ethereum.sell(20)\n",
    "\n",
    "to sell just 20 specific units of the specific ethereum coin that I'm holding. \n",
    "\n",
    "Lo and behold, we can do that with objects!\n",
    "\n",
    "Specifically, this is the realm of **object-oriented programming** i.e. our code revolves around these custom entities called `objects`!\n",
    "\n",
    "_Just to be clear here_: Objects are **NOT** exclusive to just cryptocurrencies and algorithmic trading - you will see them _everywhere_!\n",
    "\n",
    "Here, we'll introduce them to you in a simple fashion so you can use them whenever you need in the future. "
   ]
  },
  {
   "cell_type": "markdown",
   "metadata": {},
   "source": [
    "First, we need to draw out a blueprint for our object.\n",
    "\n",
    "This is what we call the object's **class**. "
   ]
  },
  {
   "cell_type": "markdown",
   "metadata": {},
   "source": [
    "## 11.2 Classes for Python to learn how objects are created"
   ]
  },
  {
   "cell_type": "markdown",
   "metadata": {},
   "source": [
    "Creating classes is a <u>specific</u> process.\n",
    "\n",
    "I aim to stress this point as all classes are created in the same way (but don't worry, I will walk you through the process). \n",
    "\n",
    "First, we need to use the `class` keyword and give our class a name.\n",
    "\n",
    "Let's design a class that mimics, hmm... people like ourselves!\n",
    "\n",
    "    class Human:\n",
    "        # insert some code here"
   ]
  },
  {
   "cell_type": "markdown",
   "metadata": {},
   "source": [
    "As you might have spotted, this is a bit like doing a function declaraion:\n",
    "\n",
    "    def function():\n",
    "        return\n",
    "\n",
    "You see - rinse and repeat your foundations, as per!\n",
    "\n",
    "Next, you need to define a specific method called the `__init__()`. \n",
    "\n",
    "This \"`init`\" method is the subroutine that's run when the object is first created - it will create the object from the class blueprint and attach some desired attributes.\n",
    "\n",
    "    def __init__():\n",
    "\n",
    "Notice, as it's still a sub-routine, we use the `def` keyword as per functions. "
   ]
  },
  {
   "cell_type": "markdown",
   "metadata": {},
   "source": [
    "### 11.2.2. How do we differentiate between two different objects created from the same class?"
   ]
  },
  {
   "cell_type": "markdown",
   "metadata": {},
   "source": [
    "Good question, if you asked!\n",
    "\n",
    "So, let's look at our progress so far:\n",
    "\n",
    "    class Human:\n",
    "        def __init__():\n",
    "            # insert some code here\n",
    "\n",
    "To create a human being in our computer program, we'd like to supply a `name` and an `age`. To do this, we're going to include them as the `init` parameters:\n",
    "\n",
    "    class Human:\n",
    "        def __init__(name, age):\n",
    "            # insert some code here\n",
    "\n",
    "Let's also think about creating a greeting for this human class so all the humans we create can say their own name:\n",
    "\n",
    "    class Human:\n",
    "        def __init__(name, age):\n",
    "            # insert some code here\n",
    "        \n",
    "        def greeting():\n",
    "            print(\"Hello, my name is \" + name)\n",
    "\n",
    "So, in our minds, we could create our _instances_ of Human by doing the following:\n",
    "\n",
    "    human1 = Human(\"Ahmad\", 23)\n",
    "    human2 = Human(\"Sarah\", 46)\n",
    "\n",
    "and by using the `.greeting()` method, we could do the following:\n",
    "\n",
    "    human1.greeting()\n",
    "    >> Hello, my name is Ahmad\n",
    "    human2.greeting()\n",
    "    >> Hello, my name is Sarah\n",
    "\n",
    "Just to be clear, we have a blueprint `human` class of which we create **instances** of the class, which are now *objects*. \n",
    "\n",
    "_However_, an issue exists.\n",
    "\n",
    "Recall the code so far from above:\n",
    "\n",
    "    class Human:\n",
    "        def __init__(name, age):\n",
    "            # insert some code here\n",
    "        \n",
    "        def greeting():\n",
    "            print(\"Hello, my name is \" + name)\n",
    "\n",
    "How do I know that when I do\n",
    "\n",
    "    human1.greeting()\n",
    "\n",
    "that I _know_ the computer will understand it will need to refer to Ahmad and not Sarah?\n",
    "\n",
    "Yes, it's true that `human1` is a different variable name to `human2` but the thing is that <u>I</u> know that - the computer <u>doesn't</u>. \n",
    "\n",
    "I need to hard-code a way to make it explicitly clear to the computer that when an object from the `Human` class uses its `.greeting()` method, the object is referencing to it<u>self</u> and not any other object made from the same blueprint. \n",
    "\n",
    "I need to make sure that I am referring to the object it**self**... it<u>self</u>... self! **EUREKA!**"
   ]
  },
  {
   "cell_type": "markdown",
   "metadata": {},
   "source": [
    "## 11.3 The elusive `self` keyword"
   ]
  },
  {
   "cell_type": "markdown",
   "metadata": {},
   "source": [
    "What Python does under the hood is that whenever we run an object's method:\n",
    "\n",
    "    human1.greeting()\n",
    "\n",
    "is that a default parameter is passed _first_ to the Python interpreter called `self`. \n",
    "\n",
    "What I mean by this is that when we run:\n",
    "\n",
    "    human1.greeting()\n",
    "\n",
    "the interpreter takes this and inserts the `self` keyword and actually does:\n",
    "\n",
    "    human1.greeting(self)\n",
    "\n",
    "So, when python sees that `human1` wishes to use its `.greeting()` method, the interpreter checks the blueprint and sees that it needs to execute the `.greeting()` method with an output customised to `human1` and **NOT** `human2`. \n",
    "\n",
    "**REMEMBER** You write this:\n",
    "\n",
    "    human1.greeting()\n",
    "\n",
    "so that the computer does this:\n",
    "\n",
    "    human1.greeting(self)\n",
    "\n",
    "How is this achieved in Python? Simple:\n",
    "\n",
    "    class Human:\n",
    "        def __init__(self, name, age):\n",
    "            self.name = name\n",
    "            self.age = age\n",
    "        \n",
    "        def greeting(self):\n",
    "            print(\"Hello, my name is \" + self.name)\n",
    "\n",
    "All that is done is that we've _first_ passed `self` as a parameter, followed by any other parameters of interest. \n",
    "\n",
    "**This code <u>now</u> works.** Try it!"
   ]
  },
  {
   "cell_type": "code",
   "execution_count": 44,
   "metadata": {},
   "outputs": [
    {
     "name": "stdout",
     "output_type": "stream",
     "text": [
      "Hello, my name is Ahmad\n"
     ]
    }
   ],
   "source": [
    "# a blueprint to model humans on a computer\n",
    "\n",
    "class Human:\n",
    "    def __init__(self, name, age):\n",
    "        self.name = name\n",
    "        self.age = age\n",
    "    \n",
    "    def greeting(self):\n",
    "        print(\"Hello, my name is \" + self.name)\n",
    "\n",
    "human1 = Human(\"Ahmad\", 23)\n",
    "human2 = Human(\"Sarah\", 55)\n",
    "\n",
    "human1.greeting()"
   ]
  },
  {
   "cell_type": "markdown",
   "metadata": {},
   "source": [
    "Let's look at this code again. \n",
    "\n",
    "When we create an object:\n",
    "\n",
    "    human1 = Human(\"Ahmad\", 23)\n",
    "\n",
    "Python immediately runs the internal `__init__` method so that it creates an object. \n",
    "\n",
    "    def __init__(self, name, age)\n",
    "\n",
    "Here, the object takes a `name` and an `age` parameter and uses this to create an object:\n",
    "\n",
    "    self.name = name\n",
    "    self.age = age\n",
    "\n",
    "These are the object's _attributes_. They set the specific object's \"properties\" (so to speak) and make the object unique from any other object made from the same blueprint class:\n",
    "\n",
    "    human1.age # 23"
   ]
  },
  {
   "cell_type": "markdown",
   "metadata": {},
   "source": [
    "_(On a sidenote)_ This is a huge issue as to how OOP is taught to beginners. \n",
    "\n",
    "Rarely do people ever discuss _why_ things are designed the way they are. Instead, out of desperation to pass an exam grade or complete a job, we just learn how to get the job done without really appreciating how things were designed with a specific purpose in mind. "
   ]
  },
  {
   "cell_type": "markdown",
   "metadata": {},
   "source": [
    "### 11.3.2. Some important take-home points on `self`"
   ]
  },
  {
   "cell_type": "markdown",
   "metadata": {},
   "source": [
    "Just to add a bit more colour here, the `__init__(self, )` method is loosely knows as the class **constructor**. \n",
    "\n",
    "Essentially, a _constructor_ in <u>OOP</u> is the function that is run when you create an object (instance) from a class. \n",
    "\n",
    "I like to think of the `self` keyword as the reference to add attribute to the object where it was created it<u>self</u>.\n",
    "\n",
    "The `self` keyword has more uses when we discuss the idea of class methods (as you will see momentarily)."
   ]
  },
  {
   "cell_type": "markdown",
   "metadata": {},
   "source": [
    "- Remember: you **must** include `self` as the first parameter in any class method!\n",
    "\n",
    "This is because it is _implicitly_ passed by the computer when you create an object or use any of the object's methods. \n",
    "\n",
    "- Remember: attributes do **NOT** require brackets when they are accessed as they are **NOT** subroutines\n",
    "\n",
    "Doing something like\n",
    "\n",
    "    human1.age\n",
    "\n",
    "is **NOT** running any subroutines that require some form of an input and return an output. \n",
    "\n",
    "However, doing:\n",
    "\n",
    "    human1.greeting()\n",
    "\n",
    "does show the <u>intention</u> to run a subroutine and hence requires rounded brackets. \n",
    "\n",
    "Some of you will also ask \"hey, how does `human1.greeting()` show it's a subroutine if there is no parameter inside the rounded brackets?\n",
    "\n",
    "- Remember (again): the implicit argument `self` is provided as the input to show that it's referencing `human1` and not `human2` to customise the output. \n",
    "\n",
    "_Phew_. \n",
    "\n",
    "Let's wrap up some final points before we call it a day. "
   ]
  },
  {
   "cell_type": "markdown",
   "metadata": {},
   "source": [
    "## 11.4. Final points on (introductory-ish) OOP"
   ]
  },
  {
   "cell_type": "markdown",
   "metadata": {},
   "source": [
    "OOP has a wide variety of potential use cases:\n",
    "\n",
    "- Generating models of a user for a network\n",
    "- Data science when using Pandas\n",
    "- Performing statistical simulations with unique models e.g. Ising Lattice (if you study 3rd year Chemistry at Imperial)\n",
    "\n",
    "One way to think about classes is a blueprint for e.g. a house. \n",
    "\n",
    "- You create the house by looking at the blueprint and constructing it according to the plans. \n",
    "- You can then create thousands of houses that look identical (as they share the same plan) but with different addresses, just like objects from the same class but different locations in memory. \n",
    "\n",
    "The objects that you create are known as **instances** of the class, where you can set specific object properties known as **attributes** - just like age, name, gender etc. of a human being. "
   ]
  },
  {
   "cell_type": "markdown",
   "metadata": {},
   "source": [
    "# 12. Final Words"
   ]
  },
  {
   "cell_type": "markdown",
   "metadata": {},
   "source": [
    "If you've reached this far, well done on completing Lecture 0!\n",
    "\n",
    "I hope you enjoyed that walkthrough of Python as much as we tried in creating it!\n",
    "\n",
    "Come to our upcoming sessions to develop your skills on top of the Python skills you learnt today. \n",
    "\n",
    "Best wishes,\n",
    "Ahmad. "
   ]
  }
 ],
 "metadata": {
  "kernelspec": {
   "display_name": "Python 3 (ipykernel)",
   "language": "python",
   "name": "python3"
  },
  "language_info": {
   "codemirror_mode": {
    "name": "ipython",
    "version": 3
   },
   "file_extension": ".py",
   "mimetype": "text/x-python",
   "name": "python",
   "nbconvert_exporter": "python",
   "pygments_lexer": "ipython3",
   "version": "3.9.5"
  },
  "vscode": {
   "interpreter": {
    "hash": "f75883bbb2298c85488032bb996c36d1680e673639c308dfac8114ab3ae14dfd"
   }
  }
 },
 "nbformat": 4,
 "nbformat_minor": 2
}
