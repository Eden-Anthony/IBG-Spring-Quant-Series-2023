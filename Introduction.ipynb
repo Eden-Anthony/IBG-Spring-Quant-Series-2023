{
 "cells": [
  {
   "cell_type": "markdown",
   "metadata": {},
   "source": [
    "# Imperial Blockchain Quant Series 2023\n",
    "\n",
    "Welcome to the Quant Series, brought to you by the Imperial Blockchain Society!\n",
    "\n",
    "In this series, we will explore the application of quantitative techniques in the field of blockchain and cryptocurrency.\n",
    "\n",
    "Here are some quick links to stay connected with us:\n",
    "- Follow us on [Instagram](https://www.instagram.com/blockchain_ic/), [LinkedIn](https://www.linkedin.com/company/imperial-blockchain-group/) and [Twitter](https://twitter.com/imperialblockchain) for updates and announcements\n",
    "- Join us on [Whatsapp](https://chat.whatsapp.com/IRXDw5KmxAW7cWqBQfRunP) and [Discord](https://discord.gg/d8px27As) for discussions and asking any questions blockchain-related\n",
    "- If you are an Imperial student, join our [society](https://www.imperialcollegeunion.org/activities/a-to-z/blockchain), IT'S FREE!\n"
   ]
  },
  {
   "cell_type": "markdown",
   "metadata": {},
   "source": [
    "#### Tools Used In This Course:\n",
    "\n",
    "- Python\n",
    "- Github\n",
    "\n",
    "##### Pre-Requisites:\n",
    "\n",
    "- A laptop and a curious mind\n",
    "\n",
    "##### Here is a list of topics that we will cover in this series:\n",
    "\n",
    "- **Python 101** \n",
    "- **Pandas 101**\n",
    "- **Exchange API & Financial Instruments In Crypto**\n",
    "- **Directional Trading**\n",
    "    - Momentum Strategies\n",
    "    - Mean Reversion Strategies\n",
    "- **Non-Directional Trading**\n",
    "    - Market Making\n",
    "    - Relative Value\n",
    "- **Non-Directional Trading**\n",
    "    - MEV Strategies\n",
    "- **Risk Management**\n",
    "    - Portfolio Optimisation\n",
    "    - Sharpe Ratio\n",
    "- **Decentralised Options**\n",
    "    - Squeeth\n",
    "    - Crab Strategy\n",
    "- **BONUS: Trading Macroeconomics**"
   ]
  },
  {
   "cell_type": "markdown",
   "metadata": {},
   "source": [
    "Note: this series is done in collaboration with [Data Science Society](\"https://www.imperialcollegeunion.org/activities/a-to-z/data-science\") and [Fintech Society](https://www.imperialcollegeunion.org/activities/a-to-z/fintech) as well as being funded by [Imperial College Business School](https://www.imperial.ac.uk/business-school/).\n",
    "\n",
    "We hope you enjoy this series and learn something new! If you have any questions or suggestions, feel free to reach out to us."
   ]
  },
  {
   "cell_type": "markdown",
   "metadata": {},
   "source": [
    "<div>\n",
    "<img src=\"Session Info\\Session 1 - Info.jpg\" width=\"500\"/>\n",
    "</div>"
   ]
  },
  {
   "cell_type": "markdown",
   "metadata": {},
   "source": []
  }
 ],
 "metadata": {
  "kernelspec": {
   "display_name": "Python 3.10.9 64-bit (microsoft store)",
   "language": "python",
   "name": "python3"
  },
  "language_info": {
   "name": "python",
   "version": "3.10.9"
  },
  "orig_nbformat": 4,
  "vscode": {
   "interpreter": {
    "hash": "96f7defb9b5b9ea19dc2fee60ef6d04216c527479ca16044c6d9f39c1e474b96"
   }
  }
 },
 "nbformat": 4,
 "nbformat_minor": 2
}
