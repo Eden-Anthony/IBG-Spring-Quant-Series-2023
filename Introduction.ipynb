{
 "cells": [
  {
   "cell_type": "markdown",
   "metadata": {},
   "source": [
    "# Imperial Blockchain Quant Series 2023\n",
    "\n",
    "Welcome to the Quant Series, brought to you by the Imperial Blockchain Society!\n",
    "\n",
    "In this series, we will explore the application of quantitative techniques in the field of blockchain and cryptocurrency.\n",
    "\n",
    "Here are some quick links to stay connected with us:\n",
    "- Follow us on [Instagram](https://www.instagram.com/blockchain_ic/), [LinkedIn](https://www.linkedin.com/company/imperial-blockchain-group/) and [Twitter](https://twitter.com/imperialblockchain) for updates and announcements\n",
    "- Join us on [Whatsapp](https://chat.whatsapp.com/IRXDw5KmxAW7cWqBQfRunP) and [Discord](https://discord.gg/d8px27As) for discussions and asking any questions blockchain-related\n",
    "- If you are an Imperial student, join our [society](https://www.imperialcollegeunion.org/activities/a-to-z/blockchain), IT'S FREE!\n"
   ]
  },
  {
   "cell_type": "markdown",
   "metadata": {},
   "source": [
    "#### Tools Used In This Course:\n",
    "\n",
    "- Python\n",
    "- Github\n",
    "\n",
    "##### Pre-Requisites:\n",
    "\n",
    "- A laptop and an eager mind\n",
    "\n",
    "##### Here is a list of topics that we will cover in this series:\n",
    "\n",
    "- **Python 101** \n",
    "- **Pandas 101**\n",
    "- **Exchange API & Financial Instruments In Crypto**\n",
    "- **Directional Trading**\n",
    "    - Momentum Strategies\n",
    "    - Mean Reversion Strategies\n",
    "- **Non-Directional Trading**\n",
    "    - Market Making\n",
    "    - Relative Value\n",
    "- **Non-Directional Trading**\n",
    "    - MEV Strategies\n",
    "- **Risk Management**\n",
    "    - Portfolio Optimisation\n",
    "    - Sharpe Ratio\n",
    "- **Decentralised Options**\n",
    "    - Squeeth\n",
    "    - Crab Strategy\n",
    "- **BONUS: Trading Macroeconomics**"
   ]
  },
  {
   "cell_type": "markdown",
   "metadata": {},
   "source": [
    "We hope you enjoy this series and learn something new! If you have any questions or suggestions, feel free to reach out to us."
   ]
  }
 ],
 "metadata": {
  "language_info": {
   "name": "python"
  },
  "orig_nbformat": 4
 },
 "nbformat": 4,
 "nbformat_minor": 2
}
